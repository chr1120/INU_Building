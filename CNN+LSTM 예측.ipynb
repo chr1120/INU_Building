{
 "cells": [
  {
   "cell_type": "code",
   "execution_count": 1,
   "id": "9a0326fc",
   "metadata": {},
   "outputs": [
    {
     "data": {
      "text/html": [
       "        <script type=\"text/javascript\">\n",
       "        window.PlotlyConfig = {MathJaxConfig: 'local'};\n",
       "        if (window.MathJax) {MathJax.Hub.Config({SVG: {font: \"STIX-Web\"}});}\n",
       "        if (typeof require !== 'undefined') {\n",
       "        require.undef(\"plotly\");\n",
       "        requirejs.config({\n",
       "            paths: {\n",
       "                'plotly': ['https://cdn.plot.ly/plotly-2.9.0.min']\n",
       "            }\n",
       "        });\n",
       "        require(['plotly'], function(Plotly) {\n",
       "            window._Plotly = Plotly;\n",
       "        });\n",
       "        }\n",
       "        </script>\n",
       "        "
      ]
     },
     "metadata": {},
     "output_type": "display_data"
    }
   ],
   "source": [
    "#https://leedakyeong.tistory.com/entry/Deep-Learning-for-Time-Series-Forecasting-kaggle\n",
    "import warnings\n",
    "import numpy as np\n",
    "import pandas as pd\n",
    "import matplotlib.pyplot as plt\n",
    "import tensorflow\n",
    "from tensorflow.keras import optimizers\n",
    "from tensorflow.keras.utils import plot_model\n",
    "from tensorflow.keras.models import Sequential,Model\n",
    "from tensorflow.keras.layers import Conv1D, MaxPooling1D\n",
    "from tensorflow.keras.layers import Dense, LSTM, RepeatVector, TimeDistributed, Flatten\n",
    "from sklearn.metrics import mean_squared_error\n",
    "from sklearn.model_selection import train_test_split\n",
    "import plotly.graph_objs as go\n",
    "from plotly.offline import init_notebook_mode, iplot\n",
    "\n",
    "%matplotlib inline\n",
    "warnings.filterwarnings(\"ignore\")\n",
    "init_notebook_mode(connected=True)\n",
    "\n",
    "#Set seeds to make the experiment more reproducible\n",
    "from numpy.random import seed\n",
    "tensorflow.random.set_seed(1)\n",
    "seed(1)"
   ]
  },
  {
   "cell_type": "code",
   "execution_count": 2,
   "id": "842c9eee",
   "metadata": {},
   "outputs": [
    {
     "data": {
      "image/png": "[encoded data removed]",
      "text/plain": [
       "<Figure size 432x288 with 1 Axes>"
      ]
     },
     "metadata": {
      "needs_background": "light"
     },
     "output_type": "display_data"
    }
   ],
   "source": [
    "# https://blog.naver.com/chromatic_365/222657670527\n",
    "import pandas as pd\n",
    "import seaborn as sns\n",
    "import matplotlib.pyplot as plt\n",
    "%matplotlib inline\n",
    "import numpy as np\n",
    "import pymysql\n",
    "import matplotlib as mpl\n",
    "\n",
    "# mysql db 연동\n",
    "db = pymysql.connect(host='127.0.0.1',password='gkftndlTek!!',user='root',db='tp',charset='utf8', \n",
    "    cursorclass=pymysql.cursors.DictCursor)\n",
    "\n",
    "cursor = db.cursor()\n",
    "\n",
    "query = \"select DATETIME, PU1, TE1, P1 from wholeData where DATETIME between '2014-01-01 00:00:00' and '2016-12-31 23:00:00'\"\n",
    "cursor.execute(query)\n",
    "db_export = cursor.fetchall()\n",
    "\n",
    "tp=pd.DataFrame(db_export)\n",
    "#db_result_df = db_result_df.drop([db_result_df.columns[0]], axis=1) # 중복 index열 삭제\n",
    "\n",
    "# scaling\n",
    "def standard_scaling(df, scale_columns):\n",
    "    for col in scale_columns:\n",
    "        series_mean = df[col].mean()\n",
    "        series_std = df[col].std()\n",
    "        df[col] = df[col].apply(lambda x: (x-series_mean)/series_std)\n",
    "    return df\n",
    "scale_columns = ['PU1', 'TE1', 'P1']\n",
    "\n",
    "tp_df=standard_scaling(tp, scale_columns)\n",
    "tp_df\n",
    "\n",
    "tp_df.index=tp_df['DATETIME']\n",
    "tp_df.set_index('DATETIME', inplace=True)\n",
    "tp_df.plot()\n",
    "plt.show()\n",
    "\n",
    "# 5. Train/Valudation Split\n",
    "from sklearn import linear_model\n",
    "from sklearn.model_selection import train_test_split\n",
    "from sklearn.metrics import mean_squared_error\n",
    "from math import sqrt\n",
    "\n",
    "# 학습 데이터와 테스트 데이터로 분리한다.\n",
    "# 'PU1'를 제외한 칼럼들은 x\n",
    "x=tp_df[tp_df.columns.difference(['TE1'])]\n",
    "\n",
    "y=tp_df['TE1']\n",
    "\n",
    "# 검증(test)는 20%로 한다. = test_size=0.4\n",
    "X_train, X_valid, y_train, y_valid=train_test_split(x,y,test_size=0.4,random_state=19)"
   ]
  },
  {
   "cell_type": "code",
   "execution_count": 3,
   "id": "fe5cee5a",
   "metadata": {},
   "outputs": [],
   "source": [
    "X_train_series=X_train.values.reshape((X_train.shape[0],X_train.shape[1],1))\n",
    "X_valid_series=X_valid.values.reshape((X_valid.shape[0],X_valid.shape[1],1))"
   ]
  },
  {
   "cell_type": "code",
   "execution_count": 4,
   "id": "34e462e6",
   "metadata": {},
   "outputs": [],
   "source": [
    "subsequences=2\n",
    "timesteps=X_train_series.shape[1] // subsequences\n",
    "X_train_series_sub=X_train_series.reshape((X_train_series.shape[0], subsequences,timesteps,1))\n",
    "X_valid_series_sub=X_valid_series.reshape((X_valid_series.shape[0],subsequences,timesteps,1))"
   ]
  },
  {
   "cell_type": "code",
   "execution_count": 5,
   "id": "db22af03",
   "metadata": {},
   "outputs": [
    {
     "name": "stdout",
     "output_type": "stream",
     "text": [
      "Train set shape (15758, 2, 1, 1)\n",
      "Validation set shape (10506, 2, 1, 1)\n"
     ]
    }
   ],
   "source": [
    "print('Train set shape',X_train_series_sub.shape)\n",
    "print('Validation set shape', X_valid_series_sub.shape)"
   ]
  },
  {
   "cell_type": "code",
   "execution_count": 6,
   "id": "c7390f03",
   "metadata": {},
   "outputs": [],
   "source": [
    "# 40번 반복학습하고, 한번에 256개씩 학습하며, learning rate는 0.0003으로 설정\n",
    "# optimizer는 adam을 사용\n",
    "epochs=40\n",
    "batch=256\n",
    "lr=0.0003\n",
    "adam=optimizers.Adam(lr)\n",
    "\n",
    "# Model Architecture\n",
    "model_cnn_lstm=Sequential()\n",
    "model_cnn_lstm.add(TimeDistributed(Conv1D(filters=64, kernel_size=1, activation='relu'),input_shape=(None, X_train_series.shape[2], X_train_series_sub.shape[3])))\n",
    "model_cnn_lstm.add(TimeDistributed(MaxPooling1D(pool_size=1)))\n",
    "model_cnn_lstm.add(TimeDistributed(Flatten()))\n",
    "model_cnn_lstm.add(LSTM(50,activation='relu'))\n",
    "model_cnn_lstm.add(Dense(1))\n",
    "model_cnn_lstm.compile(loss='mse',optimizer=adam)"
   ]
  },
  {
   "cell_type": "code",
   "execution_count": 7,
   "id": "de5e32f4",
   "metadata": {},
   "outputs": [
    {
     "name": "stdout",
     "output_type": "stream",
     "text": [
      "Model: \"sequential\"\n",
      "_________________________________________________________________\n",
      " Layer (type)                Output Shape              Param #   \n",
      "=================================================================\n",
      " time_distributed (TimeDistr  (None, None, 1, 64)      128       \n",
      " ibuted)                                                         \n",
      "                                                                 \n",
      " time_distributed_1 (TimeDis  (None, None, 1, 64)      0         \n",
      " tributed)                                                       \n",
      "                                                                 \n",
      " time_distributed_2 (TimeDis  (None, None, 64)         0         \n",
      " tributed)                                                       \n",
      "                                                                 \n",
      " lstm (LSTM)                 (None, 50)                23000     \n",
      "                                                                 \n",
      " dense (Dense)               (None, 1)                 51        \n",
      "                                                                 \n",
      "=================================================================\n",
      "Total params: 23,179\n",
      "Trainable params: 23,179\n",
      "Non-trainable params: 0\n",
      "_________________________________________________________________\n"
     ]
    }
   ],
   "source": [
    "model_cnn_lstm.summary()"
   ]
  },
  {
   "cell_type": "code",
   "execution_count": 9,
   "id": "9fbbea19",
   "metadata": {
    "scrolled": false
   },
   "outputs": [
    {
     "name": "stdout",
     "output_type": "stream",
     "text": [
      "Epoch 1/40\n",
      "493/493 - 18s - loss: 0.8544 - val_loss: 0.7716 - 18s/epoch - 37ms/step\n",
      "Epoch 2/40\n",
      "493/493 - 17s - loss: 0.7257 - val_loss: 0.7053 - 17s/epoch - 35ms/step\n",
      "Epoch 3/40\n",
      "493/493 - 17s - loss: 0.6876 - val_loss: 0.6776 - 17s/epoch - 35ms/step\n",
      "Epoch 4/40\n",
      "493/493 - 18s - loss: 0.6686 - val_loss: 0.6683 - 18s/epoch - 36ms/step\n",
      "Epoch 5/40\n",
      "493/493 - 17s - loss: 0.6611 - val_loss: 0.6637 - 17s/epoch - 35ms/step\n",
      "Epoch 6/40\n",
      "493/493 - 17s - loss: 0.6570 - val_loss: 0.6611 - 17s/epoch - 35ms/step\n",
      "Epoch 7/40\n",
      "493/493 - 17s - loss: 0.6561 - val_loss: 0.6591 - 17s/epoch - 35ms/step\n",
      "Epoch 8/40\n",
      "493/493 - 17s - loss: 0.6536 - val_loss: 0.6585 - 17s/epoch - 35ms/step\n",
      "Epoch 9/40\n",
      "493/493 - 17s - loss: 0.6525 - val_loss: 0.6581 - 17s/epoch - 35ms/step\n",
      "Epoch 10/40\n",
      "493/493 - 17s - loss: 0.6516 - val_loss: 0.6598 - 17s/epoch - 35ms/step\n",
      "Epoch 11/40\n",
      "493/493 - 17s - loss: 0.6510 - val_loss: 0.6588 - 17s/epoch - 35ms/step\n",
      "Epoch 12/40\n",
      "493/493 - 18s - loss: 0.6491 - val_loss: 0.6590 - 18s/epoch - 36ms/step\n",
      "Epoch 13/40\n",
      "493/493 - 17s - loss: 0.6505 - val_loss: 0.6547 - 17s/epoch - 35ms/step\n",
      "Epoch 14/40\n",
      "493/493 - 18s - loss: 0.6498 - val_loss: 0.6555 - 18s/epoch - 36ms/step\n",
      "Epoch 15/40\n",
      "493/493 - 17s - loss: 0.6484 - val_loss: 0.6578 - 17s/epoch - 35ms/step\n",
      "Epoch 16/40\n",
      "493/493 - 17s - loss: 0.6482 - val_loss: 0.6555 - 17s/epoch - 35ms/step\n",
      "Epoch 17/40\n",
      "493/493 - 17s - loss: 0.6474 - val_loss: 0.6571 - 17s/epoch - 35ms/step\n",
      "Epoch 18/40\n",
      "493/493 - 18s - loss: 0.6474 - val_loss: 0.6541 - 18s/epoch - 36ms/step\n",
      "Epoch 19/40\n",
      "493/493 - 18s - loss: 0.6462 - val_loss: 0.6534 - 18s/epoch - 35ms/step\n",
      "Epoch 20/40\n",
      "493/493 - 19s - loss: 0.6467 - val_loss: 0.6563 - 19s/epoch - 38ms/step\n",
      "Epoch 21/40\n",
      "493/493 - 18s - loss: 0.6458 - val_loss: 0.6523 - 18s/epoch - 36ms/step\n",
      "Epoch 22/40\n",
      "493/493 - 17s - loss: 0.6454 - val_loss: 0.6531 - 17s/epoch - 35ms/step\n",
      "Epoch 23/40\n",
      "493/493 - 17s - loss: 0.6450 - val_loss: 0.6539 - 17s/epoch - 35ms/step\n",
      "Epoch 24/40\n",
      "493/493 - 17s - loss: 0.6454 - val_loss: 0.6529 - 17s/epoch - 35ms/step\n",
      "Epoch 25/40\n",
      "493/493 - 17s - loss: 0.6451 - val_loss: 0.6543 - 17s/epoch - 35ms/step\n",
      "Epoch 26/40\n",
      "493/493 - 17s - loss: 0.6445 - val_loss: 0.6525 - 17s/epoch - 35ms/step\n",
      "Epoch 27/40\n",
      "493/493 - 17s - loss: 0.6444 - val_loss: 0.6555 - 17s/epoch - 35ms/step\n",
      "Epoch 28/40\n",
      "493/493 - 17s - loss: 0.6431 - val_loss: 0.6548 - 17s/epoch - 35ms/step\n",
      "Epoch 29/40\n",
      "493/493 - 17s - loss: 0.6431 - val_loss: 0.6515 - 17s/epoch - 35ms/step\n",
      "Epoch 30/40\n",
      "493/493 - 17s - loss: 0.6429 - val_loss: 0.6536 - 17s/epoch - 35ms/step\n",
      "Epoch 31/40\n",
      "493/493 - 17s - loss: 0.6424 - val_loss: 0.6504 - 17s/epoch - 35ms/step\n",
      "Epoch 32/40\n",
      "493/493 - 17s - loss: 0.6427 - val_loss: 0.6504 - 17s/epoch - 35ms/step\n",
      "Epoch 33/40\n",
      "493/493 - 17s - loss: 0.6424 - val_loss: 0.6534 - 17s/epoch - 35ms/step\n",
      "Epoch 34/40\n",
      "493/493 - 17s - loss: 0.6418 - val_loss: 0.6582 - 17s/epoch - 35ms/step\n",
      "Epoch 35/40\n",
      "493/493 - 12s - loss: 0.6414 - val_loss: 0.6512 - 12s/epoch - 24ms/step\n",
      "Epoch 36/40\n",
      "493/493 - 18s - loss: 0.6418 - val_loss: 0.6484 - 18s/epoch - 36ms/step\n",
      "Epoch 37/40\n",
      "493/493 - 17s - loss: 0.6404 - val_loss: 0.6521 - 17s/epoch - 35ms/step\n",
      "Epoch 38/40\n",
      "493/493 - 17s - loss: 0.6412 - val_loss: 0.6482 - 17s/epoch - 35ms/step\n",
      "Epoch 39/40\n",
      "493/493 - 17s - loss: 0.6404 - val_loss: 0.6480 - 17s/epoch - 35ms/step\n",
      "Epoch 40/40\n",
      "493/493 - 17s - loss: 0.6407 - val_loss: 0.6513 - 17s/epoch - 35ms/step\n"
     ]
    }
   ],
   "source": [
    "cnn_lstm_history=model_cnn_lstm.fit(X_train_series_sub,y_train,validation_data=(X_valid_series_sub, y_valid),epochs=epochs,verbose=2)"
   ]
  },
  {
   "cell_type": "code",
   "execution_count": 11,
   "id": "16f6c35b",
   "metadata": {},
   "outputs": [],
   "source": [
    "cnn_lstm_train_pred=model_cnn_lstm.predict(X_train_series_sub)\n",
    "cnn_lstm_valid_pred=model_cnn_lstm.predict(X_valid_series_sub)\n",
    "\n",
    "Y_train=pd.DataFrame({'y_true':y_train,'y_pred':\n",
    "                     cnn_lstm_train_pred.reshape(cnn_lstm_train_pred.shape[0],)}).set_index(X_train.index).sort_index()\n",
    "Y_train=pd.merge(Y_train,tp_df,left_index=True,right_index=True,how='left')\n",
    "\n",
    "Y_valid=pd.DataFrame({'y_true':y_valid,'y_pred':\n",
    "                     cnn_lstm_valid_pred.reshape(cnn_lstm_valid_pred.shape[0],)}).set_index(X_valid.index).sort_index()\n",
    "Y_valid=pd.merge(Y_valid,tp_df,left_index=True,right_index=True,how='left')"
   ]
  },
  {
   "cell_type": "code",
   "execution_count": 12,
   "id": "9532ec06",
   "metadata": {},
   "outputs": [],
   "source": [
    "import pandas as pd\n",
    "import seaborn as sns\n",
    "import matplotlib.pyplot as plt\n",
    "%matplotlib inline\n",
    "import numpy as np\n",
    "import pymysql\n",
    "import matplotlib as mpl\n",
    "from sklearn import metrics\n",
    "\n",
    "def scoring(y_true,y_pred):\n",
    "    r2=round(metrics.r2_score(y_true,y_pred)*100,3)\n",
    "    \n",
    "    corr=round(np.corrcoef(y_true,y_pred)[0,1],3)\n",
    "    mape=round(metrics.mean_absolute_percentage_error(y_true,y_pred)*100,3)\n",
    "    rmse=round(metrics.mean_squared_error(y_true,y_pred,squared=False),3)\n",
    "    \n",
    "    df=pd.DataFrame({\n",
    "        'R2':r2,\n",
    "        \"Corr\":corr,\n",
    "        \"RMSE\":rmse,\n",
    "        \"MAPE\":mape\n",
    "    },\n",
    "    index=[0])\n",
    "    return df"
   ]
  },
  {
   "cell_type": "code",
   "execution_count": 13,
   "id": "a20a3629",
   "metadata": {},
   "outputs": [
    {
     "data": {
      "text/html": [
       "<div>\n",
       "<style scoped>\n",
       "    .dataframe tbody tr th:only-of-type {\n",
       "        vertical-align: middle;\n",
       "    }\n",
       "\n",
       "    .dataframe tbody tr th {\n",
       "        vertical-align: top;\n",
       "    }\n",
       "\n",
       "    .dataframe thead th {\n",
       "        text-align: right;\n",
       "    }\n",
       "</style>\n",
       "<table border=\"1\" class=\"dataframe\">\n",
       "  <thead>\n",
       "    <tr style=\"text-align: right;\">\n",
       "      <th></th>\n",
       "      <th>R2</th>\n",
       "      <th>Corr</th>\n",
       "      <th>RMSE</th>\n",
       "      <th>MAPE</th>\n",
       "    </tr>\n",
       "  </thead>\n",
       "  <tbody>\n",
       "    <tr>\n",
       "      <th>0</th>\n",
       "      <td>35.782</td>\n",
       "      <td>0.601</td>\n",
       "      <td>0.801</td>\n",
       "      <td>95.226</td>\n",
       "    </tr>\n",
       "  </tbody>\n",
       "</table>\n",
       "</div>"
      ],
      "text/plain": [
       "       R2   Corr   RMSE    MAPE\n",
       "0  35.782  0.601  0.801  95.226"
      ]
     },
     "execution_count": 13,
     "metadata": {},
     "output_type": "execute_result"
    }
   ],
   "source": [
    "scoring(Y_train.y_true, Y_train.y_pred)"
   ]
  },
  {
   "cell_type": "code",
   "execution_count": 14,
   "id": "04188e99",
   "metadata": {},
   "outputs": [
    {
     "data": {
      "text/html": [
       "<div>\n",
       "<style scoped>\n",
       "    .dataframe tbody tr th:only-of-type {\n",
       "        vertical-align: middle;\n",
       "    }\n",
       "\n",
       "    .dataframe tbody tr th {\n",
       "        vertical-align: top;\n",
       "    }\n",
       "\n",
       "    .dataframe thead th {\n",
       "        text-align: right;\n",
       "    }\n",
       "</style>\n",
       "<table border=\"1\" class=\"dataframe\">\n",
       "  <thead>\n",
       "    <tr style=\"text-align: right;\">\n",
       "      <th></th>\n",
       "      <th>R2</th>\n",
       "      <th>Corr</th>\n",
       "      <th>RMSE</th>\n",
       "      <th>MAPE</th>\n",
       "    </tr>\n",
       "  </thead>\n",
       "  <tbody>\n",
       "    <tr>\n",
       "      <th>0</th>\n",
       "      <td>34.87</td>\n",
       "      <td>0.593</td>\n",
       "      <td>0.807</td>\n",
       "      <td>86.987</td>\n",
       "    </tr>\n",
       "  </tbody>\n",
       "</table>\n",
       "</div>"
      ],
      "text/plain": [
       "      R2   Corr   RMSE    MAPE\n",
       "0  34.87  0.593  0.807  86.987"
      ]
     },
     "execution_count": 14,
     "metadata": {},
     "output_type": "execute_result"
    }
   ],
   "source": [
    "scoring(Y_valid.y_true, Y_valid.y_pred)"
   ]
  },
  {
   "cell_type": "code",
   "execution_count": 15,
   "id": "153295c5",
   "metadata": {},
   "outputs": [
    {
     "name": "stdout",
     "output_type": "stream",
     "text": [
      "Obs of Test Set : 3383\n"
     ]
    }
   ],
   "source": [
    "temp=Y_valid.loc[(Y_valid.PU1<=1)&(Y_valid.TE1>=-1)&(Y_valid.P1>=0),].sort_values('DATETIME')\n",
    "#temp=Y_test.sort_values('DATETIME')\n",
    "print(\"Obs of Test Set :\",temp.shape[0])"
   ]
  },
  {
   "cell_type": "code",
   "execution_count": 16,
   "id": "57fc3006",
   "metadata": {},
   "outputs": [
    {
     "data": {
      "text/html": [
       "<div>\n",
       "<style scoped>\n",
       "    .dataframe tbody tr th:only-of-type {\n",
       "        vertical-align: middle;\n",
       "    }\n",
       "\n",
       "    .dataframe tbody tr th {\n",
       "        vertical-align: top;\n",
       "    }\n",
       "\n",
       "    .dataframe thead th {\n",
       "        text-align: right;\n",
       "    }\n",
       "</style>\n",
       "<table border=\"1\" class=\"dataframe\">\n",
       "  <thead>\n",
       "    <tr style=\"text-align: right;\">\n",
       "      <th></th>\n",
       "      <th>R2</th>\n",
       "      <th>Corr</th>\n",
       "      <th>RMSE</th>\n",
       "      <th>MAPE</th>\n",
       "    </tr>\n",
       "  </thead>\n",
       "  <tbody>\n",
       "    <tr>\n",
       "      <th>0</th>\n",
       "      <td>7.445</td>\n",
       "      <td>0.279</td>\n",
       "      <td>0.936</td>\n",
       "      <td>80.076</td>\n",
       "    </tr>\n",
       "  </tbody>\n",
       "</table>\n",
       "</div>"
      ],
      "text/plain": [
       "      R2   Corr   RMSE    MAPE\n",
       "0  7.445  0.279  0.936  80.076"
      ]
     },
     "execution_count": 16,
     "metadata": {},
     "output_type": "execute_result"
    }
   ],
   "source": [
    "scoring(temp.y_true, temp.y_pred)"
   ]
  },
  {
   "cell_type": "code",
   "execution_count": 23,
   "id": "aa4e6066",
   "metadata": {},
   "outputs": [],
   "source": [
    "def abline(slope,intercept):\n",
    "    axes=plt.gca()\n",
    "    x_vals=np.array(axes.get_xlim())\n",
    "    y_vals=intercept+slope*x_vals\n",
    "    plt.plot(x_vals,y_vals,'--')\n",
    "    \n",
    "def MinMax(y_true,y_pred,m=\"min\"):\n",
    "    if(m==\"min\"):\n",
    "        return min(min(y_true),min(y_pred))-2\n",
    "    else:\n",
    "        return max(max(y_true),max(y_pred))+2\n",
    "    \n",
    "def myGraph(temp,title,index):\n",
    "    fig,axs=plt.subplots(1,2,figsize=(17,4))\n",
    "\n",
    "    axs[0].plot(temp.index,temp.y_true,label=\"Original\")\n",
    "    axs[0].plot(temp.index,temp.y_pred,label=\"Predicted\")\n",
    "    \n",
    "    axs[0].legend(loc='upper right')\n",
    "    axs[0].title.set_text('[CNN+LSTM] TE1_predicted')\n",
    "    axs[0].set_xlabel(\"DATETIME\")\n",
    "    axs[0].set_ylabel(\"TE1\")\n",
    "    \n",
    "    axs[1].plot(temp.y_true,temp.y_pred,'.')\n",
    "    \n",
    "    plt.xlim(MinMax(temp.y_true,temp.y_pred),MinMax(temp.y_true,temp.y_pred,\"max\"))\n",
    "\n",
    "    plt.ylim(MinMax(temp.y_true,temp.y_pred),MinMax(temp.y_true,temp.y_pred,\"max\"))\n",
    "    abline(1,0)\n",
    "    plt.title('[CNN+LSTM] TE1_predicted')\n",
    "    plt.xlabel(\"Original\")\n",
    "    plt.ylabel(\"Predicted\")\n",
    "\n",
    "    plt.show()"
   ]
  },
  {
   "cell_type": "code",
   "execution_count": 24,
   "id": "6bd49eab",
   "metadata": {},
   "outputs": [
    {
     "data": {
      "image/png": "[encoded data removed]",
      "text/plain": [
       "<Figure size 1224x288 with 2 Axes>"
      ]
     },
     "metadata": {
      "needs_background": "light"
     },
     "output_type": "display_data"
    }
   ],
   "source": [
    "myGraph(temp,'CNN+LSTM TE1','DATETIME')"
   ]
  },
  {
   "cell_type": "code",
   "execution_count": null,
   "id": "5db7534e",
   "metadata": {},
   "outputs": [],
   "source": []
  }
 ],
 "metadata": {
  "jupytext": {
   "formats": "ipynb,py:light"
  },
  "kernelspec": {
   "display_name": "Python 3 (ipykernel)",
   "language": "python",
   "name": "python3"
  },
  "language_info": {
   "codemirror_mode": {
    "name": "ipython",
    "version": 3
   },
   "file_extension": ".py",
   "mimetype": "text/x-python",
   "name": "python",
   "nbconvert_exporter": "python",
   "pygments_lexer": "ipython3",
   "version": "3.9.12"
  }
 },
 "nbformat": 4,
 "nbformat_minor": 5
}
