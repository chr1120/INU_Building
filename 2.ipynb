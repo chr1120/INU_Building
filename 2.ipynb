{
 "cells": [
  {
   "cell_type": "code",
   "execution_count": 1,
   "id": "c855b8a5",
   "metadata": {},
   "outputs": [],
   "source": [
    "# https://www.dacon.io/competitions/official/235736/codeshare/2844?page=undefined&dtype=recent&ptype&fType\n",
    "# https://www.kaggle.com/code/kensinnoh/energy-usage-prediction"
   ]
  },
  {
   "cell_type": "code",
   "execution_count": 2,
   "id": "ae800f5b",
   "metadata": {},
   "outputs": [],
   "source": [
    "# 1) 우선 필요한 변수를 생성하고 결측치를 채우는 '전처리'를 진행하고, \n",
    "# 2) '건물별 전력사용량에 대한 분석'과 이를 바탕으로 '유사한 건물들로 군집화'를 하여 이들의 '패턴을 확인'\n",
    "# 3) LSTM와 XGBoost를 활용하여 건물별 전력사용량을 예측"
   ]
  },
  {
   "cell_type": "code",
   "execution_count": 1,
   "id": "f6ef9e5b",
   "metadata": {},
   "outputs": [],
   "source": [
    "import pandas as pd\n",
    "import numpy as np\n",
    "import math\n",
    "\n",
    "# Visualizing\n",
    "import matplotlib.pyplot as plt\n",
    "plt.rcParams['font.family']='Malgun Gothic'; plt.rcParams['axes.unicode_minus']=False;\n",
    "import seaborn as sns; #sns.set_style('whitegrid')\n",
    "\n",
    "# Time Series Analysis\n",
    "import statsmodels.api as sm\n",
    "from statsmodels.tsa.stattools import adfuller,kpss,ccf\n",
    "from statsmodels.graphics.tsaplots import plot_acf, plot_pacf\n",
    "\n",
    "# Clustering (+알파)\n",
    "from sklearn.metrics import mean_squared_error, mean_absolute_error\n",
    "from sklearn.preprocessing import StandardScaler, MinMaxScaler\n",
    "from tslearn.clustering import TimeSeriesKMeans, silhouette_score\n",
    "from minisom import MiniSom\n",
    "\n",
    "# Modeling\n",
    "from keras.models import Sequential\n",
    "from keras.layers import LSTM\n",
    "from keras.layers import Dense,Dropout\n",
    "from sklearn.model_selection import train_test_split\n",
    "from xgboost import XGBRegressor\n",
    "from sklearn.model_selection import KFold\n",
    "from sklearn.metrics import mean_absolute_error\n",
    "\n",
    "# System\n",
    "from ipywidgets import interact\n",
    "from tqdm.notebook import tqdm\n",
    "import warnings\n",
    "warnings.filterwarnings('ignore')"
   ]
  },
  {
   "cell_type": "code",
   "execution_count": 2,
   "id": "d7713c24",
   "metadata": {},
   "outputs": [],
   "source": [
    "# Custom Loss Function\n",
    "import keras.backend as K\n",
    "\n",
    "def SMAPE(true,predicted):\n",
    "    epsilon=0.1\n",
    "    summ=K.maximum(K.abs(true)+K.abs(predicted)+epsilon,0.5+epsilon)\n",
    "    smape=K.abs(predicted-true)/summ*2.0\n",
    "    return smape"
   ]
  },
  {
   "cell_type": "code",
   "execution_count": 3,
   "id": "69769fad",
   "metadata": {},
   "outputs": [],
   "source": [
    "train=pd.read_csv('C:\\\\Users\\\\pc\\\\Desktop\\\\energy\\\\train.csv',encoding='euc-kr',parse_dates=['date_time'])\n",
    "test=pd.read_csv('C:\\\\Users\\\\pc\\\\Desktop\\\\energy\\\\test.csv',encoding='euc-kr',parse_dates=['date_time'])\n",
    "submission=pd.read_csv('C:\\\\Users\\\\pc\\\\Desktop\\\\energy\\\\sample_submission.csv',encoding='euc-kr')"
   ]
  },
  {
   "cell_type": "code",
   "execution_count": 4,
   "id": "a83620e7",
   "metadata": {},
   "outputs": [
    {
     "data": {
      "text/html": [
       "<div>\n",
       "<style scoped>\n",
       "    .dataframe tbody tr th:only-of-type {\n",
       "        vertical-align: middle;\n",
       "    }\n",
       "\n",
       "    .dataframe tbody tr th {\n",
       "        vertical-align: top;\n",
       "    }\n",
       "\n",
       "    .dataframe thead th {\n",
       "        text-align: right;\n",
       "    }\n",
       "</style>\n",
       "<table border=\"1\" class=\"dataframe\">\n",
       "  <thead>\n",
       "    <tr style=\"text-align: right;\">\n",
       "      <th></th>\n",
       "      <th>num</th>\n",
       "      <th>date_time</th>\n",
       "      <th>전력사용량(kWh)</th>\n",
       "      <th>기온(°C)</th>\n",
       "      <th>풍속(m/s)</th>\n",
       "      <th>습도(%)</th>\n",
       "      <th>강수량(mm)</th>\n",
       "      <th>일조(hr)</th>\n",
       "      <th>비전기냉방설비운영</th>\n",
       "      <th>태양광보유</th>\n",
       "    </tr>\n",
       "  </thead>\n",
       "  <tbody>\n",
       "    <tr>\n",
       "      <th>0</th>\n",
       "      <td>1</td>\n",
       "      <td>2020-06-01 00:00:00</td>\n",
       "      <td>8179.056</td>\n",
       "      <td>17.6</td>\n",
       "      <td>2.5</td>\n",
       "      <td>92.0</td>\n",
       "      <td>0.8</td>\n",
       "      <td>0.0</td>\n",
       "      <td>0.0</td>\n",
       "      <td>0.0</td>\n",
       "    </tr>\n",
       "    <tr>\n",
       "      <th>1</th>\n",
       "      <td>1</td>\n",
       "      <td>2020-06-01 01:00:00</td>\n",
       "      <td>8135.640</td>\n",
       "      <td>17.7</td>\n",
       "      <td>2.9</td>\n",
       "      <td>91.0</td>\n",
       "      <td>0.3</td>\n",
       "      <td>0.0</td>\n",
       "      <td>0.0</td>\n",
       "      <td>0.0</td>\n",
       "    </tr>\n",
       "    <tr>\n",
       "      <th>2</th>\n",
       "      <td>1</td>\n",
       "      <td>2020-06-01 02:00:00</td>\n",
       "      <td>8107.128</td>\n",
       "      <td>17.5</td>\n",
       "      <td>3.2</td>\n",
       "      <td>91.0</td>\n",
       "      <td>0.0</td>\n",
       "      <td>0.0</td>\n",
       "      <td>0.0</td>\n",
       "      <td>0.0</td>\n",
       "    </tr>\n",
       "    <tr>\n",
       "      <th>3</th>\n",
       "      <td>1</td>\n",
       "      <td>2020-06-01 03:00:00</td>\n",
       "      <td>8048.808</td>\n",
       "      <td>17.1</td>\n",
       "      <td>3.2</td>\n",
       "      <td>91.0</td>\n",
       "      <td>0.0</td>\n",
       "      <td>0.0</td>\n",
       "      <td>0.0</td>\n",
       "      <td>0.0</td>\n",
       "    </tr>\n",
       "    <tr>\n",
       "      <th>4</th>\n",
       "      <td>1</td>\n",
       "      <td>2020-06-01 04:00:00</td>\n",
       "      <td>8043.624</td>\n",
       "      <td>17.0</td>\n",
       "      <td>3.3</td>\n",
       "      <td>92.0</td>\n",
       "      <td>0.0</td>\n",
       "      <td>0.0</td>\n",
       "      <td>0.0</td>\n",
       "      <td>0.0</td>\n",
       "    </tr>\n",
       "    <tr>\n",
       "      <th>...</th>\n",
       "      <td>...</td>\n",
       "      <td>...</td>\n",
       "      <td>...</td>\n",
       "      <td>...</td>\n",
       "      <td>...</td>\n",
       "      <td>...</td>\n",
       "      <td>...</td>\n",
       "      <td>...</td>\n",
       "      <td>...</td>\n",
       "      <td>...</td>\n",
       "    </tr>\n",
       "    <tr>\n",
       "      <th>122395</th>\n",
       "      <td>60</td>\n",
       "      <td>2020-08-24 19:00:00</td>\n",
       "      <td>4114.368</td>\n",
       "      <td>27.8</td>\n",
       "      <td>2.3</td>\n",
       "      <td>68.0</td>\n",
       "      <td>0.0</td>\n",
       "      <td>0.7</td>\n",
       "      <td>1.0</td>\n",
       "      <td>1.0</td>\n",
       "    </tr>\n",
       "    <tr>\n",
       "      <th>122396</th>\n",
       "      <td>60</td>\n",
       "      <td>2020-08-24 20:00:00</td>\n",
       "      <td>3975.696</td>\n",
       "      <td>27.3</td>\n",
       "      <td>1.2</td>\n",
       "      <td>71.0</td>\n",
       "      <td>0.0</td>\n",
       "      <td>0.0</td>\n",
       "      <td>1.0</td>\n",
       "      <td>1.0</td>\n",
       "    </tr>\n",
       "    <tr>\n",
       "      <th>122397</th>\n",
       "      <td>60</td>\n",
       "      <td>2020-08-24 21:00:00</td>\n",
       "      <td>3572.208</td>\n",
       "      <td>27.3</td>\n",
       "      <td>1.8</td>\n",
       "      <td>71.0</td>\n",
       "      <td>0.0</td>\n",
       "      <td>0.0</td>\n",
       "      <td>1.0</td>\n",
       "      <td>1.0</td>\n",
       "    </tr>\n",
       "    <tr>\n",
       "      <th>122398</th>\n",
       "      <td>60</td>\n",
       "      <td>2020-08-24 22:00:00</td>\n",
       "      <td>3299.184</td>\n",
       "      <td>27.1</td>\n",
       "      <td>1.8</td>\n",
       "      <td>74.0</td>\n",
       "      <td>0.0</td>\n",
       "      <td>0.0</td>\n",
       "      <td>1.0</td>\n",
       "      <td>1.0</td>\n",
       "    </tr>\n",
       "    <tr>\n",
       "      <th>122399</th>\n",
       "      <td>60</td>\n",
       "      <td>2020-08-24 23:00:00</td>\n",
       "      <td>3204.576</td>\n",
       "      <td>27.1</td>\n",
       "      <td>2.6</td>\n",
       "      <td>75.0</td>\n",
       "      <td>0.0</td>\n",
       "      <td>0.0</td>\n",
       "      <td>1.0</td>\n",
       "      <td>1.0</td>\n",
       "    </tr>\n",
       "  </tbody>\n",
       "</table>\n",
       "<p>122400 rows × 10 columns</p>\n",
       "</div>"
      ],
      "text/plain": [
       "        num           date_time  전력사용량(kWh)  기온(°C)  풍속(m/s)  습도(%)  강수량(mm)  \\\n",
       "0         1 2020-06-01 00:00:00    8179.056    17.6      2.5   92.0      0.8   \n",
       "1         1 2020-06-01 01:00:00    8135.640    17.7      2.9   91.0      0.3   \n",
       "2         1 2020-06-01 02:00:00    8107.128    17.5      3.2   91.0      0.0   \n",
       "3         1 2020-06-01 03:00:00    8048.808    17.1      3.2   91.0      0.0   \n",
       "4         1 2020-06-01 04:00:00    8043.624    17.0      3.3   92.0      0.0   \n",
       "...     ...                 ...         ...     ...      ...    ...      ...   \n",
       "122395   60 2020-08-24 19:00:00    4114.368    27.8      2.3   68.0      0.0   \n",
       "122396   60 2020-08-24 20:00:00    3975.696    27.3      1.2   71.0      0.0   \n",
       "122397   60 2020-08-24 21:00:00    3572.208    27.3      1.8   71.0      0.0   \n",
       "122398   60 2020-08-24 22:00:00    3299.184    27.1      1.8   74.0      0.0   \n",
       "122399   60 2020-08-24 23:00:00    3204.576    27.1      2.6   75.0      0.0   \n",
       "\n",
       "        일조(hr)  비전기냉방설비운영  태양광보유  \n",
       "0          0.0        0.0    0.0  \n",
       "1          0.0        0.0    0.0  \n",
       "2          0.0        0.0    0.0  \n",
       "3          0.0        0.0    0.0  \n",
       "4          0.0        0.0    0.0  \n",
       "...        ...        ...    ...  \n",
       "122395     0.7        1.0    1.0  \n",
       "122396     0.0        1.0    1.0  \n",
       "122397     0.0        1.0    1.0  \n",
       "122398     0.0        1.0    1.0  \n",
       "122399     0.0        1.0    1.0  \n",
       "\n",
       "[122400 rows x 10 columns]"
      ]
     },
     "execution_count": 4,
     "metadata": {},
     "output_type": "execute_result"
    }
   ],
   "source": [
    "train"
   ]
  },
  {
   "cell_type": "code",
   "execution_count": 5,
   "id": "27f9a175",
   "metadata": {},
   "outputs": [],
   "source": [
    "### 1. 전처리 ###"
   ]
  },
  {
   "cell_type": "code",
   "execution_count": 6,
   "id": "3c9ca35a",
   "metadata": {},
   "outputs": [],
   "source": [
    "# 1) 시간 관련 변수 생성\n",
    "# 먼저 train 데이터와 test 데이터에 월,일,시간,요일,주말여부에 해당하는 시간 변수를 생성하였다.\n",
    "\n",
    "# 요일\n",
    "def weekday(x):\n",
    "    if x.dayofweek==6:\n",
    "        return '일'\n",
    "    elif x.dayofweek==0:\n",
    "        return '월'\n",
    "    elif x.dayofweek==1:\n",
    "        return '화'\n",
    "    elif x.dayofweek==2:\n",
    "        return '수'\n",
    "    elif x.dayofweek==3:\n",
    "        return '목'\n",
    "    elif x.dayofweek==4:\n",
    "        return '금'\n",
    "    else:\n",
    "        return '토'\n",
    "    \n",
    "# 주말 여부\n",
    "def weekend(x):\n",
    "    if x.dayofweek in [5,6]:\n",
    "        return 1\n",
    "    else:\n",
    "        return 0"
   ]
  },
  {
   "cell_type": "code",
   "execution_count": 7,
   "id": "8189c87c",
   "metadata": {},
   "outputs": [],
   "source": [
    "train['month']=train['date_time'].dt.month\n",
    "train['day']=train['date_time'].dt.day\n",
    "train['hour']=train['date_time'].dt.hour\n",
    "train['weekday']=train['date_time'].apply(weekday)\n",
    "train['weekend']=train['date_time'].apply(weekend)"
   ]
  },
  {
   "cell_type": "code",
   "execution_count": 8,
   "id": "c65209df",
   "metadata": {},
   "outputs": [
    {
     "data": {
      "text/html": [
       "<div>\n",
       "<style scoped>\n",
       "    .dataframe tbody tr th:only-of-type {\n",
       "        vertical-align: middle;\n",
       "    }\n",
       "\n",
       "    .dataframe tbody tr th {\n",
       "        vertical-align: top;\n",
       "    }\n",
       "\n",
       "    .dataframe thead th {\n",
       "        text-align: right;\n",
       "    }\n",
       "</style>\n",
       "<table border=\"1\" class=\"dataframe\">\n",
       "  <thead>\n",
       "    <tr style=\"text-align: right;\">\n",
       "      <th></th>\n",
       "      <th>num</th>\n",
       "      <th>date_time</th>\n",
       "      <th>전력사용량(kWh)</th>\n",
       "      <th>기온(°C)</th>\n",
       "      <th>풍속(m/s)</th>\n",
       "      <th>습도(%)</th>\n",
       "      <th>강수량(mm)</th>\n",
       "      <th>일조(hr)</th>\n",
       "      <th>비전기냉방설비운영</th>\n",
       "      <th>태양광보유</th>\n",
       "      <th>month</th>\n",
       "      <th>day</th>\n",
       "      <th>hour</th>\n",
       "      <th>weekday</th>\n",
       "      <th>weekend</th>\n",
       "    </tr>\n",
       "  </thead>\n",
       "  <tbody>\n",
       "    <tr>\n",
       "      <th>0</th>\n",
       "      <td>1</td>\n",
       "      <td>2020-06-01 00:00:00</td>\n",
       "      <td>8179.056</td>\n",
       "      <td>17.6</td>\n",
       "      <td>2.5</td>\n",
       "      <td>92.0</td>\n",
       "      <td>0.8</td>\n",
       "      <td>0.0</td>\n",
       "      <td>0.0</td>\n",
       "      <td>0.0</td>\n",
       "      <td>6</td>\n",
       "      <td>1</td>\n",
       "      <td>0</td>\n",
       "      <td>월</td>\n",
       "      <td>0</td>\n",
       "    </tr>\n",
       "    <tr>\n",
       "      <th>1</th>\n",
       "      <td>1</td>\n",
       "      <td>2020-06-01 01:00:00</td>\n",
       "      <td>8135.640</td>\n",
       "      <td>17.7</td>\n",
       "      <td>2.9</td>\n",
       "      <td>91.0</td>\n",
       "      <td>0.3</td>\n",
       "      <td>0.0</td>\n",
       "      <td>0.0</td>\n",
       "      <td>0.0</td>\n",
       "      <td>6</td>\n",
       "      <td>1</td>\n",
       "      <td>1</td>\n",
       "      <td>월</td>\n",
       "      <td>0</td>\n",
       "    </tr>\n",
       "    <tr>\n",
       "      <th>2</th>\n",
       "      <td>1</td>\n",
       "      <td>2020-06-01 02:00:00</td>\n",
       "      <td>8107.128</td>\n",
       "      <td>17.5</td>\n",
       "      <td>3.2</td>\n",
       "      <td>91.0</td>\n",
       "      <td>0.0</td>\n",
       "      <td>0.0</td>\n",
       "      <td>0.0</td>\n",
       "      <td>0.0</td>\n",
       "      <td>6</td>\n",
       "      <td>1</td>\n",
       "      <td>2</td>\n",
       "      <td>월</td>\n",
       "      <td>0</td>\n",
       "    </tr>\n",
       "    <tr>\n",
       "      <th>3</th>\n",
       "      <td>1</td>\n",
       "      <td>2020-06-01 03:00:00</td>\n",
       "      <td>8048.808</td>\n",
       "      <td>17.1</td>\n",
       "      <td>3.2</td>\n",
       "      <td>91.0</td>\n",
       "      <td>0.0</td>\n",
       "      <td>0.0</td>\n",
       "      <td>0.0</td>\n",
       "      <td>0.0</td>\n",
       "      <td>6</td>\n",
       "      <td>1</td>\n",
       "      <td>3</td>\n",
       "      <td>월</td>\n",
       "      <td>0</td>\n",
       "    </tr>\n",
       "    <tr>\n",
       "      <th>4</th>\n",
       "      <td>1</td>\n",
       "      <td>2020-06-01 04:00:00</td>\n",
       "      <td>8043.624</td>\n",
       "      <td>17.0</td>\n",
       "      <td>3.3</td>\n",
       "      <td>92.0</td>\n",
       "      <td>0.0</td>\n",
       "      <td>0.0</td>\n",
       "      <td>0.0</td>\n",
       "      <td>0.0</td>\n",
       "      <td>6</td>\n",
       "      <td>1</td>\n",
       "      <td>4</td>\n",
       "      <td>월</td>\n",
       "      <td>0</td>\n",
       "    </tr>\n",
       "    <tr>\n",
       "      <th>...</th>\n",
       "      <td>...</td>\n",
       "      <td>...</td>\n",
       "      <td>...</td>\n",
       "      <td>...</td>\n",
       "      <td>...</td>\n",
       "      <td>...</td>\n",
       "      <td>...</td>\n",
       "      <td>...</td>\n",
       "      <td>...</td>\n",
       "      <td>...</td>\n",
       "      <td>...</td>\n",
       "      <td>...</td>\n",
       "      <td>...</td>\n",
       "      <td>...</td>\n",
       "      <td>...</td>\n",
       "    </tr>\n",
       "    <tr>\n",
       "      <th>122395</th>\n",
       "      <td>60</td>\n",
       "      <td>2020-08-24 19:00:00</td>\n",
       "      <td>4114.368</td>\n",
       "      <td>27.8</td>\n",
       "      <td>2.3</td>\n",
       "      <td>68.0</td>\n",
       "      <td>0.0</td>\n",
       "      <td>0.7</td>\n",
       "      <td>1.0</td>\n",
       "      <td>1.0</td>\n",
       "      <td>8</td>\n",
       "      <td>24</td>\n",
       "      <td>19</td>\n",
       "      <td>월</td>\n",
       "      <td>0</td>\n",
       "    </tr>\n",
       "    <tr>\n",
       "      <th>122396</th>\n",
       "      <td>60</td>\n",
       "      <td>2020-08-24 20:00:00</td>\n",
       "      <td>3975.696</td>\n",
       "      <td>27.3</td>\n",
       "      <td>1.2</td>\n",
       "      <td>71.0</td>\n",
       "      <td>0.0</td>\n",
       "      <td>0.0</td>\n",
       "      <td>1.0</td>\n",
       "      <td>1.0</td>\n",
       "      <td>8</td>\n",
       "      <td>24</td>\n",
       "      <td>20</td>\n",
       "      <td>월</td>\n",
       "      <td>0</td>\n",
       "    </tr>\n",
       "    <tr>\n",
       "      <th>122397</th>\n",
       "      <td>60</td>\n",
       "      <td>2020-08-24 21:00:00</td>\n",
       "      <td>3572.208</td>\n",
       "      <td>27.3</td>\n",
       "      <td>1.8</td>\n",
       "      <td>71.0</td>\n",
       "      <td>0.0</td>\n",
       "      <td>0.0</td>\n",
       "      <td>1.0</td>\n",
       "      <td>1.0</td>\n",
       "      <td>8</td>\n",
       "      <td>24</td>\n",
       "      <td>21</td>\n",
       "      <td>월</td>\n",
       "      <td>0</td>\n",
       "    </tr>\n",
       "    <tr>\n",
       "      <th>122398</th>\n",
       "      <td>60</td>\n",
       "      <td>2020-08-24 22:00:00</td>\n",
       "      <td>3299.184</td>\n",
       "      <td>27.1</td>\n",
       "      <td>1.8</td>\n",
       "      <td>74.0</td>\n",
       "      <td>0.0</td>\n",
       "      <td>0.0</td>\n",
       "      <td>1.0</td>\n",
       "      <td>1.0</td>\n",
       "      <td>8</td>\n",
       "      <td>24</td>\n",
       "      <td>22</td>\n",
       "      <td>월</td>\n",
       "      <td>0</td>\n",
       "    </tr>\n",
       "    <tr>\n",
       "      <th>122399</th>\n",
       "      <td>60</td>\n",
       "      <td>2020-08-24 23:00:00</td>\n",
       "      <td>3204.576</td>\n",
       "      <td>27.1</td>\n",
       "      <td>2.6</td>\n",
       "      <td>75.0</td>\n",
       "      <td>0.0</td>\n",
       "      <td>0.0</td>\n",
       "      <td>1.0</td>\n",
       "      <td>1.0</td>\n",
       "      <td>8</td>\n",
       "      <td>24</td>\n",
       "      <td>23</td>\n",
       "      <td>월</td>\n",
       "      <td>0</td>\n",
       "    </tr>\n",
       "  </tbody>\n",
       "</table>\n",
       "<p>122400 rows × 15 columns</p>\n",
       "</div>"
      ],
      "text/plain": [
       "        num           date_time  전력사용량(kWh)  기온(°C)  풍속(m/s)  습도(%)  강수량(mm)  \\\n",
       "0         1 2020-06-01 00:00:00    8179.056    17.6      2.5   92.0      0.8   \n",
       "1         1 2020-06-01 01:00:00    8135.640    17.7      2.9   91.0      0.3   \n",
       "2         1 2020-06-01 02:00:00    8107.128    17.5      3.2   91.0      0.0   \n",
       "3         1 2020-06-01 03:00:00    8048.808    17.1      3.2   91.0      0.0   \n",
       "4         1 2020-06-01 04:00:00    8043.624    17.0      3.3   92.0      0.0   \n",
       "...     ...                 ...         ...     ...      ...    ...      ...   \n",
       "122395   60 2020-08-24 19:00:00    4114.368    27.8      2.3   68.0      0.0   \n",
       "122396   60 2020-08-24 20:00:00    3975.696    27.3      1.2   71.0      0.0   \n",
       "122397   60 2020-08-24 21:00:00    3572.208    27.3      1.8   71.0      0.0   \n",
       "122398   60 2020-08-24 22:00:00    3299.184    27.1      1.8   74.0      0.0   \n",
       "122399   60 2020-08-24 23:00:00    3204.576    27.1      2.6   75.0      0.0   \n",
       "\n",
       "        일조(hr)  비전기냉방설비운영  태양광보유  month  day  hour weekday  weekend  \n",
       "0          0.0        0.0    0.0      6    1     0       월        0  \n",
       "1          0.0        0.0    0.0      6    1     1       월        0  \n",
       "2          0.0        0.0    0.0      6    1     2       월        0  \n",
       "3          0.0        0.0    0.0      6    1     3       월        0  \n",
       "4          0.0        0.0    0.0      6    1     4       월        0  \n",
       "...        ...        ...    ...    ...  ...   ...     ...      ...  \n",
       "122395     0.7        1.0    1.0      8   24    19       월        0  \n",
       "122396     0.0        1.0    1.0      8   24    20       월        0  \n",
       "122397     0.0        1.0    1.0      8   24    21       월        0  \n",
       "122398     0.0        1.0    1.0      8   24    22       월        0  \n",
       "122399     0.0        1.0    1.0      8   24    23       월        0  \n",
       "\n",
       "[122400 rows x 15 columns]"
      ]
     },
     "execution_count": 8,
     "metadata": {},
     "output_type": "execute_result"
    }
   ],
   "source": [
    "train"
   ]
  },
  {
   "cell_type": "code",
   "execution_count": 9,
   "id": "b4e4eeba",
   "metadata": {},
   "outputs": [],
   "source": [
    "# 2) test 결측치 채우기"
   ]
  },
  {
   "cell_type": "code",
   "execution_count": 10,
   "id": "d37eec64",
   "metadata": {},
   "outputs": [
    {
     "data": {
      "text/html": [
       "<div>\n",
       "<style scoped>\n",
       "    .dataframe tbody tr th:only-of-type {\n",
       "        vertical-align: middle;\n",
       "    }\n",
       "\n",
       "    .dataframe tbody tr th {\n",
       "        vertical-align: top;\n",
       "    }\n",
       "\n",
       "    .dataframe thead th {\n",
       "        text-align: right;\n",
       "    }\n",
       "</style>\n",
       "<table border=\"1\" class=\"dataframe\">\n",
       "  <thead>\n",
       "    <tr style=\"text-align: right;\">\n",
       "      <th></th>\n",
       "      <th>num</th>\n",
       "      <th>date_time</th>\n",
       "      <th>기온(°C)</th>\n",
       "      <th>풍속(m/s)</th>\n",
       "      <th>습도(%)</th>\n",
       "      <th>강수량(mm, 6시간)</th>\n",
       "      <th>일조(hr, 3시간)</th>\n",
       "      <th>비전기냉방설비운영</th>\n",
       "      <th>태양광보유</th>\n",
       "    </tr>\n",
       "  </thead>\n",
       "  <tbody>\n",
       "    <tr>\n",
       "      <th>0</th>\n",
       "      <td>1</td>\n",
       "      <td>2020-08-25 00:00:00</td>\n",
       "      <td>27.8</td>\n",
       "      <td>1.5</td>\n",
       "      <td>74.0</td>\n",
       "      <td>0.0</td>\n",
       "      <td>0.0</td>\n",
       "      <td>NaN</td>\n",
       "      <td>NaN</td>\n",
       "    </tr>\n",
       "    <tr>\n",
       "      <th>1</th>\n",
       "      <td>1</td>\n",
       "      <td>2020-08-25 01:00:00</td>\n",
       "      <td>NaN</td>\n",
       "      <td>NaN</td>\n",
       "      <td>NaN</td>\n",
       "      <td>NaN</td>\n",
       "      <td>NaN</td>\n",
       "      <td>NaN</td>\n",
       "      <td>NaN</td>\n",
       "    </tr>\n",
       "    <tr>\n",
       "      <th>2</th>\n",
       "      <td>1</td>\n",
       "      <td>2020-08-25 02:00:00</td>\n",
       "      <td>NaN</td>\n",
       "      <td>NaN</td>\n",
       "      <td>NaN</td>\n",
       "      <td>NaN</td>\n",
       "      <td>NaN</td>\n",
       "      <td>NaN</td>\n",
       "      <td>NaN</td>\n",
       "    </tr>\n",
       "    <tr>\n",
       "      <th>3</th>\n",
       "      <td>1</td>\n",
       "      <td>2020-08-25 03:00:00</td>\n",
       "      <td>27.3</td>\n",
       "      <td>1.1</td>\n",
       "      <td>78.0</td>\n",
       "      <td>NaN</td>\n",
       "      <td>0.0</td>\n",
       "      <td>NaN</td>\n",
       "      <td>NaN</td>\n",
       "    </tr>\n",
       "    <tr>\n",
       "      <th>4</th>\n",
       "      <td>1</td>\n",
       "      <td>2020-08-25 04:00:00</td>\n",
       "      <td>NaN</td>\n",
       "      <td>NaN</td>\n",
       "      <td>NaN</td>\n",
       "      <td>NaN</td>\n",
       "      <td>NaN</td>\n",
       "      <td>NaN</td>\n",
       "      <td>NaN</td>\n",
       "    </tr>\n",
       "    <tr>\n",
       "      <th>...</th>\n",
       "      <td>...</td>\n",
       "      <td>...</td>\n",
       "      <td>...</td>\n",
       "      <td>...</td>\n",
       "      <td>...</td>\n",
       "      <td>...</td>\n",
       "      <td>...</td>\n",
       "      <td>...</td>\n",
       "      <td>...</td>\n",
       "    </tr>\n",
       "    <tr>\n",
       "      <th>10075</th>\n",
       "      <td>60</td>\n",
       "      <td>2020-08-31 19:00:00</td>\n",
       "      <td>NaN</td>\n",
       "      <td>NaN</td>\n",
       "      <td>NaN</td>\n",
       "      <td>NaN</td>\n",
       "      <td>NaN</td>\n",
       "      <td>NaN</td>\n",
       "      <td>NaN</td>\n",
       "    </tr>\n",
       "    <tr>\n",
       "      <th>10076</th>\n",
       "      <td>60</td>\n",
       "      <td>2020-08-31 20:00:00</td>\n",
       "      <td>NaN</td>\n",
       "      <td>NaN</td>\n",
       "      <td>NaN</td>\n",
       "      <td>NaN</td>\n",
       "      <td>NaN</td>\n",
       "      <td>NaN</td>\n",
       "      <td>NaN</td>\n",
       "    </tr>\n",
       "    <tr>\n",
       "      <th>10077</th>\n",
       "      <td>60</td>\n",
       "      <td>2020-08-31 21:00:00</td>\n",
       "      <td>27.9</td>\n",
       "      <td>4.1</td>\n",
       "      <td>68.0</td>\n",
       "      <td>NaN</td>\n",
       "      <td>0.0</td>\n",
       "      <td>1.0</td>\n",
       "      <td>1.0</td>\n",
       "    </tr>\n",
       "    <tr>\n",
       "      <th>10078</th>\n",
       "      <td>60</td>\n",
       "      <td>2020-08-31 22:00:00</td>\n",
       "      <td>NaN</td>\n",
       "      <td>NaN</td>\n",
       "      <td>NaN</td>\n",
       "      <td>NaN</td>\n",
       "      <td>NaN</td>\n",
       "      <td>NaN</td>\n",
       "      <td>NaN</td>\n",
       "    </tr>\n",
       "    <tr>\n",
       "      <th>10079</th>\n",
       "      <td>60</td>\n",
       "      <td>2020-08-31 23:00:00</td>\n",
       "      <td>NaN</td>\n",
       "      <td>NaN</td>\n",
       "      <td>NaN</td>\n",
       "      <td>NaN</td>\n",
       "      <td>NaN</td>\n",
       "      <td>NaN</td>\n",
       "      <td>NaN</td>\n",
       "    </tr>\n",
       "  </tbody>\n",
       "</table>\n",
       "<p>10080 rows × 9 columns</p>\n",
       "</div>"
      ],
      "text/plain": [
       "       num           date_time  기온(°C)  풍속(m/s)  습도(%)  강수량(mm, 6시간)  \\\n",
       "0        1 2020-08-25 00:00:00    27.8      1.5   74.0           0.0   \n",
       "1        1 2020-08-25 01:00:00     NaN      NaN    NaN           NaN   \n",
       "2        1 2020-08-25 02:00:00     NaN      NaN    NaN           NaN   \n",
       "3        1 2020-08-25 03:00:00    27.3      1.1   78.0           NaN   \n",
       "4        1 2020-08-25 04:00:00     NaN      NaN    NaN           NaN   \n",
       "...    ...                 ...     ...      ...    ...           ...   \n",
       "10075   60 2020-08-31 19:00:00     NaN      NaN    NaN           NaN   \n",
       "10076   60 2020-08-31 20:00:00     NaN      NaN    NaN           NaN   \n",
       "10077   60 2020-08-31 21:00:00    27.9      4.1   68.0           NaN   \n",
       "10078   60 2020-08-31 22:00:00     NaN      NaN    NaN           NaN   \n",
       "10079   60 2020-08-31 23:00:00     NaN      NaN    NaN           NaN   \n",
       "\n",
       "       일조(hr, 3시간)  비전기냉방설비운영  태양광보유  \n",
       "0              0.0        NaN    NaN  \n",
       "1              NaN        NaN    NaN  \n",
       "2              NaN        NaN    NaN  \n",
       "3              0.0        NaN    NaN  \n",
       "4              NaN        NaN    NaN  \n",
       "...            ...        ...    ...  \n",
       "10075          NaN        NaN    NaN  \n",
       "10076          NaN        NaN    NaN  \n",
       "10077          0.0        1.0    1.0  \n",
       "10078          NaN        NaN    NaN  \n",
       "10079          NaN        NaN    NaN  \n",
       "\n",
       "[10080 rows x 9 columns]"
      ]
     },
     "execution_count": 10,
     "metadata": {},
     "output_type": "execute_result"
    }
   ],
   "source": [
    "test"
   ]
  },
  {
   "cell_type": "code",
   "execution_count": 11,
   "id": "cbbe7e05",
   "metadata": {},
   "outputs": [
    {
     "name": "stdout",
     "output_type": "stream",
     "text": [
      "\u001b[1m<test함수 변수별 결측값 수> \u001b[0m\n",
      " num                0\n",
      "date_time          0\n",
      "기온(°C)          6720\n",
      "풍속(m/s)         6720\n",
      "습도(%)           6720\n",
      "강수량(mm, 6시간)    8400\n",
      "일조(hr, 3시간)     6720\n",
      "비전기냉방설비운영       7784\n",
      "태양광보유           8456\n",
      "dtype: int64\n"
     ]
    }
   ],
   "source": [
    "print('\\033[1m<test함수 변수별 결측값 수> \\033[0m\\n',test.isna().sum())"
   ]
  },
  {
   "cell_type": "code",
   "execution_count": 12,
   "id": "7beee198",
   "metadata": {},
   "outputs": [],
   "source": [
    "## 결측치 채우기 : 건물 변수 ##\n",
    "# 먼저 건물 변수인 '비전기냉방설비운영','태양광보유'의 결측치를 채워주겠다.\n",
    "# 건물정보는 건물이 동일하면 모두 같은 값을 가지고, \n",
    "# test 데이터의 건물 종류는 train 데이터의 건물 종류와 동일하므로,\n",
    "# train 데이터의 건물 변수 값을 이용하여 결측값을 채워준다.\n",
    "\n",
    "building_info=train[['num','비전기냉방설비운영','태양광보유']].drop_duplicates()\n",
    "\n",
    "test.drop(columns=['비전기냉방설비운영','태양광보유'],inplace=True)\n",
    "test=pd.merge(test,building_info,on='num')\n",
    "\n",
    "## 결측치 채우기 : 일조 ##\n",
    "train['일조(hr)'].value_counts()\n",
    "# train 데이터의 일조를 확인하면 discrete한 분포를 지님을 확인할 수 있다.\n",
    "# 따라서 가장 최근에 기록된 일조값을 가져오는 형태로 결측치를 채워준다.\n",
    "test['일조(hr)']=test['일조(hr, 3시간)'].interpolate(method='pad')"
   ]
  },
  {
   "cell_type": "code",
   "execution_count": 13,
   "id": "c9a6cb94",
   "metadata": {},
   "outputs": [],
   "source": [
    "## 결측치 채우기 : 기온, 풍속, 습도, 강수량 ##\n",
    "# 기온, 풍속, 습도, 강수량은 'pad','linear','quadratic','cubic' 방법 중 \n",
    "# train 데이터에서 가장 성능이 뛰어난 보간법으로 결측치를 채워준다.\n",
    "\n",
    "# 우선 train 데이터에 임의로 결측치를 생성한다.\n",
    "train_=train.copy()\n",
    "\n",
    "def make_train_nan(col,n):\n",
    "    new_list=[]\n",
    "    for idx,temp in enumerate(train_[col]):\n",
    "        if idx%n==0:\n",
    "            new_list.append(temp)\n",
    "        else:\n",
    "            new_list.append(np.nan)\n",
    "    train_['{}'.format(col+'_nan')]=new_list"
   ]
  },
  {
   "cell_type": "code",
   "execution_count": 14,
   "id": "4ef4a682",
   "metadata": {},
   "outputs": [],
   "source": [
    "make_train_nan('기온(°C)',3)\n",
    "make_train_nan('풍속(m/s)',3)\n",
    "make_train_nan('습도(%)',3)\n",
    "make_train_nan('강수량(mm)',6)"
   ]
  },
  {
   "cell_type": "markdown",
   "id": "13ccb465",
   "metadata": {},
   "source": [
    "print(train_.iloc[:.-4:].isnull().sum())"
   ]
  },
  {
   "cell_type": "code",
   "execution_count": 15,
   "id": "49f5e0e5",
   "metadata": {},
   "outputs": [
    {
     "name": "stdout",
     "output_type": "stream",
     "text": [
      "기온(°C)_nan      81600\n",
      "풍속(m/s)_nan     81600\n",
      "습도(%)_nan       81600\n",
      "강수량(mm)_nan    102000\n",
      "dtype: int64\n"
     ]
    }
   ],
   "source": [
    "print(train_.iloc[:,-4:].isnull().sum())"
   ]
  },
  {
   "cell_type": "code",
   "execution_count": 16,
   "id": "67ecfc86",
   "metadata": {},
   "outputs": [],
   "source": [
    "# 결측지가 잘 생성됨을 확인할 수 있다.\n",
    "# 각 변수에 대해 4가지의 보간법을 시행한 후 가장 오차가 적은 보간법으로 결측치를 채워준다.\n",
    "\n",
    "def compare_interpolate_methods(col,methods,metric):\n",
    "    error_dict=dict()\n",
    "    for method in methods:\n",
    "        fillna=train_['{}'.format(col+'_nan')].interpolate(method=method)\n",
    "        if fillna.isna().sum()!=0:\n",
    "            fillna=fillna.interpolate(method='linear')\n",
    "        error=metric(train_['{}'.format(col)],fillna)\n",
    "        error_dict['{}'.format(method)]=error\n",
    "    \n",
    "    return error_dict"
   ]
  },
  {
   "cell_type": "code",
   "execution_count": 17,
   "id": "e64aed85",
   "metadata": {},
   "outputs": [
    {
     "data": {
      "image/png": "[encoded data removed]",
      "text/plain": [
       "<Figure size 1296x360 with 4 Axes>"
      ]
     },
     "metadata": {
      "needs_background": "light"
     },
     "output_type": "display_data"
    }
   ],
   "source": [
    "all_cols_error_dict=dict()\n",
    "for col in ['기온(°C)', '풍속(m/s)', '습도(%)', '강수량(mm)']:\n",
    "    methods=['pad','linear','quadratic','cubic']\n",
    "    error_dict=compare_interpolate_methods(col,methods,mean_squared_error)\n",
    "    all_cols_error_dict['{}'.format(col)]=error_dict\n",
    "    \n",
    "all_cols_error_df=pd.DataFrame(all_cols_error_dict)\n",
    "\n",
    "fig,axes=plt.subplots(1,4,figsize=(18,5),sharey=False)\n",
    "for i in range(len(all_cols_error_df.columns)):\n",
    "    sns.lineplot(ax=axes[i],data=all_cols_error_df.iloc[:,i].transpose())"
   ]
  },
  {
   "cell_type": "code",
   "execution_count": 18,
   "id": "d843549b",
   "metadata": {},
   "outputs": [],
   "source": [
    "# 기온 결측치 채우기\n",
    "test['기온(°C)']=test['기온(°C)'].interpolate(method='quadratic')\n",
    "# 마지막 na 채우기\n",
    "test['기온(°C)']=test['기온(°C)'].interpolate(method='linear')\n",
    "\n",
    "# 풍속 결측치 채우기\n",
    "test['풍속(m/s)']=test['풍속(m/s)'].interpolate(method='linear')\n",
    "\n",
    "# 습도 결측치 채우기\n",
    "test['습도(%)']=test['습도(%)'].interpolate(method='quadratic')\n",
    "# 마지막 na 채우기\n",
    "test['습도(%)']=test['습도(%)'].interpolate(method='linear')\n",
    "\n",
    "# 강수량 결측치 채우기\n",
    "test['강수량(mm)']=test['강수량(mm, 6시간)'].interpolate(method='linear')"
   ]
  },
  {
   "cell_type": "code",
   "execution_count": 19,
   "id": "7342dee7",
   "metadata": {},
   "outputs": [],
   "source": [
    "### 3) 불쾌지수 생성 ###\n",
    "# 불쾌지수 = 불쾌지수=1.8T-0.55(1-RH)(1.8T-26)+32불쾌지수=1.8T−0.55(1−RH)(1.8T−26)+32\n",
    "\n",
    "# 불쾌지수란 기온과 습도의 조합으로 사람이 느끼는 온도를 표현한 것으로 온습도지수(THI)라고도 한다.\n",
    "# 불쾌지수는 여름철 실내의 무더위의 기준르오서만 사용되고 있을 뿐, 복사나 바람의 조건은 포함되어 있지 않다. \n",
    "# 때문에 그 적정한 사용에는 한계가 있다는 점에 유의해야 한다.\n",
    "# 해당 데이터가 여름철 데이터인 만큼 전력사용량과 관련이 있을 것이라고 판단했다.\n",
    "\n",
    "# 마지막으로 날씨 변수를 이용하여 쾌적함의 척도로써 \n",
    "# 여름철 에어컨 사용 등 전력사용량에 영향을 미칠 것으로 예상되는 불쾌지수를 추가했다.\n",
    "train['불쾌지수']=1.8*train['기온(°C)']-0.55*(1-(train['습도(%)']/100))*(1.8*train['기온(°C)']-26)+32\n",
    "test['불쾌지수']=1.8*test['기온(°C)']-0.55*(1-(test['습도(%)']/100))*(1.8*test['기온(°C)']-26)+32"
   ]
  },
  {
   "cell_type": "code",
   "execution_count": 20,
   "id": "5f633af5",
   "metadata": {},
   "outputs": [],
   "source": [
    "### 4) 체감온도 생성 ###\n",
    "# 체감온도=13.12+0.6125T-13.947V^(0.16)+0.486TV^(0.16)체감온도\n",
    "# 체감온도는 불쾌지수에서 포함하지 않은 바람의 조건을 포함하고 있어 보완해주는 변수라고 판단했다.\n",
    "train['체감온도']=13.12+0.6215*train['기온(°C)']-13.947*train['풍속(m/s)']**0.16+0.486*train['기온(°C)']*train['풍속(m/s)']**0.16\n",
    "test['체감온도']=13.12+0.6215*test['기온(°C)']-13.947*test['풍속(m/s)']**0.16+0.486*test['기온(°C)']*test['풍속(m/s)']**0.16"
   ]
  },
  {
   "cell_type": "code",
   "execution_count": 22,
   "id": "175ef037",
   "metadata": {},
   "outputs": [],
   "source": [
    "### 2. Exploratory Data Analysis ###\n",
    "# 저희는 건물별 전력사용량의 예측 및 분석을 하고자 건물 관련 정보를 적극 이용하고자 했다.\n",
    "# 하지만 주어진 데이터에 주어진 건물 관련 자료는 건물 번호, 비전기냉방설비운영, 태양광보유 3가지의 변수로 \n",
    "# 제한적인 정보 뿐이라, 건물 관련 더 자세한 정보가 있으면 좋을 것 같다는 판단 하에, 용도에 따른 건축물 분류를 적용했다.\n",
    "\n",
    "# 테이터 설명에서 주어진 건물 관련 용도는 아파트, 병원, 팍교 등 7가지 용도의 건물이라는 사실을 바탕으로 \n",
    "# 나머지 건물의 용도를 추측했다. 보편적으로 사용되는 해당 기준을 적용하여 다양한 기준에 따라 건물의 용도를 추측하고,\n",
    "# 그 결과 용도에 맞는 사업 및 전력사용량 절약 방법에 대해 제시할 수 있을 것이라고 생각했다.\n",
    "\n",
    "# 이 때 사용된 기준은 IBC(International Building Code)로 건축물을 용도에 딸 10가지로 구분한 볍규이다."
   ]
  },
  {
   "cell_type": "code",
   "execution_count": 23,
   "id": "21de8a6c",
   "metadata": {},
   "outputs": [
    {
     "data": {
      "text/plain": [
       "<AxesSubplot:xlabel='전력사용량(kWh)', ylabel='Count'>"
      ]
     },
     "execution_count": 23,
     "metadata": {},
     "output_type": "execute_result"
    },
    {
     "data": {
      "image/png": "[encoded data removed]",
      "text/plain": [
       "<Figure size 432x288 with 1 Axes>"
      ]
     },
     "metadata": {
      "needs_background": "light"
     },
     "output_type": "display_data"
    }
   ],
   "source": [
    "## 1) 전력사용량 기본 EDA\n",
    "# 건물들의 평균 전력사용량\n",
    "sns.histplot(train.groupby('num')['전력사용량(kWh)'].mean())\n",
    "\n",
    "# 한 시간에 평균 1000kWh를 쓰는 건물부터 9000kWh를 쓰는 건물까지 \n",
    "# 건물마다 전력사용량의 총량이 매우 다양하다는 것을 확인할 수 있다."
   ]
  },
  {
   "cell_type": "code",
   "execution_count": 24,
   "id": "ceb686ed",
   "metadata": {},
   "outputs": [
    {
     "data": {
      "text/plain": [
       "비전기냉방설비운영  태양광보유\n",
       "0.0        0.0      2077.030506\n",
       "           1.0      1582.298192\n",
       "1.0        0.0      2101.993590\n",
       "           1.0      2949.726621\n",
       "Name: 전력사용량(kWh), dtype: float64"
      ]
     },
     "execution_count": 24,
     "metadata": {},
     "output_type": "execute_result"
    }
   ],
   "source": [
    "## 건물 변수와 전력사용량의 관계\n",
    "train.groupby(['비전기냉방설비운영','태양광보유'])['전력사용량(kWh)'].mean()"
   ]
  },
  {
   "cell_type": "code",
   "execution_count": 25,
   "id": "02ccf861",
   "metadata": {},
   "outputs": [],
   "source": [
    "# 일반적으로 비전기냉방설비를 운영하고 태양광을 보유하면 전력사용량이 더 적을 것으로 예상할 수 있다.\n",
    "# 건물별 거주인구, 유동인구 및 건물면적 등의 정보를 모르기 때문에 주어진 건물 변수와 전력사용량의 관계를\n",
    "# 정확히 알 수는 없지만, 예상과 달리 \n",
    "# 비전기냉방설비운영 여부, 태양광보유 여부가 건물의 전력 사용량을 낮춰주진 않는다는 것을 확인할 수 있다."
   ]
  },
  {
   "cell_type": "code",
   "execution_count": 26,
   "id": "ef84f7e3",
   "metadata": {},
   "outputs": [
    {
     "data": {
      "image/png": "[encoded data removed]",
      "text/plain": [
       "<Figure size 1440x576 with 2 Axes>"
      ]
     },
     "metadata": {
      "needs_background": "light"
     },
     "output_type": "display_data"
    }
   ],
   "source": [
    "# 건물별 전력사용량과 다른 변수들의 상관관계\n",
    "\n",
    "corr=[]\n",
    "for num in range(1,61):\n",
    "    df=train[train.num==num]\n",
    "    num_corr=df.corr()['전력사용량(kWh)']\n",
    "    num_corr=num_corr.drop(['num','비전기냉방설비운영','태양광보유','전력사용량(kWh)'])\n",
    "    corr.append(num_corr)\n",
    "corr_df=pd.concat(corr,axis=1).T\n",
    "corr_df.index=list(range(1,61))\n",
    "\n",
    "# 시각화\n",
    "f,ax=plt.subplots(figsize=(20,8))\n",
    "plt.title(\"건물별 전력사용량과 변수들의 상관관계\",fontsize=15)\n",
    "sns.heatmap(corr_df.T,cmap=sns.diverging_palette(240,10,as_cmap=True),ax=ax)\n",
    "plt.xlabel('건물(num)')\n",
    "plt.show()"
   ]
  },
  {
   "cell_type": "code",
   "execution_count": 27,
   "id": "eeb0349b",
   "metadata": {},
   "outputs": [],
   "source": [
    "## 건물별로 전력사용량과의 각 변수들의 상관계수가 다름을 알 수 있다.\n",
    "# 예를 들어, \n",
    "# - 건물 1 : 기온과 강한 양의 상관관계를 가지고,\n",
    "# - 건물 9 : 기온과는 상관관계가 거의 없고, 일조와 음의 상관관계를 가진다.\n",
    "\n",
    "# 이후 전력사용량을 모델링할 때 이를 기반으로 건물별로 다른 변수를 사용하도록 하였다.\n",
    "\n",
    "## 추가변수와 각 건물의 전력 사용량 평균 시각화\n",
    "# 위에서 기상청에서 제공하는 생활기상지수 중 불쾌지수와 체감온도를 새로운 변수로 생성했다. \n",
    "# 이에 따라 기상청에서 제공하는 기준에 따라 불쾌지수와 체감온도를 카테고리화 했다."
   ]
  },
  {
   "cell_type": "code",
   "execution_count": 28,
   "id": "7fd5b5e0",
   "metadata": {},
   "outputs": [
    {
     "name": "stdout",
     "output_type": "stream",
     "text": [
      "52.344210000000004\n",
      "86.66179\n"
     ]
    }
   ],
   "source": [
    "# <불쾌지수> #\n",
    "# x>=80 : 매우높음\n",
    "# 75<= x <80 : 높음\n",
    "# 68<= x <75 : 보통\n",
    "# x <68 : 낮음\n",
    "\n",
    "print(train['불쾌지수'].min())\n",
    "print(train['불쾌지수'].max())"
   ]
  },
  {
   "cell_type": "code",
   "execution_count": 29,
   "id": "9bebe196",
   "metadata": {},
   "outputs": [],
   "source": [
    "train['불쾌지수_c']=pd.cut(train.불쾌지수, bins=[50,68,75,80,90],labels=['낮음','보통','높음','매우높음'])"
   ]
  },
  {
   "cell_type": "code",
   "execution_count": 30,
   "id": "8d33c7c6",
   "metadata": {},
   "outputs": [
    {
     "data": {
      "image/png": "[encoded data removed]",
      "text/plain": [
       "<Figure size 1080x1080 with 61 Axes>"
      ]
     },
     "metadata": {
      "needs_background": "light"
     },
     "output_type": "display_data"
    }
   ],
   "source": [
    "# 불쾌지수\n",
    "fig=plt.figure(figsize=(15,15))\n",
    "plt.title(\"각 건물별 불쾌지수와 평균 전력사용량(kWh)\",fontsize=15,y=1.05)\n",
    "plt.axis('off')\n",
    "\n",
    "colors=['pink','bisque','skyblue','lightgrey']\n",
    "\n",
    "for num in range(1,61):\n",
    "    df=train[train.num==num]\n",
    "    df_counts=df.groupby('불쾌지수_c')['전력사용량(kWh)'].mean()\n",
    "    ax=fig.add_subplot(10,6,num)\n",
    "    ax.bar(df['불쾌지수_c'].unique(),df_counts,color=colors)\n",
    "    ax.set_title(f'건물: {num}')\n",
    "    \n",
    "plt.tight_layout()\n",
    "plt.show()"
   ]
  },
  {
   "cell_type": "code",
   "execution_count": 31,
   "id": "7108aae2",
   "metadata": {},
   "outputs": [],
   "source": [
    "# 건물별 불쾌지수와 평균 전력사용량을 시각화한 결과이다.\n",
    "# 불쾌지수와 관련없이 전력사용량의 평균이 비슷한 케이스와 \n",
    "# 불쾌지수가 높을수록 전력사용량이 늘어나는 두 가지의 케이스로 볼 수 있다.\n",
    "\n",
    "# 1. 불쾌지수의 수준과 전력사용량의 차이가 거의 없는 건물\n",
    "# - 사람들의 사용보다 건물 자체의 이용이 주가 되는 용도의 건물일 것이라고 판단\n",
    "# 2. 불쾌지수의 수준이 높아질수록 전력사용량이 증가하는 건물\n",
    "# - 사람들이 직접 이용하는 건물일 확률이 높다고 판단"
   ]
  },
  {
   "cell_type": "code",
   "execution_count": 32,
   "id": "2ce53952",
   "metadata": {},
   "outputs": [
    {
     "name": "stdout",
     "output_type": "stream",
     "text": [
      "11.940652931164212\n",
      "39.70264167119042\n"
     ]
    }
   ],
   "source": [
    "# <체감 온도> #\n",
    "# t >=31: 매우위험\n",
    "# 28<= t <31 : 위험\n",
    "# 25<= t <28 : 경고\n",
    "# 21<= t <25 : 주의\n",
    "# t <21 : 관심\n",
    "\n",
    "print(train['체감온도'].min())\n",
    "print(train['체감온도'].max())"
   ]
  },
  {
   "cell_type": "code",
   "execution_count": 33,
   "id": "05305174",
   "metadata": {},
   "outputs": [],
   "source": [
    "train.loc[train['체감온도']>=31,'체감온도_b']='매우\\위험'\n",
    "train.loc[(train['체감온도']>=28)&(train['체감온도']<31),'체감온도_b']='위험'\n",
    "train.loc[(train['체감온도']>=25)&(train['체감온도']<28),'체감온도_b']='경고'\n",
    "train.loc[(train['체감온도']>=21)&(train['체감온도']<25),'체감온도_b']='주의'\n",
    "train.loc[train['체감온도']<21,'체감온도_b']='관심'"
   ]
  },
  {
   "cell_type": "code",
   "execution_count": 34,
   "id": "961db65a",
   "metadata": {},
   "outputs": [
    {
     "data": {
      "text/plain": [
       "array(['관심', '주의', '경고', '위험', '매우\\\\위험'], dtype=object)"
      ]
     },
     "execution_count": 34,
     "metadata": {},
     "output_type": "execute_result"
    }
   ],
   "source": [
    "train['체감온도_b'].unique()"
   ]
  },
  {
   "cell_type": "code",
   "execution_count": 35,
   "id": "97ea4e99",
   "metadata": {},
   "outputs": [
    {
     "data": {
      "image/png": "[encoded data removed]",
      "text/plain": [
       "<Figure size 1080x1080 with 61 Axes>"
      ]
     },
     "metadata": {
      "needs_background": "light"
     },
     "output_type": "display_data"
    }
   ],
   "source": [
    "# 불쾌지수\n",
    "fig=plt.figure(figsize=(15,15))\n",
    "plt.title(\"각 건물별 체감온도와 평균 전력사용량(kWh)\",fontsize=15,y=1.05)\n",
    "plt.axis('off')\n",
    "\n",
    "colors=['pink','bisque','skyblue','palegreen','lightgrey']\n",
    "sensible_temp=train['체감온도_b'].unique()\n",
    "\n",
    "for num in range(1,61):\n",
    "    df=train[train.num==num]\n",
    "    df_counts=df.groupby('체감온도_b')['전력사용량(kWh)'].mean()\n",
    "    df_counts=df_counts.reindex(sensible_temp)\n",
    "    ax=fig.add_subplot(10,6,num)\n",
    "    ax.bar(df['체감온도_b'].unique(),df_counts,color=colors)\n",
    "    ax.set_title(f'건물: {num}')\n",
    "    \n",
    "plt.tight_layout()\n",
    "plt.show()"
   ]
  },
  {
   "cell_type": "code",
   "execution_count": 36,
   "id": "a5ac1149",
   "metadata": {},
   "outputs": [
    {
     "data": {
      "text/plain": [
       "주의       38824\n",
       "경고       36151\n",
       "위험       23044\n",
       "매우\\위험    12344\n",
       "관심       12037\n",
       "Name: 체감온도_b, dtype: int64"
      ]
     },
     "execution_count": 36,
     "metadata": {},
     "output_type": "execute_result"
    }
   ],
   "source": [
    "train['체감온도_b'].value_counts()"
   ]
  },
  {
   "cell_type": "code",
   "execution_count": 37,
   "id": "1c0a3b1e",
   "metadata": {},
   "outputs": [],
   "source": [
    "# 건물별 체감온도와 평균 전력사용량을 시각화한 결과이다.\n",
    "# 체감온도와 관련없이 전력사용량의 평균이 비슷한 케이스와 체감온도가 '경고'일 때\n",
    "# 가장 높은 건물들 두 가지의 케이스로 나누어 볼 수 있다.\n",
    "\n",
    "# 1. 체감온도의 수준과 전력사용량의 차이가 거의 없는 건물\n",
    "# - 예시 : 건물 1,3,5,9,15,16,31,32,33\n",
    "# - 예측 : 공장, 저장(창고) 등\n",
    "\n",
    "# 2. 체감온도의 수준이 높아질수록 전력사용량이 증가하는 건물\n",
    "# - 예시 : 건물 2,4,6,7,8,10,11,12,13,14,17-30, 34-60\n",
    "# - 예측 : 주거, 집회, 사업 등\n",
    "\n",
    "# 체감온도와 평균 전력사용량의 시각화를 통해 나눈 두 분류가 위 불쾌지수를 통해 나눈 분류와\n",
    "# 동일한 결과를 나타냄을 알 수 있다.\n",
    "\n",
    "# 사람의 이용인지, 건물 자체의 사용인지에 따라 상이한 전력사용량 및 비용 절약 방법을 추천할 수 있다."
   ]
  },
  {
   "cell_type": "code",
   "execution_count": 1,
   "id": "8955aa7a",
   "metadata": {},
   "outputs": [],
   "source": [
    "### 2) 시계열 분석 ###\n",
    "# 건물별로 시계열 분포가 다르므로 대표로 2개의 건물(건물 4, 건물 9)에 대해 시계열 분석을 하여\n",
    "# 어떤 시계열적 특징이 있는지 확인해보았다.\n",
    "\n",
    "## 시계열 분해\n",
    "# 우선 시계열 분해를 토애 건물별 전력사용랴응 추세, 계절성, 잔차로 분해하였다.\n",
    "\n",
    "def vis_time_series_decompose(num):\n",
    "    df=train[train.num==num]\n",
    "    df.index=df.date_time\n",
    "    \n",
    "    res=sm.tsa.seasonal_decompose(df['전력사용량(kWh)'],model='additive')\n",
    "    \n",
    "    fig,(ax1,ax2,ax3,ax4)=plt.subplots(4,1,figsize=(20,12))\n",
    "    res.observed.plot(ax=ax1,title='Observed')\n",
    "    res.trend.plot(ax=ax2,title='Trend')\n",
    "    res.resid.plot(ax=ax3,title='Residual')\n",
    "    res.seasonal.plot(ax=ax4,title='Seasonal')\n",
    "    plt.tight_layout()\n",
    "    plt.show()"
   ]
  },
  {
   "cell_type": "code",
   "execution_count": null,
   "id": "42a12a5d",
   "metadata": {},
   "outputs": [],
   "source": [
    "## 건물 4\n",
    "vis_time_series_decompose(num=4)"
   ]
  },
  {
   "cell_type": "code",
   "execution_count": null,
   "id": "4847d206",
   "metadata": {},
   "outputs": [],
   "source": [
    "## 건물 9\n",
    "vis_time_series_decompse(num=9)"
   ]
  },
  {
   "cell_type": "code",
   "execution_count": null,
   "id": "e0d5ec38",
   "metadata": {},
   "outputs": [],
   "source": [
    "## 건물 4\n",
    "df=train[train.num==4]\n",
    "fig,(ax1,ax2)=plt.subplots(nrows=2,figsize=(10,6))\n",
    "plot_acf(df['전력사용량(kWh)'],lags=50,ax=ax1)\n",
    "plot_pacf(df['전력사용량(kWh)'],lags=50,ax=ax2)\n",
    "plt.tight_layout()\n",
    "plt.show()"
   ]
  },
  {
   "cell_type": "code",
   "execution_count": null,
   "id": "71cc16b9",
   "metadata": {},
   "outputs": [],
   "source": [
    "## 건물 9\n",
    "df=train[train.num==9]\n",
    "fig,(ax1,ax2)=plt.subplots(nrows=2,figsize(10,6))\n",
    "plot_acf(df['전력사용량(kWh)'],lags=50,ax=ax1)\n",
    "plot_pacf(df['전력사용량(kWh)'],lags=50,ax=ax2)\n",
    "plt.tight_layout()\n",
    "plt.show()"
   ]
  },
  {
   "cell_type": "code",
   "execution_count": null,
   "id": "140a7ac5",
   "metadata": {},
   "outputs": [],
   "source": [
    "# PACF를 봤을 대 두 건물모두 전력사용량은 \n",
    "# 1시간, 2시간전과 크게 관계가 있고, 약 24시간 전의 전력사용량에도 약간의 영향을 받음을 확인할 수 있다."
   ]
  },
  {
   "cell_type": "code",
   "execution_count": null,
   "id": "e169ecbf",
   "metadata": {},
   "outputs": [],
   "source": [
    "## 3) 각 건물의 시간에 따른 평균 전력사용량 시가화\n",
    "# 시간별 평균 \n",
    "fig=plt.figure(figsize=(15,15))\n",
    "plt.title(\"각 건물의 시간별 평균 전력사용량(kWh)\",fontsize=15,y=1.05)\n",
    "plt.axis('off')\n",
    "\n",
    "for num in range(1,61):\n",
    "    df=train[train.num==num]\n",
    "    ax=fig.add_subplot(10,6,num)\n",
    "    ax.plot(df['hour'].unique(), df.groupby('hour')['전력사용량(kWh)'].mean())\n",
    "    ax.set_title(f'건물: {num}')\n",
    "    ax.set_xticks([0,6,12,18,24])\n",
    "plt.tight_layout()\n",
    "plt.show()"
   ]
  },
  {
   "cell_type": "code",
   "execution_count": 1,
   "id": "7de50dcf",
   "metadata": {},
   "outputs": [],
   "source": [
    "# 건물들은 하루동안 시간별로 가각 다르지만 또 비슷한 전력 사용 패턴을 보인다. \n",
    "# 눈에 띄는 패터넹 따라 건물들을 나눠 분석해보자.\n",
    "\n",
    "# 1. 6시에 전력사용량이 증가하여 9시~18시까지 전력사요얄잉 많은 건물\n",
    "# 예시 : 2,4,6,8 등\n",
    "# 용도 추측 : 상가, 사무실이 많은 회사 건물\n",
    "\n",
    "# 2. 1번 패턴과 비슷하나 12시쯤에 전력이 약간 줄어드는 건물\n",
    "# 예시 : 6,8,13,14 등\n",
    "# 용도 추측 : 점심시간을 갖는 회사가 모인 건물\n",
    "\n",
    "# 3. 1번 패턴과 비슷하나 자정쯤에 전력량이 상승하는 건물\n",
    "# 예시 : 7,18,23,42 등\n",
    "# 용도 추측 : 새벽에 서버를 돌리는 회사가 있는 건물\n",
    "\n",
    "# 4. 6시부터 상승하여 16시까지 비슷하다가 이후 20시쯤 피크를 찍는 건물\n",
    "# 예시 : 19, 20, 21, 49 등\n",
    "# 용도 추측 : 학원이 많은 건물, 24시간 페가 있는 건물\n",
    "\n",
    "# 5. 저녁~새벽에 전력사용량이 많은 건물\n",
    "# 예시 : 9 등\n",
    "# 용도 추측 : 저녁에 영업하는 주점 등이 있는 상가 건물일 가능성 높음\n",
    "\n",
    "# 이외에도 건물3의 경우 8시, 16시쯤 피크를 찍는 형태를 보이는 등의 패턴을 보인다."
   ]
  },
  {
   "cell_type": "code",
   "execution_count": null,
   "id": "f8e62a4d",
   "metadata": {},
   "outputs": [],
   "source": [
    "## 요일별 평균 전력사용량\n",
    "\n",
    "fig=plt.figure(figsize=(15,15))\n",
    "plt.title(\"각 건물의 요일별 평균 전력사용량(kWh)\", fontsize=15, y=1.05)\n",
    "plt.axis('off')\n",
    "\n",
    "weekday=['월','화','수','목','금','토','일']\n",
    "colors=['skyblue','skyblue','skyblue','skyblue','skyblue','pink','pink']\n",
    "\n",
    "for num in range(1,61):\n",
    "    df=train[train.num==num]\n",
    "    df_counts=df.groupby('weekday')['전력사용량(kWh)'].mean()\n",
    "    df_counts=df_countsreindex(weekday)\n",
    "    ax=fig.add_subplot(10,6,num)\n",
    "    ax.bar(df['weekday'].unique(),df_counts,color=colors)\n",
    "    ax.set_title(f'건물: {num}')\n",
    "plt.tight_layout()\n",
    "plt.show()"
   ]
  },
  {
   "cell_type": "code",
   "execution_count": null,
   "id": "bc82caa8",
   "metadata": {},
   "outputs": [],
   "source": [
    "# 일주일동안의 전력사용량을 요일별로 보면 크게 3가지 패턴으로 나뉜다.\n",
    "# 각 패턴에 따라 건물들을 나눠 분석해보았다.\n",
    "\n",
    "# 1. 주말에 사용량이 감소하는 건물\n",
    "# 예시 : 2,6,7 등 다수\n",
    "# 용도 추측 : 사무실이 많은 회사 건물, 학교\n",
    "\n",
    "# 2. 주말에 사용량이 약간 증가하는 건물\n",
    "# 예시 : 11, 12 등\n",
    "# 용도 추측 : 주거용 건물\n",
    "\n",
    "# 3. 요일 상관없이 사용량이 일정한 건물\n",
    "# 예시 : 1, 9\n",
    "# 용도 추측 : 대학병원"
   ]
  },
  {
   "cell_type": "code",
   "execution_count": null,
   "id": "0b185291",
   "metadata": {},
   "outputs": [],
   "source": [
    "## 시간+요일별 평균 전력사용량\n",
    "fig=plt.figure(figsize=(15,15))\n",
    "plt.title(\"각 건물의 시간에 따른 주말여부 평균 전력사용량(kWh)\",fontsize=15,y=1.05)\n",
    "plt.axis('off')\n",
    "\n",
    "for num in range(1,61):\n",
    "    df=train[train.num==num]\n",
    "    ax=fig.add_subplot(10,6,num)\n",
    "    ax.plot(df['hour'].unique(),df[df.weekend==0].groupby('hour')['전력사용량(kWh)'].mean(),label='평일')\n",
    "    ax.plot(df['hour'].unique(),df[df.weekend==1].groupby('hour')['전력사용량(kWh)'].mean(),label='주말')\n",
    "    ax.set_title(f'건물: {num}')\n",
    "    ax.set_xticks([0,6,12,18,24])     \n",
    "    lines,labels=fig.axes[-1].get_legend_handles_labels()\n",
    "    fig.legend(lines,labels,loc=1,prop={'size':12})\n",
    "    plt.tight_layout()\n",
    "    plt.show()"
   ]
  },
  {
   "cell_type": "code",
   "execution_count": null,
   "id": "85f09ae0",
   "metadata": {},
   "outputs": [],
   "source": [
    "# 마지막으로 평일과 주말을 나눠 하루동안의 전력사용량을 시각화하였다.\n",
    "# 마찬가지로 패턴에 따라 건물들을 나눠보았다.\n",
    "\n",
    "# 1. 평일과 주말의 패턴이 비슷한 건물\n",
    "# - 예시 : 4,9,10 등\n",
    "\n",
    "# 2. 평일과 주말의 낮시간대의 사용량이 차이나는 건물\n",
    "# - 예시 : 2,6,7 등\n",
    "\n",
    "# 3. 평일과 주말의 패턴이 반대인 건물\n",
    "# - 예시 : 27\n",
    "\n",
    "# 건물마다 시간에 따른 패턴이 다르지만 일정한 기준에 의해 묶을 수 있을 것으로 보인다.\n",
    "# 따라서 군집화를 통해 비슷한 패턴을 가진 건물끼리 묶어보도록 하였다."
   ]
  },
  {
   "cell_type": "code",
   "execution_count": null,
   "id": "f947198b",
   "metadata": {},
   "outputs": [],
   "source": [
    "### 군집화 ###\n",
    "## Clustering(군집화) : 현실세계의 데이터는 항상 label이 주어지는 것은 아니다.\n",
    "# 이러한 unlabeled 데이터에 숨겨진 패턴을 찾아내고 구조화하는 머신러닝 기법을 비지도 학습이라고 한다.\n",
    "# Clustering은 가장 널리 알려진 비지도 학습 중 한 가지 기법으로, 비슷한 유형의 데이터를 그룹화함으로써 \n",
    "# unlabeled 데이터에 숨겨진 구조를 파악한다.\n",
    "\n",
    "## K-Means Clustering : K-Means 알고리즘은 가장 유명한 클러스터링 알고리즘이다.\n",
    "# 'K'는 주어진 데이터로부터 그룹화 할 그룹, 즉 클러스터의 수를 말한다.\n",
    "# \"Means\"는 각 클러스터의 중심과 데이터들의 평균 거리를 의미한다. \n",
    "# 이때 클러스터의 중심을 centroids라고 한다.\n",
    "# [출처] https://eunsukimme.github.io/ml/2019/12/16/K-Means/"
   ]
  },
  {
   "cell_type": "code",
   "execution_count": null,
   "id": "8e80221a",
   "metadata": {},
   "outputs": [],
   "source": [
    "## K-Means와 SOM의 두 가지 알고리즘을 사용하여 건물을 군집화하였다.\n",
    "\n",
    "## 시계열 군집화용 DataFrame을 생성하는 함수(row->num, col->date_time)\n",
    "def cluster_df(scaler=MinMaxScaler()):\n",
    "    train_=train.copy()\n",
    "    train_ts=train_.pivot_table(values='전력사용량(kWh)',index=train_.num,columns='date_time', aggfunc='first')\n",
    "    \n",
    "    if scaler:\n",
    "        train_ts_T=scaler.fit_transform(trian_ts.T)\n",
    "        train_ts=pd.DataFrame(train_st_T.T,index=train_ts.index, columns=train_ts.columns)\n",
    "        \n",
    "    return train_ts"
   ]
  },
  {
   "cell_type": "code",
   "execution_count": null,
   "id": "ec2ee054",
   "metadata": {},
   "outputs": [],
   "source": [
    "## SOM 알고리즘 결과를 정리해주는 DataFrame을 생성하는 함수\n",
    "## SOM (Self-Organizing Map, SOM) : 차원축소(dimensionality reduction)와 군집화(clustering)을 동시에 수행하는 기법\n",
    "\n",
    "# 그림에서 연두색 25개의 점은 고차원의 원데이터공간에 대응되는 격자벡터이다.\n",
    "# 처음에는 그 위치를 랜덤으로 초기화한다. 이후 학습데이터 x(검정색 점)를 하나씩 추가해가며 \n",
    "# 격자벡터의 위치를 x의 위치와 비슷해지도록 업데이트한다.(instance-based learning)\n",
    "# [출처] https://ratsgo.github.io/machine%20learning/2017/05/01/SOM/\n",
    "def make_som_df(X):\n",
    "    win_map=som.win_map(X)\n",
    "    som_result=[]\n",
    "    for i in range(60):\n",
    "        som_result.append([i+1,som.winner(X[i])])\n",
    "    som_df=pd.DataFrame(som_result, columns=['num','cluster'])\n",
    "    return som_df"
   ]
  },
  {
   "cell_type": "code",
   "execution_count": null,
   "id": "c8cb0bbb",
   "metadata": {},
   "outputs": [],
   "source": [
    "## 여러 n_cluster에 대해 TimeSeriesKmenas를 시행하고 이를 시각화하는 함수\n",
    "def visualize_n_cluster(train_ts,n_lists=[3,4,5,6], metric='dtw',seed=2021,vis=True):\n",
    "    \n",
    "    if vis:\n",
    "        ifg=plt.figure(figsize=(20,5))\n",
    "        plt.title(\"군집 개수별 건물수 분포\",fontsize=15,y=1.2)\n",
    "        plt.axis('off')\n",
    "        \n",
    "    for idx, n in enumerate(n_lists):\n",
    "        ts_kmeans=TimeSeriesKMeans(n_clusters=n,metric=metric, random_state=seed)\n",
    "        train_ts['cluster(n={})'.format(n)]=ts.kemans.fit_predict(train_ts)\n",
    "        score=round(silhouette_score(train_ts,train_ts['cluster(n={})'.format(n)], metric='euclidean'),3)\n",
    "        \n",
    "        vc=train_ts['cluster(n={})'.format(n)].value_counts()\n",
    "        \n",
    "        if vis:\n",
    "            ax=fig.add_subplot(1,len(n_lists),idx+1)\n",
    "            sns.barplot(x=vc.index,y=vc,palette='Pastel1')\n",
    "            ax.set(title='n_cluster={0}\\nscore:{1}'.format(n,score))\n",
    "    if vis:\n",
    "        plt.tight_layout()\n",
    "        plt.show()\n",
    "        \n",
    "    return train_ts"
   ]
  },
  {
   "cell_type": "code",
   "execution_count": null,
   "id": "02b62d47",
   "metadata": {},
   "outputs": [],
   "source": [
    "# 1) Time-Series KMeans\n",
    "# 첫 번째로 이 알고리즘을 이용하여 전력사용량에 따라 건물을 군집화하였다.\n",
    "# 이 때, 전력사용량을 StandardScaler를이용하여 표준화하여 \n",
    "# 건물별 전력의 절대적 사용량이 아닌 사용 패턴을 사용하여 군집화하도록 하엿다.\n",
    "\n",
    "# 또한 각 관측치간의 거리를 계산할 때는 euclidean 거리를 사용하였다.\n",
    "\n",
    "# 시계열 데이터에서는 시간대가 다르더라도 계산할 수 있다는 장점을 지닌 \n",
    "#DTW(Dynamic Time Warping) 거리 계산 방법도 많이 사용하지만, 우리의 데이터는 건물별로 측정 기간이기 때문에\n",
    "# 속도가 빠른 eucildean 거리 계산 방법을 사용하였다.\n",
    "\n",
    "# 군집수의 범위는 위에서 건물별 평균 전력사용량을 시각화하였을 때 크게 3~6개의 패턴을 확인하였으므로 \n",
    "# 군집수를 3,4,5,6개로 설정하여 실루엣계수와 각 군집별 분포를 시각화하였다."
   ]
  },
  {
   "cell_type": "code",
   "execution_count": null,
   "id": "2a58e330",
   "metadata": {},
   "outputs": [],
   "source": [
    "train_ts=cluster_df(scaler=StandardScaler())\n",
    "train_ts=visualize_n_cluster(train_ts,n_lists=[3,4,5,6],metric='euclidean',seed=2021, vis=True)"
   ]
  },
  {
   "cell_type": "code",
   "execution_count": null,
   "id": "ebd5a5b7",
   "metadata": {},
   "outputs": [],
   "source": [
    "# 실루엣 계수가 높고 각 군집별로 건물 수가 극단적으로 치우치지 않은 n_cluster=4일 때를 선택하여\n",
    "# 군집화를 진행한다."
   ]
  },
  {
   "cell_type": "code",
   "execution_count": null,
   "id": "815f6bc7",
   "metadata": {},
   "outputs": [],
   "source": [
    "visualize_by_cluster(train_ts,n_cluster=4,algorithm='kmeans')"
   ]
  },
  {
   "cell_type": "code",
   "execution_count": null,
   "id": "add8f7d5",
   "metadata": {},
   "outputs": [],
   "source": [
    "# 각 군집별 내에서 건물들이 비슷한 패턴을 보임을 확인할 수 있다.\n",
    "# 0번 군집 : 6시~18시까지 전력사용량이 많고, 주말보다 평일의 전력사용량이 많은 건물들\n",
    "# 1번 군집 : 8시~20시까지 전력사용량이 많고, 주말과 평일의 전력상ㅇ량이 비슷한 건물들\n",
    "# 2번 군집 : 저녁 시간대에 전력사용량이 많고, 주말과 평일의 전력사용량이 비슷한 건물들\n",
    "# 3번 군집 : 시간별 전력사용량의 차이가 크지 않고, 주말과 평일의 전력사용량이 비슷한 건물들"
   ]
  },
  {
   "cell_type": "code",
   "execution_count": null,
   "id": "d74ec218",
   "metadata": {},
   "outputs": [],
   "source": [
    "# 2) SOM (Self-Organizing Maps)\n",
    "# 두 번째로 간단한 Neural Net인 SOM 알고리즘을 이용하여 전력사용량에 따라 건물을 군집화하였다.\n",
    "# 마찬가지로 건물별로 전력사용량 표준화를 진행하였고, 2x3의 그리드를 만들어 군집화하였다."
   ]
  },
  {
   "cell_type": "code",
   "execution_count": null,
   "id": "9aab8d91",
   "metadata": {},
   "outputs": [],
   "source": [
    "train_ts=cluster_df(scaler=StandardScaler())\n",
    "X=train_ts.values\n",
    "\n",
    "som=MiniSom(x=2,y=2,input_len=X.shape[1])\n",
    "som.random_weights_init(X)\n",
    "som.train(data=X,num_iteration=50000)"
   ]
  },
  {
   "cell_type": "code",
   "execution_count": null,
   "id": "44fea8f3",
   "metadata": {},
   "outputs": [],
   "source": [
    "som_df=make_som_df(X)\n",
    "visualize_by_cluster(som_df,6,algorithm='som')"
   ]
  },
  {
   "cell_type": "code",
   "execution_count": null,
   "id": "8b91d8db",
   "metadata": {
    "lines_to_next_cell": 0
   },
   "outputs": [],
   "source": [
    "# 마찬가지로 각 군집별 내에서 건물들이 비슷한 패턴을 보임을 확인할 수 있다.\n",
    "# 각 군집에 해당되는 건물들의 용도를 iBC 용도 분류에 기반하여 추측해보았다.\n",
    "\n",
    "# (0,1)번 군집\n",
    "# - 8시~20시까지 전력사용량이 많고, 주말과 평일의 전력사용량이 비슷한 건물들\n",
    "# - 용도 : 치료, 수용 / 상업\n",
    "\n",
    "# (1,2)번 군집\n",
    "# - 6시~18시까지 전력사용량이 많고, 주말보다 평일의 전력사용량이 많은 건물들\n",
    "# - 용도 : 업무 / 교육(학교)\n",
    "\n",
    "# (0,0)번 군집\n",
    "# - 저녁 시간대에 전력사용량이 많은 건물들\n",
    "# -용도 : 주거 / 상업(주점)\n",
    "\n",
    "# (1,1)번 군집\n",
    "# - 8시~20시까지 전력사용량이 많고, 주말보다 평일의 전력사용량이 많은 건물들\n",
    "\n",
    "# (0,2)번 군집\n",
    "# - 이른 아침부터 저녁까지 전력사용량이 많고, 주말보다 평일의 전력사용량이 많은 건물들\n",
    "# - 용도 : 공장\n",
    "\n",
    "# (1,0)번 군집\n",
    "# - 시간별 전력사용량의 차이가 크지 않고, 주말과 평일의 전력사용량이 비슷한 건물들\n",
    "# - 용도 : 저장(창고)\n",
    "\n",
    "# 대략적으로 위와 같이 각 군집의 특징을 설명할 수 있다.\n",
    "# 위와 같이 시간별 전력사용량 패턴에 따라 군집을 나누면 각 군집별로 다른 사업을 추진할 수 있을 것이다."
   ]
  },
  {
   "cell_type": "code",
   "execution_count": null,
   "id": "51ad3620",
   "metadata": {
    "lines_to_next_cell": 2
   },
   "outputs": [],
   "source": []
  }
 ],
 "metadata": {
  "jupytext": {
   "formats": "ipynb,py:light"
  },
  "kernelspec": {
   "display_name": "Python 3 (ipykernel)",
   "language": "python",
   "name": "python3"
  },
  "language_info": {
   "codemirror_mode": {
    "name": "ipython",
    "version": 3
   },
   "file_extension": ".py",
   "mimetype": "text/x-python",
   "name": "python",
   "nbconvert_exporter": "python",
   "pygments_lexer": "ipython3",
   "version": "3.9.12"
  }
 },
 "nbformat": 4,
 "nbformat_minor": 5
}
