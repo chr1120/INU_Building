{
 "cells": [
  {
   "cell_type": "code",
   "execution_count": 10,
   "id": "a4713317",
   "metadata": {},
   "outputs": [
    {
     "ename": "ModuleNotFoundError",
     "evalue": "No module named 'src'",
     "output_type": "error",
     "traceback": [
      "\u001b[1;31m---------------------------------------------------------------------------\u001b[0m",
      "\u001b[1;31mModuleNotFoundError\u001b[0m                       Traceback (most recent call last)",
      "Input \u001b[1;32mIn [10]\u001b[0m, in \u001b[0;36m<cell line: 8>\u001b[1;34m()\u001b[0m\n\u001b[0;32m      5\u001b[0m \u001b[38;5;28;01mimport\u001b[39;00m \u001b[38;5;21;01mtorch\u001b[39;00m\u001b[38;5;21;01m.\u001b[39;00m\u001b[38;5;21;01mnn\u001b[39;00m \u001b[38;5;28;01mas\u001b[39;00m \u001b[38;5;21;01mnn\u001b[39;00m\n\u001b[0;32m      6\u001b[0m \u001b[38;5;28;01mfrom\u001b[39;00m \u001b[38;5;21;01mIPython\u001b[39;00m\u001b[38;5;21;01m.\u001b[39;00m\u001b[38;5;21;01mdisplay\u001b[39;00m \u001b[38;5;28;01mimport\u001b[39;00m YouTubeVideo\n\u001b[1;32m----> 8\u001b[0m \u001b[38;5;28;01mfrom\u001b[39;00m \u001b[38;5;21;01msrc\u001b[39;00m\u001b[38;5;21;01m.\u001b[39;00m\u001b[38;5;21;01mpart3\u001b[39;00m\u001b[38;5;21;01m.\u001b[39;00m\u001b[38;5;21;01mMLP\u001b[39;00m \u001b[38;5;28;01mimport\u001b[39;00m MultiLayerPerceptron \u001b[38;5;28;01mas\u001b[39;00m MLP\n",
      "\u001b[1;31mModuleNotFoundError\u001b[0m: No module named 'src'"
     ]
    }
   ],
   "source": [
    "#https://seunghan96.github.io/rl/34.DQN%EA%B5%AC%ED%98%841/\n",
    "import gym\n",
    "import numpy as np\n",
    "import torch\n",
    "import torch.nn as nn\n",
    "from IPython.display import YouTubeVideo\n",
    "\n",
    "from src.part3.MLP import MultiLayerPerceptron as MLP"
   ]
  },
  {
   "cell_type": "code",
   "execution_count": 9,
   "id": "0d79f60d",
   "metadata": {},
   "outputs": [
    {
     "name": "stdout",
     "output_type": "stream",
     "text": [
      "Collecting srcNote: you may need to restart the kernel to use updated packages.\n"
     ]
    },
    {
     "name": "stderr",
     "output_type": "stream",
     "text": [
      "  ERROR: Command errored out with exit status 1:"
     ]
    },
    {
     "name": "stdout",
     "output_type": "stream",
     "text": [
      "\n",
      "  Downloading src-0.0.7.zip (6.3 kB)\n",
      "Building wheels for collected packages: src\n",
      "  Building wheel for src (setup.py): started\n",
      "  Building wheel for src (setup.py): finished with status 'error'\n",
      "  Running setup.py clean for src\n",
      "Failed to build src\n",
      "Installing collected packages: src\n",
      "    Running setup.py install for src: started\n",
      "    Running setup.py install for src: finished with status 'error'\n"
     ]
    },
    {
     "name": "stderr",
     "output_type": "stream",
     "text": [
      "\n",
      "   command: 'C:\\Users\\pc\\anaconda3\\python.exe' -u -c 'import io, os, sys, setuptools, tokenize; sys.argv[0] = '\"'\"'C:\\\\Users\\\\pc\\\\AppData\\\\Local\\\\Temp\\\\pip-install-b_g13s4e\\\\src_9ccb62b6f880445f9b0c317d1afb0bf3\\\\setup.py'\"'\"'; __file__='\"'\"'C:\\\\Users\\\\pc\\\\AppData\\\\Local\\\\Temp\\\\pip-install-b_g13s4e\\\\src_9ccb62b6f880445f9b0c317d1afb0bf3\\\\setup.py'\"'\"';f = getattr(tokenize, '\"'\"'open'\"'\"', open)(__file__) if os.path.exists(__file__) else io.StringIO('\"'\"'from setuptools import setup; setup()'\"'\"');code = f.read().replace('\"'\"'\\r\\n'\"'\"', '\"'\"'\\n'\"'\"');f.close();exec(compile(code, __file__, '\"'\"'exec'\"'\"'))' bdist_wheel -d 'C:\\Users\\pc\\AppData\\Local\\Temp\\pip-wheel-nwzds2kv'\n",
      "       cwd: C:\\Users\\pc\\AppData\\Local\\Temp\\pip-install-b_g13s4e\\src_9ccb62b6f880445f9b0c317d1afb0bf3\\\n",
      "  Complete output (48 lines):\n",
      "  running bdist_wheel\n",
      "  running build\n",
      "  running build_py\n",
      "  creating build\n",
      "  creating build\\lib\n",
      "  creating build\\lib\\src\n",
      "  copying src\\__init__.py -> build\\lib\\src\n",
      "  running egg_info\n",
      "  writing src.egg-info\\PKG-INFO\n",
      "  writing dependency_links to src.egg-info\\dependency_links.txt\n",
      "  deleting src.egg-info\\entry_points.txt\n",
      "  writing requirements to src.egg-info\\requires.txt\n",
      "  writing top-level names to src.egg-info\\top_level.txt\n",
      "  reading manifest file 'src.egg-info\\SOURCES.txt'\n",
      "  reading manifest template 'MANIFEST.in'\n",
      "  adding license file 'LICENSE.rst'\n",
      "  writing manifest file 'src.egg-info\\SOURCES.txt'\n",
      "  C:\\Users\\pc\\anaconda3\\lib\\site-packages\\setuptools\\command\\install.py:34: SetuptoolsDeprecationWarning: setup.py install is deprecated. Use build and pip and other standards-based tools.\n",
      "    warnings.warn(\n",
      "  Traceback (most recent call last):\n",
      "    File \"<string>\", line 1, in <module>\n",
      "    File \"C:\\Users\\pc\\AppData\\Local\\Temp\\pip-install-b_g13s4e\\src_9ccb62b6f880445f9b0c317d1afb0bf3\\setup.py\", line 70, in <module>\n",
      "      setup(\n",
      "    File \"C:\\Users\\pc\\anaconda3\\lib\\site-packages\\setuptools\\__init__.py\", line 87, in setup\n",
      "      return distutils.core.setup(**attrs)\n",
      "    File \"C:\\Users\\pc\\anaconda3\\lib\\site-packages\\setuptools\\_distutils\\core.py\", line 148, in setup\n",
      "      return run_commands(dist)\n",
      "    File \"C:\\Users\\pc\\anaconda3\\lib\\site-packages\\setuptools\\_distutils\\core.py\", line 163, in run_commands\n",
      "      dist.run_commands()\n",
      "    File \"C:\\Users\\pc\\anaconda3\\lib\\site-packages\\setuptools\\_distutils\\dist.py\", line 967, in run_commands\n",
      "      self.run_command(cmd)\n",
      "    File \"C:\\Users\\pc\\anaconda3\\lib\\site-packages\\setuptools\\dist.py\", line 1214, in run_command\n",
      "      super().run_command(command)\n",
      "    File \"C:\\Users\\pc\\anaconda3\\lib\\site-packages\\setuptools\\_distutils\\dist.py\", line 986, in run_command\n",
      "      cmd_obj.run()\n",
      "    File \"C:\\Users\\pc\\anaconda3\\lib\\site-packages\\wheel\\bdist_wheel.py\", line 301, in run\n",
      "      install = self.reinitialize_command('install',\n",
      "    File \"C:\\Users\\pc\\anaconda3\\lib\\site-packages\\setuptools\\__init__.py\", line 142, in reinitialize_command\n",
      "      cmd = _Command.reinitialize_command(self, command, reinit_subcommands)\n",
      "    File \"C:\\Users\\pc\\anaconda3\\lib\\site-packages\\setuptools\\_distutils\\cmd.py\", line 305, in reinitialize_command\n",
      "      return self.distribution.reinitialize_command(command,\n",
      "    File \"C:\\Users\\pc\\anaconda3\\lib\\site-packages\\setuptools\\_distutils\\dist.py\", line 951, in reinitialize_command\n",
      "      for sub in command.get_sub_commands():\n",
      "    File \"C:\\Users\\pc\\anaconda3\\lib\\site-packages\\setuptools\\_distutils\\cmd.py\", line 324, in get_sub_commands\n",
      "      if method is None or method(self):\n",
      "    File \"C:\\Users\\pc\\anaconda3\\lib\\site-packages\\setuptools\\_distutils\\command\\install.py\", line 750, in has_lib\n",
      "      return (self.distribution.has_pure_modules() or\n",
      "  AttributeError: 'NoneType' object has no attribute 'has_pure_modules'\n",
      "  ----------------------------------------\n",
      "  ERROR: Failed building wheel for src\n",
      "    ERROR: Command errored out with exit status 1:\n",
      "     command: 'C:\\Users\\pc\\anaconda3\\python.exe' -u -c 'import io, os, sys, setuptools, tokenize; sys.argv[0] = '\"'\"'C:\\\\Users\\\\pc\\\\AppData\\\\Local\\\\Temp\\\\pip-install-b_g13s4e\\\\src_9ccb62b6f880445f9b0c317d1afb0bf3\\\\setup.py'\"'\"'; __file__='\"'\"'C:\\\\Users\\\\pc\\\\AppData\\\\Local\\\\Temp\\\\pip-install-b_g13s4e\\\\src_9ccb62b6f880445f9b0c317d1afb0bf3\\\\setup.py'\"'\"';f = getattr(tokenize, '\"'\"'open'\"'\"', open)(__file__) if os.path.exists(__file__) else io.StringIO('\"'\"'from setuptools import setup; setup()'\"'\"');code = f.read().replace('\"'\"'\\r\\n'\"'\"', '\"'\"'\\n'\"'\"');f.close();exec(compile(code, __file__, '\"'\"'exec'\"'\"'))' install --record 'C:\\Users\\pc\\AppData\\Local\\Temp\\pip-record-ii2mc3ci\\install-record.txt' --single-version-externally-managed --compile --install-headers 'C:\\Users\\pc\\anaconda3\\Include\\src'\n",
      "         cwd: C:\\Users\\pc\\AppData\\Local\\Temp\\pip-install-b_g13s4e\\src_9ccb62b6f880445f9b0c317d1afb0bf3\\\n",
      "    Complete output (2 lines):\n",
      "    running install\n",
      "    You've probably made a mistake here and are trying to install from a 'src' directory which doesn't exist.\n",
      "    ----------------------------------------\n",
      "ERROR: Command errored out with exit status 1: 'C:\\Users\\pc\\anaconda3\\python.exe' -u -c 'import io, os, sys, setuptools, tokenize; sys.argv[0] = '\"'\"'C:\\\\Users\\\\pc\\\\AppData\\\\Local\\\\Temp\\\\pip-install-b_g13s4e\\\\src_9ccb62b6f880445f9b0c317d1afb0bf3\\\\setup.py'\"'\"'; __file__='\"'\"'C:\\\\Users\\\\pc\\\\AppData\\\\Local\\\\Temp\\\\pip-install-b_g13s4e\\\\src_9ccb62b6f880445f9b0c317d1afb0bf3\\\\setup.py'\"'\"';f = getattr(tokenize, '\"'\"'open'\"'\"', open)(__file__) if os.path.exists(__file__) else io.StringIO('\"'\"'from setuptools import setup; setup()'\"'\"');code = f.read().replace('\"'\"'\\r\\n'\"'\"', '\"'\"'\\n'\"'\"');f.close();exec(compile(code, __file__, '\"'\"'exec'\"'\"'))' install --record 'C:\\Users\\pc\\AppData\\Local\\Temp\\pip-record-ii2mc3ci\\install-record.txt' --single-version-externally-managed --compile --install-headers 'C:\\Users\\pc\\anaconda3\\Include\\src' Check the logs for full command output.\n"
     ]
    }
   ],
   "source": [
    "pip install src"
   ]
  },
  {
   "cell_type": "code",
   "execution_count": null,
   "id": "ea7f76f5",
   "metadata": {},
   "outputs": [],
   "source": [
    "env=gym.make('CartPole-v1')\n",
    "s_dim=env.observation_space.shape[0]\n",
    "a_dim=env.action_space.n\n",
    "\n",
    "print(\"state space dimension: {}\".format(s_dim))\n",
    "print(\"action space dimension: {}\".format(a_dim))"
   ]
  },
  {
   "cell_type": "code",
   "execution_count": null,
   "id": "a6933823",
   "metadata": {},
   "outputs": [],
   "source": [
    "def __init__(self,state_dim: int,action_dim: int,\n",
    "            qnet: nn.Module,lr: float,\n",
    "            gamma: float,epsilon: float):\n",
    "    super(NaiveDQN,self).__init__()\n",
    "    self.state_dim=state_dim\n",
    "    self.action_dim=action_dim\n",
    "    self.qnet=qnet\n",
    "    self.lr=lr\n",
    "    self.gamma=gamma\n",
    "    self.opt=torch.optim.Adam(params=self.qnet.parameters(),lr=lr)\n",
    "    self.register_buffer('epsilon',torch.ones(1)*epsilon)\n",
    "    \n",
    "    self.criteria=nn.MSELoss()"
   ]
  },
  {
   "cell_type": "code",
   "execution_count": null,
   "id": "5326597e",
   "metadata": {},
   "outputs": [],
   "source": [
    "def get_action(self,state):\n",
    "    qs=self.qnet(state)\n",
    "    \n",
    "    ## 행동 정책 mu : epsilon-greedy policy ##\n",
    "    if self.train:\n",
    "        prob=np.random.uniform(0.0,1.0,1)\n",
    "        # (1) Random 행동\n",
    "        if torch.from_numpy(prob).float()<=self.epsion:\n",
    "            action=np.random.choice(range(self.action_dim))\n",
    "            # (2) Greedy 행동\n",
    "            else:\n",
    "        action=qs.argmax(dim=-1)\n",
    "        \n",
    "    ## 평가 정책 pi : greedy policy ##\n",
    "    else:\n",
    "        action=qs.argmax(dim=-1)\n",
    "        return int(action)"
   ]
  },
  {
   "cell_type": "code",
   "execution_count": null,
   "id": "43ec41c2",
   "metadata": {},
   "outputs": [],
   "source": []
  }
 ],
 "metadata": {
  "jupytext": {
   "formats": "ipynb,py:light"
  },
  "kernelspec": {
   "display_name": "Python 3 (ipykernel)",
   "language": "python",
   "name": "python3"
  },
  "language_info": {
   "codemirror_mode": {
    "name": "ipython",
    "version": 3
   },
   "file_extension": ".py",
   "mimetype": "text/x-python",
   "name": "python",
   "nbconvert_exporter": "python",
   "pygments_lexer": "ipython3",
   "version": "3.9.12"
  }
 },
 "nbformat": 4,
 "nbformat_minor": 5
}
