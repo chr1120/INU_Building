{
 "cells": [
  {
   "cell_type": "code",
   "execution_count": 1,
   "id": "68581056",
   "metadata": {},
   "outputs": [
    {
     "data": {
      "text/html": [
       "        <script type=\"text/javascript\">\n",
       "        window.PlotlyConfig = {MathJaxConfig: 'local'};\n",
       "        if (window.MathJax) {MathJax.Hub.Config({SVG: {font: \"STIX-Web\"}});}\n",
       "        if (typeof require !== 'undefined') {\n",
       "        require.undef(\"plotly\");\n",
       "        requirejs.config({\n",
       "            paths: {\n",
       "                'plotly': ['https://cdn.plot.ly/plotly-2.9.0.min']\n",
       "            }\n",
       "        });\n",
       "        require(['plotly'], function(Plotly) {\n",
       "            window._Plotly = Plotly;\n",
       "        });\n",
       "        }\n",
       "        </script>\n",
       "        "
      ]
     },
     "metadata": {},
     "output_type": "display_data"
    }
   ],
   "source": [
    "#https://leedakyeong.tistory.com/entry/Deep-Learning-for-Time-Series-Forecasting-kaggle\n",
    "import warnings\n",
    "import numpy as np\n",
    "import pandas as pd\n",
    "import matplotlib.pyplot as plt\n",
    "import tensorflow\n",
    "from tensorflow.keras import optimizers\n",
    "from tensorflow.keras.utils import plot_model\n",
    "from tensorflow.keras.models import Sequential,Model\n",
    "from tensorflow.keras.layers import Conv1D, MaxPooling1D\n",
    "from tensorflow.keras.layers import Dense, LSTM, RepeatVector, TimeDistributed, Flatten\n",
    "from sklearn.metrics import mean_squared_error\n",
    "from sklearn.model_selection import train_test_split\n",
    "import plotly.graph_objs as go\n",
    "from plotly.offline import init_notebook_mode, iplot\n",
    "\n",
    "%matplotlib inline\n",
    "warnings.filterwarnings(\"ignore\")\n",
    "init_notebook_mode(connected=True)\n",
    "\n",
    "#Set seeds to make the experiment more reproducible\n",
    "from numpy.random import seed\n",
    "tensorflow.random.set_seed(1)\n",
    "seed(1)"
   ]
  },
  {
   "cell_type": "code",
   "execution_count": 2,
   "id": "936dc1ac",
   "metadata": {},
   "outputs": [
    {
     "data": {
      "image/png": "[encoded data removed]",
      "text/plain": [
       "<Figure size 432x288 with 1 Axes>"
      ]
     },
     "metadata": {
      "needs_background": "light"
     },
     "output_type": "display_data"
    }
   ],
   "source": [
    "# https://blog.naver.com/chromatic_365/222657670527\n",
    "import pandas as pd\n",
    "import seaborn as sns\n",
    "import matplotlib.pyplot as plt\n",
    "%matplotlib inline\n",
    "import numpy as np\n",
    "import pymysql\n",
    "import matplotlib as mpl\n",
    "\n",
    "# mysql db 연동\n",
    "db = pymysql.connect(host='127.0.0.1',password='gkftndlTek!!',user='root',db='tp',charset='utf8', \n",
    "    cursorclass=pymysql.cursors.DictCursor)\n",
    "\n",
    "cursor = db.cursor()\n",
    "\n",
    "query = \"select DATETIME, PU1, TE1, P1 from wholeData where DATETIME between '2014-01-01 00:00:00' and '2016-12-31 23:00:00'\"\n",
    "cursor.execute(query)\n",
    "db_export = cursor.fetchall()\n",
    "\n",
    "tp=pd.DataFrame(db_export)\n",
    "#db_result_df = db_result_df.drop([db_result_df.columns[0]], axis=1) # 중복 index열 삭제\n",
    "\n",
    "# scaling\n",
    "def standard_scaling(df, scale_columns):\n",
    "    for col in scale_columns:\n",
    "        series_mean = df[col].mean()\n",
    "        series_std = df[col].std()\n",
    "        df[col] = df[col].apply(lambda x: (x-series_mean)/series_std)\n",
    "    return df\n",
    "scale_columns = ['PU1', 'TE1', 'P1']\n",
    "\n",
    "tp_df=standard_scaling(tp, scale_columns)\n",
    "tp_df\n",
    "\n",
    "tp_df.index=tp_df['DATETIME']\n",
    "tp_df.set_index('DATETIME', inplace=True)\n",
    "tp_df.plot()\n",
    "plt.show()\n",
    "\n",
    "# 5. Train/Valudation Split\n",
    "from sklearn import linear_model\n",
    "from sklearn.model_selection import train_test_split\n",
    "from sklearn.metrics import mean_squared_error\n",
    "from math import sqrt\n",
    "\n",
    "# 학습 데이터와 테스트 데이터로 분리한다.\n",
    "# 'PU1'를 제외한 칼럼들은 x\n",
    "x=tp_df[tp_df.columns.difference(['TE1'])]\n",
    "\n",
    "y=tp_df['TE1']\n",
    "\n",
    "# 검증(test)는 20%로 한다. = test_size=0.4\n",
    "X_train, X_valid, y_train, y_valid=train_test_split(x,y,test_size=0.4,random_state=19)"
   ]
  },
  {
   "cell_type": "code",
   "execution_count": 3,
   "id": "5d0549cd",
   "metadata": {},
   "outputs": [
    {
     "name": "stdout",
     "output_type": "stream",
     "text": [
      "Train set shape (15758, 2)\n",
      "Test set shape (10506, 2)\n"
     ]
    }
   ],
   "source": [
    "print('Train set shape', X_train.shape)\n",
    "print('Test set shape',X_valid.shape)"
   ]
  },
  {
   "cell_type": "code",
   "execution_count": 4,
   "id": "6294cf8a",
   "metadata": {},
   "outputs": [],
   "source": [
    "X_train_series=X_train.values.reshape((X_train.shape[0],X_train.shape[1],1))\n",
    "X_valid_series=X_valid.values.reshape((X_valid.shape[0],X_valid.shape[1],1))"
   ]
  },
  {
   "cell_type": "code",
   "execution_count": 7,
   "id": "8745e7f3",
   "metadata": {},
   "outputs": [],
   "source": [
    "# 40번 반복학습하고, 한번에 256개씩 학습하며, learning rate는 0.0003으로 설정\n",
    "# optimizer는 adam을 사용\n",
    "epochs=40\n",
    "batch=256\n",
    "lr=0.0003\n",
    "adam=optimizers.Adam(lr)\n",
    "\n",
    "# Model Architecture\n",
    "model_lstm=Sequential()\n",
    "model_lstm.add(LSTM(50,activation='relu',input_shape=(X_train_series.shape[1],X_train_series.shape[2])))\n",
    "model_lstm.add(Dense(1))\n",
    "model_lstm.compile(loss='mse',optimizer=adam)"
   ]
  },
  {
   "cell_type": "code",
   "execution_count": 8,
   "id": "c3214e68",
   "metadata": {},
   "outputs": [
    {
     "name": "stdout",
     "output_type": "stream",
     "text": [
      "Model: \"sequential_1\"\n",
      "_________________________________________________________________\n",
      " Layer (type)                Output Shape              Param #   \n",
      "=================================================================\n",
      " lstm (LSTM)                 (None, 50)                10400     \n",
      "                                                                 \n",
      " dense_2 (Dense)             (None, 1)                 51        \n",
      "                                                                 \n",
      "=================================================================\n",
      "Total params: 10,451\n",
      "Trainable params: 10,451\n",
      "Non-trainable params: 0\n",
      "_________________________________________________________________\n"
     ]
    }
   ],
   "source": [
    "model_lstm.summary()"
   ]
  },
  {
   "cell_type": "code",
   "execution_count": 9,
   "id": "f9aaa4f0",
   "metadata": {},
   "outputs": [
    {
     "name": "stdout",
     "output_type": "stream",
     "text": [
      "Epoch 1/30\n",
      "493/493 - 2s - loss: 0.9015 - val_loss: 0.8431 - 2s/epoch - 4ms/step\n",
      "Epoch 2/30\n",
      "493/493 - 1s - loss: 0.8019 - val_loss: 0.7761 - 1s/epoch - 2ms/step\n",
      "Epoch 3/30\n",
      "493/493 - 1s - loss: 0.7479 - val_loss: 0.7326 - 1s/epoch - 2ms/step\n",
      "Epoch 4/30\n",
      "493/493 - 1s - loss: 0.7184 - val_loss: 0.7111 - 1s/epoch - 2ms/step\n",
      "Epoch 5/30\n",
      "493/493 - 1s - loss: 0.7034 - val_loss: 0.7004 - 1s/epoch - 2ms/step\n",
      "Epoch 6/30\n",
      "493/493 - 1s - loss: 0.6936 - val_loss: 0.6903 - 1s/epoch - 2ms/step\n",
      "Epoch 7/30\n",
      "493/493 - 1s - loss: 0.6864 - val_loss: 0.6841 - 1s/epoch - 2ms/step\n",
      "Epoch 8/30\n",
      "493/493 - 1s - loss: 0.6802 - val_loss: 0.6785 - 1s/epoch - 2ms/step\n",
      "Epoch 9/30\n",
      "493/493 - 1s - loss: 0.6754 - val_loss: 0.6745 - 1s/epoch - 2ms/step\n",
      "Epoch 10/30\n",
      "493/493 - 1s - loss: 0.6712 - val_loss: 0.6718 - 1s/epoch - 2ms/step\n",
      "Epoch 11/30\n",
      "493/493 - 1s - loss: 0.6687 - val_loss: 0.6709 - 1s/epoch - 2ms/step\n",
      "Epoch 12/30\n",
      "493/493 - 1s - loss: 0.6659 - val_loss: 0.6684 - 1s/epoch - 2ms/step\n",
      "Epoch 13/30\n",
      "493/493 - 1s - loss: 0.6647 - val_loss: 0.6654 - 1s/epoch - 2ms/step\n",
      "Epoch 14/30\n",
      "493/493 - 1s - loss: 0.6625 - val_loss: 0.6637 - 1s/epoch - 2ms/step\n",
      "Epoch 15/30\n",
      "493/493 - 1s - loss: 0.6607 - val_loss: 0.6631 - 1s/epoch - 2ms/step\n",
      "Epoch 16/30\n",
      "493/493 - 1s - loss: 0.6593 - val_loss: 0.6619 - 1s/epoch - 2ms/step\n",
      "Epoch 17/30\n",
      "493/493 - 1s - loss: 0.6581 - val_loss: 0.6613 - 1s/epoch - 2ms/step\n",
      "Epoch 18/30\n",
      "493/493 - 1s - loss: 0.6572 - val_loss: 0.6603 - 1s/epoch - 2ms/step\n",
      "Epoch 19/30\n",
      "493/493 - 1s - loss: 0.6557 - val_loss: 0.6600 - 1s/epoch - 2ms/step\n",
      "Epoch 20/30\n",
      "493/493 - 1s - loss: 0.6555 - val_loss: 0.6595 - 1s/epoch - 2ms/step\n",
      "Epoch 21/30\n",
      "493/493 - 1s - loss: 0.6541 - val_loss: 0.6601 - 1s/epoch - 2ms/step\n",
      "Epoch 22/30\n",
      "493/493 - 1s - loss: 0.6537 - val_loss: 0.6580 - 1s/epoch - 2ms/step\n",
      "Epoch 23/30\n",
      "493/493 - 1s - loss: 0.6530 - val_loss: 0.6571 - 1s/epoch - 2ms/step\n",
      "Epoch 24/30\n",
      "493/493 - 1s - loss: 0.6527 - val_loss: 0.6572 - 1s/epoch - 2ms/step\n",
      "Epoch 25/30\n",
      "493/493 - 1s - loss: 0.6520 - val_loss: 0.6571 - 1s/epoch - 2ms/step\n",
      "Epoch 26/30\n",
      "493/493 - 1s - loss: 0.6517 - val_loss: 0.6584 - 1s/epoch - 2ms/step\n",
      "Epoch 27/30\n",
      "493/493 - 1s - loss: 0.6510 - val_loss: 0.6596 - 1s/epoch - 2ms/step\n",
      "Epoch 28/30\n",
      "493/493 - 1s - loss: 0.6508 - val_loss: 0.6561 - 1s/epoch - 2ms/step\n",
      "Epoch 29/30\n",
      "493/493 - 1s - loss: 0.6501 - val_loss: 0.6577 - 1s/epoch - 2ms/step\n",
      "Epoch 30/30\n",
      "493/493 - 1s - loss: 0.6501 - val_loss: 0.6555 - 1s/epoch - 2ms/step\n"
     ]
    }
   ],
   "source": [
    "lstm_history=model_lstm.fit(X_train_series, y_train, validation_data=(X_valid_series, y_valid),epochs=30,verbose=2)"
   ]
  },
  {
   "cell_type": "code",
   "execution_count": 11,
   "id": "46488d6b",
   "metadata": {},
   "outputs": [],
   "source": [
    "lstm_train_pred=model_lstm.predict(X_train.values)\n",
    "lstm_valid_pred=model_lstm.predict(X_valid.values)\n",
    "\n",
    "Y_train=pd.DataFrame({'y_true':y_train,'y_pred':\n",
    "                     lstm_train_pred.reshape(lstm_train_pred.shape[0],)}).set_index(X_train.index).sort_index()\n",
    "Y_train=pd.merge(Y_train,tp_df,left_index=True,right_index=True,how='left')\n",
    "\n",
    "Y_valid=pd.DataFrame({'y_true':y_valid,'y_pred':\n",
    "                     lstm_valid_pred.reshape(lstm_valid_pred.shape[0],)}).set_index(X_valid.index).sort_index()\n",
    "Y_valid=pd.merge(Y_valid,tp_df,left_index=True,right_index=True,how='left')"
   ]
  },
  {
   "cell_type": "code",
   "execution_count": 12,
   "id": "5ca25c6e",
   "metadata": {},
   "outputs": [],
   "source": [
    "import pandas as pd\n",
    "import seaborn as sns\n",
    "import matplotlib.pyplot as plt\n",
    "%matplotlib inline\n",
    "import numpy as np\n",
    "import pymysql\n",
    "import matplotlib as mpl\n",
    "from sklearn import metrics\n",
    "\n",
    "def scoring(y_true,y_pred):\n",
    "    r2=round(metrics.r2_score(y_true,y_pred)*100,3)\n",
    "    \n",
    "    corr=round(np.corrcoef(y_true,y_pred)[0,1],3)\n",
    "    mape=round(metrics.mean_absolute_percentage_error(y_true,y_pred)*100,3)\n",
    "    rmse=round(metrics.mean_squared_error(y_true,y_pred,squared=False),3)\n",
    "    \n",
    "    df=pd.DataFrame({\n",
    "        'R2':r2,\n",
    "        \"Corr\":corr,\n",
    "        \"RMSE\":rmse,\n",
    "        \"MAPE\":mape\n",
    "    },\n",
    "    index=[0])\n",
    "    return df"
   ]
  },
  {
   "cell_type": "code",
   "execution_count": 13,
   "id": "bf55f6d0",
   "metadata": {},
   "outputs": [
    {
     "data": {
      "text/html": [
       "<div>\n",
       "<style scoped>\n",
       "    .dataframe tbody tr th:only-of-type {\n",
       "        vertical-align: middle;\n",
       "    }\n",
       "\n",
       "    .dataframe tbody tr th {\n",
       "        vertical-align: top;\n",
       "    }\n",
       "\n",
       "    .dataframe thead th {\n",
       "        text-align: right;\n",
       "    }\n",
       "</style>\n",
       "<table border=\"1\" class=\"dataframe\">\n",
       "  <thead>\n",
       "    <tr style=\"text-align: right;\">\n",
       "      <th></th>\n",
       "      <th>R2</th>\n",
       "      <th>Corr</th>\n",
       "      <th>RMSE</th>\n",
       "      <th>MAPE</th>\n",
       "    </tr>\n",
       "  </thead>\n",
       "  <tbody>\n",
       "    <tr>\n",
       "      <th>0</th>\n",
       "      <td>35.162</td>\n",
       "      <td>0.593</td>\n",
       "      <td>0.805</td>\n",
       "      <td>86.972</td>\n",
       "    </tr>\n",
       "  </tbody>\n",
       "</table>\n",
       "</div>"
      ],
      "text/plain": [
       "       R2   Corr   RMSE    MAPE\n",
       "0  35.162  0.593  0.805  86.972"
      ]
     },
     "execution_count": 13,
     "metadata": {},
     "output_type": "execute_result"
    }
   ],
   "source": [
    "scoring(Y_train.y_true, Y_train.y_pred)"
   ]
  },
  {
   "cell_type": "code",
   "execution_count": 14,
   "id": "c3ca32be",
   "metadata": {},
   "outputs": [
    {
     "data": {
      "text/html": [
       "<div>\n",
       "<style scoped>\n",
       "    .dataframe tbody tr th:only-of-type {\n",
       "        vertical-align: middle;\n",
       "    }\n",
       "\n",
       "    .dataframe tbody tr th {\n",
       "        vertical-align: top;\n",
       "    }\n",
       "\n",
       "    .dataframe thead th {\n",
       "        text-align: right;\n",
       "    }\n",
       "</style>\n",
       "<table border=\"1\" class=\"dataframe\">\n",
       "  <thead>\n",
       "    <tr style=\"text-align: right;\">\n",
       "      <th></th>\n",
       "      <th>R2</th>\n",
       "      <th>Corr</th>\n",
       "      <th>RMSE</th>\n",
       "      <th>MAPE</th>\n",
       "    </tr>\n",
       "  </thead>\n",
       "  <tbody>\n",
       "    <tr>\n",
       "      <th>0</th>\n",
       "      <td>34.445</td>\n",
       "      <td>0.587</td>\n",
       "      <td>0.81</td>\n",
       "      <td>78.112</td>\n",
       "    </tr>\n",
       "  </tbody>\n",
       "</table>\n",
       "</div>"
      ],
      "text/plain": [
       "       R2   Corr  RMSE    MAPE\n",
       "0  34.445  0.587  0.81  78.112"
      ]
     },
     "execution_count": 14,
     "metadata": {},
     "output_type": "execute_result"
    }
   ],
   "source": [
    "scoring(Y_valid.y_true, Y_valid.y_pred)"
   ]
  },
  {
   "cell_type": "code",
   "execution_count": 15,
   "id": "e24429bc",
   "metadata": {},
   "outputs": [
    {
     "name": "stdout",
     "output_type": "stream",
     "text": [
      "Obs of Test Set : 3383\n"
     ]
    }
   ],
   "source": [
    "temp=Y_valid.loc[(Y_valid.PU1<=1)&(Y_valid.TE1>=-1)&(Y_valid.P1>=0),].sort_values('DATETIME')\n",
    "#temp=Y_test.sort_values('DATETIME')\n",
    "print(\"Obs of Test Set :\",temp.shape[0])"
   ]
  },
  {
   "cell_type": "code",
   "execution_count": 16,
   "id": "1e355a41",
   "metadata": {},
   "outputs": [
    {
     "data": {
      "text/html": [
       "<div>\n",
       "<style scoped>\n",
       "    .dataframe tbody tr th:only-of-type {\n",
       "        vertical-align: middle;\n",
       "    }\n",
       "\n",
       "    .dataframe tbody tr th {\n",
       "        vertical-align: top;\n",
       "    }\n",
       "\n",
       "    .dataframe thead th {\n",
       "        text-align: right;\n",
       "    }\n",
       "</style>\n",
       "<table border=\"1\" class=\"dataframe\">\n",
       "  <thead>\n",
       "    <tr style=\"text-align: right;\">\n",
       "      <th></th>\n",
       "      <th>R2</th>\n",
       "      <th>Corr</th>\n",
       "      <th>RMSE</th>\n",
       "      <th>MAPE</th>\n",
       "    </tr>\n",
       "  </thead>\n",
       "  <tbody>\n",
       "    <tr>\n",
       "      <th>0</th>\n",
       "      <td>6.797</td>\n",
       "      <td>0.277</td>\n",
       "      <td>0.939</td>\n",
       "      <td>76.841</td>\n",
       "    </tr>\n",
       "  </tbody>\n",
       "</table>\n",
       "</div>"
      ],
      "text/plain": [
       "      R2   Corr   RMSE    MAPE\n",
       "0  6.797  0.277  0.939  76.841"
      ]
     },
     "execution_count": 16,
     "metadata": {},
     "output_type": "execute_result"
    }
   ],
   "source": [
    "scoring(temp.y_true, temp.y_pred)"
   ]
  },
  {
   "cell_type": "code",
   "execution_count": 17,
   "id": "ea4ab7cc",
   "metadata": {},
   "outputs": [],
   "source": [
    "def abline(slope,intercept):\n",
    "    axes=plt.gca()\n",
    "    x_vals=np.array(axes.get_xlim())\n",
    "    y_vals=intercept+slope*x_vals\n",
    "    plt.plot(x_vals,y_vals,'--')\n",
    "    \n",
    "def MinMax(y_true,y_pred,m=\"min\"):\n",
    "    if(m==\"min\"):\n",
    "        return min(min(y_true),min(y_pred))-2\n",
    "    else:\n",
    "        return max(max(y_true),max(y_pred))+2\n",
    "    \n",
    "def myGraph(temp,title,index):\n",
    "    fig,axs=plt.subplots(1,2,figsize=(17,4))\n",
    "\n",
    "    axs[0].plot(temp.index,temp.y_true,label=\"Original\")\n",
    "    axs[0].plot(temp.index,temp.y_pred,label=\"Predicted\")\n",
    "    \n",
    "    axs[0].legend(loc='upper right')\n",
    "    axs[0].title.set_text('TE1_predicted')\n",
    "    axs[0].set_xlabel(\"DATETIME\")\n",
    "    axs[0].set_ylabel(\"TE1\")\n",
    "    \n",
    "    axs[1].plot(temp.y_true,temp.y_pred,'.')\n",
    "    \n",
    "    plt.xlim(MinMax(temp.y_true,temp.y_pred),MinMax(temp.y_true,temp.y_pred,\"max\"))\n",
    "\n",
    "    plt.ylim(MinMax(temp.y_true,temp.y_pred),MinMax(temp.y_true,temp.y_pred,\"max\"))\n",
    "    abline(1,0)\n",
    "    plt.title('TE1_predicted')\n",
    "    plt.xlabel(\"Original\")\n",
    "    plt.ylabel(\"Predicted\")\n",
    "\n",
    "    plt.show()"
   ]
  },
  {
   "cell_type": "code",
   "execution_count": 18,
   "id": "f27b1331",
   "metadata": {},
   "outputs": [
    {
     "data": {
      "image/png": "[encoded data removed]",
      "text/plain": [
       "<Figure size 1224x288 with 2 Axes>"
      ]
     },
     "metadata": {
      "needs_background": "light"
     },
     "output_type": "display_data"
    }
   ],
   "source": [
    "myGraph(temp,'LSTM TE1','DATETIME')"
   ]
  },
  {
   "cell_type": "code",
   "execution_count": null,
   "id": "e69cacf4",
   "metadata": {},
   "outputs": [],
   "source": []
  }
 ],
 "metadata": {
  "jupytext": {
   "formats": "ipynb,py:light"
  },
  "kernelspec": {
   "display_name": "Python 3 (ipykernel)",
   "language": "python",
   "name": "python3"
  },
  "language_info": {
   "codemirror_mode": {
    "name": "ipython",
    "version": 3
   },
   "file_extension": ".py",
   "mimetype": "text/x-python",
   "name": "python",
   "nbconvert_exporter": "python",
   "pygments_lexer": "ipython3",
   "version": "3.9.12"
  }
 },
 "nbformat": 4,
 "nbformat_minor": 5
}
