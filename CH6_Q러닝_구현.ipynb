{
 "cells": [
  {
   "cell_type": "code",
   "execution_count": null,
   "id": "0529da4e",
   "metadata": {},
   "outputs": [],
   "source": [
    "class QAgent():\n",
    "    def __init__(self):\n",
    "        self.q_table=np.zeros((5,7,4)) # 마찬가지로 Q 테이블을 0으로 초기화\n",
    "        self.eps=0.9\n",
    "        \n",
    "    def select_action(self,s):\n",
    "        # eps-greedy로 액션을 선택해준다.\n",
    "        x,y=s\n",
    "        coin=random.random()\n",
    "        if coin<self.eps:\n",
    "            action=random.randint(0,3)\n",
    "            \n",
    "        else:\n",
    "            action_val=self.q_table[x,y,:]\n",
    "            action=np.argmax(action_val)\n",
    "        \n",
    "        return action\n",
    "    \n",
    "    def update_table(self,transition):\n",
    "        s,a,r,s_prime=transition\n",
    "        x,y=s\n",
    "        next_x, next_y=s_prime\n",
    "        # Q 러닝 업데이트 식을 이용\n",
    "        self.q_table[x,y,a]=self.q_table[x,y,a]+0.1*(r+np.amax(self.q_table[next_x,next_y,:])-self.q_table[x,y,a])\n",
    "        \n",
    "    def anneal_eps(self):\n",
    "        self.eps-=0.01 # Q러닝에선 epsilon이 좀 더 천천히 줄어들도록 함\n",
    "        self.eps=max(self.eps,0.2)\n",
    "        \n",
    "    def show_table(self):\n",
    "        q_lst=self.q_table.tolist()\n",
    "        data=np.zeros((5,7))\n",
    "        for row_idx in range(len(q_lst)):\n",
    "            row=q_lst[row_idx]\n",
    "            for col_idx in range(len(row)):\n",
    "                co=row[col_idx]\n",
    "                action=np.argmax(col)\n",
    "                data[row_idx,col_idx]=action\n",
    "        print(data)"
   ]
  }
 ],
 "metadata": {
  "jupytext": {
   "formats": "ipynb,py:light"
  },
  "kernelspec": {
   "display_name": "Python 3 (ipykernel)",
   "language": "python",
   "name": "python3"
  },
  "language_info": {
   "codemirror_mode": {
    "name": "ipython",
    "version": 3
   },
   "file_extension": ".py",
   "mimetype": "text/x-python",
   "name": "python",
   "nbconvert_exporter": "python",
   "pygments_lexer": "ipython3",
   "version": "3.9.12"
  }
 },
 "nbformat": 4,
 "nbformat_minor": 5
}
