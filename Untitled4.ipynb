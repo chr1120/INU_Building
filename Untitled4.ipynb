{
 "cells": [
  {
   "cell_type": "code",
   "execution_count": 6,
   "id": "6a8a1c44",
   "metadata": {},
   "outputs": [
    {
     "data": {
      "text/html": [
       "        <script type=\"text/javascript\">\n",
       "        window.PlotlyConfig = {MathJaxConfig: 'local'};\n",
       "        if (window.MathJax) {MathJax.Hub.Config({SVG: {font: \"STIX-Web\"}});}\n",
       "        if (typeof require !== 'undefined') {\n",
       "        require.undef(\"plotly\");\n",
       "        requirejs.config({\n",
       "            paths: {\n",
       "                'plotly': ['https://cdn.plot.ly/plotly-2.9.0.min']\n",
       "            }\n",
       "        });\n",
       "        require(['plotly'], function(Plotly) {\n",
       "            window._Plotly = Plotly;\n",
       "        });\n",
       "        }\n",
       "        </script>\n",
       "        "
      ]
     },
     "metadata": {},
     "output_type": "display_data"
    }
   ],
   "source": [
    "import warnings\n",
    "import numpy as np\n",
    "import pandas as pd\n",
    "import matplotlib.pyplot as plt\n",
    "import tensorflow\n",
    "from tensorflow.keras import optimizers\n",
    "from tensorflow.keras.utils import plot_model\n",
    "from tensorflow.keras.models import Sequential,Model\n",
    "from tensorflow.keras.layers import Conv1D, MaxPooling1D\n",
    "from tensorflow.keras.layers import Dense, LSTM, RepeatVector, TimeDistributed, Flatten\n",
    "from sklearn.metrics import mean_squared_error\n",
    "from sklearn.model_selection import train_test_split\n",
    "import plotly.graph_objs as go\n",
    "from plotly.offline import init_notebook_mode, iplot\n",
    "\n",
    "%matplotlib inline\n",
    "warnings.filterwarnings(\"ignore\")\n",
    "init_notebook_mode(connected=True)\n",
    "\n",
    "#Set seeds to make the experiment more reproducible\n",
    "from numpy.random import seed\n",
    "tensorflow.random.set_seed(1)\n",
    "seed(1)"
   ]
  },
  {
   "cell_type": "code",
   "execution_count": 3,
   "id": "471565e6",
   "metadata": {},
   "outputs": [
    {
     "data": {
      "image/png": "[encoded data removed]",
      "text/plain": [
       "<Figure size 432x288 with 1 Axes>"
      ]
     },
     "metadata": {
      "needs_background": "light"
     },
     "output_type": "display_data"
    }
   ],
   "source": [
    "# https://blog.naver.com/chromatic_365/222657670527\n",
    "import pandas as pd\n",
    "import seaborn as sns\n",
    "import matplotlib.pyplot as plt\n",
    "%matplotlib inline\n",
    "import numpy as np\n",
    "import pymysql\n",
    "import matplotlib as mpl\n",
    "\n",
    "# mysql db 연동\n",
    "db = pymysql.connect(host='127.0.0.1',password='gkftndlTek!!',user='root',db='tp',charset='utf8', \n",
    "    cursorclass=pymysql.cursors.DictCursor)\n",
    "\n",
    "cursor = db.cursor()\n",
    "\n",
    "query = \"select DATETIME, PU1, TE1, P1 from wholeData where DATETIME between '2014-01-01 00:00:00' and '2016-12-31 23:00:00'\"\n",
    "cursor.execute(query)\n",
    "db_export = cursor.fetchall()\n",
    "\n",
    "tp=pd.DataFrame(db_export)\n",
    "#db_result_df = db_result_df.drop([db_result_df.columns[0]], axis=1) # 중복 index열 삭제\n",
    "\n",
    "# scaling\n",
    "def standard_scaling(df, scale_columns):\n",
    "    for col in scale_columns:\n",
    "        series_mean = df[col].mean()\n",
    "        series_std = df[col].std()\n",
    "        df[col] = df[col].apply(lambda x: (x-series_mean)/series_std)\n",
    "    return df\n",
    "scale_columns = ['PU1', 'TE1', 'P1']\n",
    "\n",
    "tp_df=standard_scaling(tp, scale_columns)\n",
    "tp_df\n",
    "\n",
    "tp_df.index=tp_df['DATETIME']\n",
    "tp_df.set_index('DATETIME', inplace=True)\n",
    "tp_df.plot()\n",
    "plt.show()\n",
    "\n",
    "# 5. Train/Valudation Split\n",
    "from sklearn import linear_model\n",
    "from sklearn.model_selection import train_test_split\n",
    "from sklearn.metrics import mean_squared_error\n",
    "from math import sqrt\n",
    "\n",
    "# 학습 데이터와 테스트 데이터로 분리한다.\n",
    "# 'PU1'를 제외한 칼럼들은 x\n",
    "x=tp_df[tp_df.columns.difference(['PU1'])]\n",
    "\n",
    "y=tp_df['PU1']\n",
    "\n",
    "# 검증(test)는 20%로 한다. = test_size=0.2\n",
    "X_train, X_test, y_train, y_test=train_test_split(x,y,test_size=0.2,random_state=19)"
   ]
  },
  {
   "cell_type": "code",
   "execution_count": 4,
   "id": "536cc495",
   "metadata": {},
   "outputs": [
    {
     "name": "stdout",
     "output_type": "stream",
     "text": [
      "Train set shape (21011, 2)\n",
      "Test set shape (5253, 2)\n"
     ]
    }
   ],
   "source": [
    "print('Train set shape', X_train.shape)\n",
    "print('Test set shape',X_test.shape)"
   ]
  },
  {
   "cell_type": "code",
   "execution_count": 29,
   "id": "1e26a43a",
   "metadata": {},
   "outputs": [],
   "source": [
    "# 40번 반복학습하고, 한번에 256개씩 학습하며, learning rate는 0.0003으로 설정\n",
    "# optimizer는 adam을 사용\n",
    "epochs=40\n",
    "batch=256\n",
    "lr=0.0003\n",
    "adam=optimizers.Adam(lr)\n",
    "\n",
    "# Model Architecture\n",
    "model_mlp=Sequential()\n",
    "model_mlp.add(Dense(100, activation='relu', input_dim=X_train.shape[1]))\n",
    "model_mlp.add(Dense(1))\n",
    "model_mlp.compile(loss='mse',optimizer=adam)"
   ]
  },
  {
   "cell_type": "code",
   "execution_count": 30,
   "id": "2569b776",
   "metadata": {},
   "outputs": [
    {
     "name": "stdout",
     "output_type": "stream",
     "text": [
      "Model: \"sequential_3\"\n",
      "_________________________________________________________________\n",
      " Layer (type)                Output Shape              Param #   \n",
      "=================================================================\n",
      " dense_6 (Dense)             (None, 100)               300       \n",
      "                                                                 \n",
      " dense_7 (Dense)             (None, 1)                 101       \n",
      "                                                                 \n",
      "=================================================================\n",
      "Total params: 401\n",
      "Trainable params: 401\n",
      "Non-trainable params: 0\n",
      "_________________________________________________________________\n"
     ]
    }
   ],
   "source": [
    "model_mlp.summary()"
   ]
  },
  {
   "cell_type": "code",
   "execution_count": 35,
   "id": "cfcede88",
   "metadata": {
    "scrolled": false
   },
   "outputs": [
    {
     "name": "stdout",
     "output_type": "stream",
     "text": [
      "Epoch 1/40\n",
      "657/657 - 0s - loss: 0.5839 - 451ms/epoch - 686us/step\n",
      "Epoch 2/40\n",
      "657/657 - 0s - loss: 0.5834 - 433ms/epoch - 659us/step\n",
      "Epoch 3/40\n",
      "657/657 - 0s - loss: 0.5832 - 447ms/epoch - 680us/step\n",
      "Epoch 4/40\n",
      "657/657 - 0s - loss: 0.5833 - 434ms/epoch - 660us/step\n",
      "Epoch 5/40\n",
      "657/657 - 0s - loss: 0.5823 - 449ms/epoch - 683us/step\n",
      "Epoch 6/40\n",
      "657/657 - 0s - loss: 0.5825 - 439ms/epoch - 668us/step\n",
      "Epoch 7/40\n",
      "657/657 - 0s - loss: 0.5820 - 447ms/epoch - 680us/step\n",
      "Epoch 8/40\n",
      "657/657 - 0s - loss: 0.5824 - 444ms/epoch - 676us/step\n",
      "Epoch 9/40\n",
      "657/657 - 0s - loss: 0.5817 - 433ms/epoch - 659us/step\n",
      "Epoch 10/40\n",
      "657/657 - 0s - loss: 0.5817 - 440ms/epoch - 669us/step\n",
      "Epoch 11/40\n",
      "657/657 - 0s - loss: 0.5814 - 433ms/epoch - 659us/step\n",
      "Epoch 12/40\n",
      "657/657 - 0s - loss: 0.5818 - 437ms/epoch - 665us/step\n",
      "Epoch 13/40\n",
      "657/657 - 0s - loss: 0.5813 - 438ms/epoch - 666us/step\n",
      "Epoch 14/40\n",
      "657/657 - 0s - loss: 0.5814 - 438ms/epoch - 666us/step\n",
      "Epoch 15/40\n",
      "657/657 - 0s - loss: 0.5807 - 442ms/epoch - 672us/step\n",
      "Epoch 16/40\n",
      "657/657 - 0s - loss: 0.5806 - 450ms/epoch - 685us/step\n",
      "Epoch 17/40\n",
      "657/657 - 0s - loss: 0.5811 - 447ms/epoch - 680us/step\n",
      "Epoch 18/40\n",
      "657/657 - 0s - loss: 0.5810 - 435ms/epoch - 662us/step\n",
      "Epoch 19/40\n",
      "657/657 - 0s - loss: 0.5802 - 434ms/epoch - 660us/step\n",
      "Epoch 20/40\n",
      "657/657 - 0s - loss: 0.5800 - 430ms/epoch - 654us/step\n",
      "Epoch 21/40\n",
      "657/657 - 0s - loss: 0.5803 - 437ms/epoch - 665us/step\n",
      "Epoch 22/40\n",
      "657/657 - 0s - loss: 0.5796 - 443ms/epoch - 674us/step\n",
      "Epoch 23/40\n",
      "657/657 - 0s - loss: 0.5801 - 444ms/epoch - 676us/step\n",
      "Epoch 24/40\n",
      "657/657 - 0s - loss: 0.5799 - 442ms/epoch - 672us/step\n",
      "Epoch 25/40\n",
      "657/657 - 0s - loss: 0.5794 - 442ms/epoch - 673us/step\n",
      "Epoch 26/40\n",
      "657/657 - 0s - loss: 0.5800 - 445ms/epoch - 677us/step\n",
      "Epoch 27/40\n",
      "657/657 - 0s - loss: 0.5795 - 440ms/epoch - 669us/step\n",
      "Epoch 28/40\n",
      "657/657 - 0s - loss: 0.5796 - 445ms/epoch - 677us/step\n",
      "Epoch 29/40\n",
      "657/657 - 0s - loss: 0.5802 - 446ms/epoch - 679us/step\n",
      "Epoch 30/40\n",
      "657/657 - 0s - loss: 0.5798 - 440ms/epoch - 669us/step\n",
      "Epoch 31/40\n",
      "657/657 - 0s - loss: 0.5791 - 442ms/epoch - 672us/step\n",
      "Epoch 32/40\n",
      "657/657 - 0s - loss: 0.5786 - 450ms/epoch - 685us/step\n",
      "Epoch 33/40\n",
      "657/657 - 0s - loss: 0.5789 - 438ms/epoch - 666us/step\n",
      "Epoch 34/40\n",
      "657/657 - 0s - loss: 0.5790 - 437ms/epoch - 665us/step\n",
      "Epoch 35/40\n",
      "657/657 - 0s - loss: 0.5789 - 438ms/epoch - 666us/step\n",
      "Epoch 36/40\n",
      "657/657 - 0s - loss: 0.5785 - 447ms/epoch - 680us/step\n",
      "Epoch 37/40\n",
      "657/657 - 0s - loss: 0.5782 - 442ms/epoch - 672us/step\n",
      "Epoch 38/40\n",
      "657/657 - 0s - loss: 0.5784 - 435ms/epoch - 662us/step\n",
      "Epoch 39/40\n",
      "657/657 - 0s - loss: 0.5786 - 433ms/epoch - 659us/step\n",
      "Epoch 40/40\n",
      "657/657 - 0s - loss: 0.5786 - 433ms/epoch - 659us/step\n"
     ]
    },
    {
     "ename": "ValueError",
     "evalue": "array length 5253 does not match index length 21011",
     "output_type": "error",
     "traceback": [
      "\u001b[1;31m---------------------------------------------------------------------------\u001b[0m",
      "\u001b[1;31mValueError\u001b[0m                                Traceback (most recent call last)",
      "Input \u001b[1;32mIn [35]\u001b[0m, in \u001b[0;36m<cell line: 10>\u001b[1;34m()\u001b[0m\n\u001b[0;32m      6\u001b[0m Y_train\u001b[38;5;241m=\u001b[39mpd\u001b[38;5;241m.\u001b[39mDataFrame({\u001b[38;5;124m'\u001b[39m\u001b[38;5;124my_true\u001b[39m\u001b[38;5;124m'\u001b[39m:y_train,\u001b[38;5;124m'\u001b[39m\u001b[38;5;124my_pred\u001b[39m\u001b[38;5;124m'\u001b[39m:\n\u001b[0;32m      7\u001b[0m                      mlp_train_pred\u001b[38;5;241m.\u001b[39mreshape(mlp_train_pred\u001b[38;5;241m.\u001b[39mshape[\u001b[38;5;241m0\u001b[39m],)})\u001b[38;5;241m.\u001b[39mset_index(X_train\u001b[38;5;241m.\u001b[39mindex)\u001b[38;5;241m.\u001b[39msort_index()\n\u001b[0;32m      8\u001b[0m Y_train\u001b[38;5;241m=\u001b[39mpd\u001b[38;5;241m.\u001b[39mmerge(Y_train,X_train,left_index\u001b[38;5;241m=\u001b[39m\u001b[38;5;28;01mTrue\u001b[39;00m,right_index\u001b[38;5;241m=\u001b[39m\u001b[38;5;28;01mTrue\u001b[39;00m,how\u001b[38;5;241m=\u001b[39m\u001b[38;5;124m'\u001b[39m\u001b[38;5;124mleft\u001b[39m\u001b[38;5;124m'\u001b[39m)\n\u001b[1;32m---> 10\u001b[0m Y_test\u001b[38;5;241m=\u001b[39m\u001b[43mpd\u001b[49m\u001b[38;5;241;43m.\u001b[39;49m\u001b[43mDataFrame\u001b[49m\u001b[43m(\u001b[49m\u001b[43m{\u001b[49m\u001b[38;5;124;43m'\u001b[39;49m\u001b[38;5;124;43my_true\u001b[39;49m\u001b[38;5;124;43m'\u001b[39;49m\u001b[43m:\u001b[49m\u001b[43my_train\u001b[49m\u001b[43m,\u001b[49m\u001b[38;5;124;43m'\u001b[39;49m\u001b[38;5;124;43my_pred\u001b[39;49m\u001b[38;5;124;43m'\u001b[39;49m\u001b[43m:\u001b[49m\n\u001b[0;32m     11\u001b[0m \u001b[43m                     \u001b[49m\u001b[43mmlp_test_pred\u001b[49m\u001b[38;5;241;43m.\u001b[39;49m\u001b[43mreshape\u001b[49m\u001b[43m(\u001b[49m\u001b[43mmlp_test_pred\u001b[49m\u001b[38;5;241;43m.\u001b[39;49m\u001b[43mshape\u001b[49m\u001b[43m[\u001b[49m\u001b[38;5;241;43m0\u001b[39;49m\u001b[43m]\u001b[49m\u001b[43m,\u001b[49m\u001b[43m)\u001b[49m\u001b[43m}\u001b[49m\u001b[43m)\u001b[49m\u001b[38;5;241m.\u001b[39mset_index(X_test\u001b[38;5;241m.\u001b[39mindex)\u001b[38;5;241m.\u001b[39msort_index()\n\u001b[0;32m     12\u001b[0m Y_test\u001b[38;5;241m=\u001b[39mpd\u001b[38;5;241m.\u001b[39mmerge(Y_test,X_test,left_index\u001b[38;5;241m=\u001b[39m\u001b[38;5;28;01mTrue\u001b[39;00m,right_index\u001b[38;5;241m=\u001b[39m\u001b[38;5;28;01mTrue\u001b[39;00m,how\u001b[38;5;241m=\u001b[39m\u001b[38;5;124m'\u001b[39m\u001b[38;5;124mleft\u001b[39m\u001b[38;5;124m'\u001b[39m)\n",
      "File \u001b[1;32m~\\anaconda3\\lib\\site-packages\\pandas\\core\\frame.py:636\u001b[0m, in \u001b[0;36mDataFrame.__init__\u001b[1;34m(self, data, index, columns, dtype, copy)\u001b[0m\n\u001b[0;32m    630\u001b[0m     mgr \u001b[38;5;241m=\u001b[39m \u001b[38;5;28mself\u001b[39m\u001b[38;5;241m.\u001b[39m_init_mgr(\n\u001b[0;32m    631\u001b[0m         data, axes\u001b[38;5;241m=\u001b[39m{\u001b[38;5;124m\"\u001b[39m\u001b[38;5;124mindex\u001b[39m\u001b[38;5;124m\"\u001b[39m: index, \u001b[38;5;124m\"\u001b[39m\u001b[38;5;124mcolumns\u001b[39m\u001b[38;5;124m\"\u001b[39m: columns}, dtype\u001b[38;5;241m=\u001b[39mdtype, copy\u001b[38;5;241m=\u001b[39mcopy\n\u001b[0;32m    632\u001b[0m     )\n\u001b[0;32m    634\u001b[0m \u001b[38;5;28;01melif\u001b[39;00m \u001b[38;5;28misinstance\u001b[39m(data, \u001b[38;5;28mdict\u001b[39m):\n\u001b[0;32m    635\u001b[0m     \u001b[38;5;66;03m# GH#38939 de facto copy defaults to False only in non-dict cases\u001b[39;00m\n\u001b[1;32m--> 636\u001b[0m     mgr \u001b[38;5;241m=\u001b[39m \u001b[43mdict_to_mgr\u001b[49m\u001b[43m(\u001b[49m\u001b[43mdata\u001b[49m\u001b[43m,\u001b[49m\u001b[43m \u001b[49m\u001b[43mindex\u001b[49m\u001b[43m,\u001b[49m\u001b[43m \u001b[49m\u001b[43mcolumns\u001b[49m\u001b[43m,\u001b[49m\u001b[43m \u001b[49m\u001b[43mdtype\u001b[49m\u001b[38;5;241;43m=\u001b[39;49m\u001b[43mdtype\u001b[49m\u001b[43m,\u001b[49m\u001b[43m \u001b[49m\u001b[43mcopy\u001b[49m\u001b[38;5;241;43m=\u001b[39;49m\u001b[43mcopy\u001b[49m\u001b[43m,\u001b[49m\u001b[43m \u001b[49m\u001b[43mtyp\u001b[49m\u001b[38;5;241;43m=\u001b[39;49m\u001b[43mmanager\u001b[49m\u001b[43m)\u001b[49m\n\u001b[0;32m    637\u001b[0m \u001b[38;5;28;01melif\u001b[39;00m \u001b[38;5;28misinstance\u001b[39m(data, ma\u001b[38;5;241m.\u001b[39mMaskedArray):\n\u001b[0;32m    638\u001b[0m     \u001b[38;5;28;01mimport\u001b[39;00m \u001b[38;5;21;01mnumpy\u001b[39;00m\u001b[38;5;21;01m.\u001b[39;00m\u001b[38;5;21;01mma\u001b[39;00m\u001b[38;5;21;01m.\u001b[39;00m\u001b[38;5;21;01mmrecords\u001b[39;00m \u001b[38;5;28;01mas\u001b[39;00m \u001b[38;5;21;01mmrecords\u001b[39;00m\n",
      "File \u001b[1;32m~\\anaconda3\\lib\\site-packages\\pandas\\core\\internals\\construction.py:502\u001b[0m, in \u001b[0;36mdict_to_mgr\u001b[1;34m(data, index, columns, dtype, typ, copy)\u001b[0m\n\u001b[0;32m    494\u001b[0m     arrays \u001b[38;5;241m=\u001b[39m [\n\u001b[0;32m    495\u001b[0m         x\n\u001b[0;32m    496\u001b[0m         \u001b[38;5;28;01mif\u001b[39;00m \u001b[38;5;129;01mnot\u001b[39;00m \u001b[38;5;28mhasattr\u001b[39m(x, \u001b[38;5;124m\"\u001b[39m\u001b[38;5;124mdtype\u001b[39m\u001b[38;5;124m\"\u001b[39m) \u001b[38;5;129;01mor\u001b[39;00m \u001b[38;5;129;01mnot\u001b[39;00m \u001b[38;5;28misinstance\u001b[39m(x\u001b[38;5;241m.\u001b[39mdtype, ExtensionDtype)\n\u001b[0;32m    497\u001b[0m         \u001b[38;5;28;01melse\u001b[39;00m x\u001b[38;5;241m.\u001b[39mcopy()\n\u001b[0;32m    498\u001b[0m         \u001b[38;5;28;01mfor\u001b[39;00m x \u001b[38;5;129;01min\u001b[39;00m arrays\n\u001b[0;32m    499\u001b[0m     ]\n\u001b[0;32m    500\u001b[0m     \u001b[38;5;66;03m# TODO: can we get rid of the dt64tz special case above?\u001b[39;00m\n\u001b[1;32m--> 502\u001b[0m \u001b[38;5;28;01mreturn\u001b[39;00m \u001b[43marrays_to_mgr\u001b[49m\u001b[43m(\u001b[49m\u001b[43marrays\u001b[49m\u001b[43m,\u001b[49m\u001b[43m \u001b[49m\u001b[43mcolumns\u001b[49m\u001b[43m,\u001b[49m\u001b[43m \u001b[49m\u001b[43mindex\u001b[49m\u001b[43m,\u001b[49m\u001b[43m \u001b[49m\u001b[43mdtype\u001b[49m\u001b[38;5;241;43m=\u001b[39;49m\u001b[43mdtype\u001b[49m\u001b[43m,\u001b[49m\u001b[43m \u001b[49m\u001b[43mtyp\u001b[49m\u001b[38;5;241;43m=\u001b[39;49m\u001b[43mtyp\u001b[49m\u001b[43m,\u001b[49m\u001b[43m \u001b[49m\u001b[43mconsolidate\u001b[49m\u001b[38;5;241;43m=\u001b[39;49m\u001b[43mcopy\u001b[49m\u001b[43m)\u001b[49m\n",
      "File \u001b[1;32m~\\anaconda3\\lib\\site-packages\\pandas\\core\\internals\\construction.py:120\u001b[0m, in \u001b[0;36marrays_to_mgr\u001b[1;34m(arrays, columns, index, dtype, verify_integrity, typ, consolidate)\u001b[0m\n\u001b[0;32m    117\u001b[0m \u001b[38;5;28;01mif\u001b[39;00m verify_integrity:\n\u001b[0;32m    118\u001b[0m     \u001b[38;5;66;03m# figure out the index, if necessary\u001b[39;00m\n\u001b[0;32m    119\u001b[0m     \u001b[38;5;28;01mif\u001b[39;00m index \u001b[38;5;129;01mis\u001b[39;00m \u001b[38;5;28;01mNone\u001b[39;00m:\n\u001b[1;32m--> 120\u001b[0m         index \u001b[38;5;241m=\u001b[39m \u001b[43m_extract_index\u001b[49m\u001b[43m(\u001b[49m\u001b[43marrays\u001b[49m\u001b[43m)\u001b[49m\n\u001b[0;32m    121\u001b[0m     \u001b[38;5;28;01melse\u001b[39;00m:\n\u001b[0;32m    122\u001b[0m         index \u001b[38;5;241m=\u001b[39m ensure_index(index)\n",
      "File \u001b[1;32m~\\anaconda3\\lib\\site-packages\\pandas\\core\\internals\\construction.py:688\u001b[0m, in \u001b[0;36m_extract_index\u001b[1;34m(data)\u001b[0m\n\u001b[0;32m    683\u001b[0m     \u001b[38;5;28;01mif\u001b[39;00m lengths[\u001b[38;5;241m0\u001b[39m] \u001b[38;5;241m!=\u001b[39m \u001b[38;5;28mlen\u001b[39m(index):\n\u001b[0;32m    684\u001b[0m         msg \u001b[38;5;241m=\u001b[39m (\n\u001b[0;32m    685\u001b[0m             \u001b[38;5;124mf\u001b[39m\u001b[38;5;124m\"\u001b[39m\u001b[38;5;124marray length \u001b[39m\u001b[38;5;132;01m{\u001b[39;00mlengths[\u001b[38;5;241m0\u001b[39m]\u001b[38;5;132;01m}\u001b[39;00m\u001b[38;5;124m does not match index \u001b[39m\u001b[38;5;124m\"\u001b[39m\n\u001b[0;32m    686\u001b[0m             \u001b[38;5;124mf\u001b[39m\u001b[38;5;124m\"\u001b[39m\u001b[38;5;124mlength \u001b[39m\u001b[38;5;132;01m{\u001b[39;00m\u001b[38;5;28mlen\u001b[39m(index)\u001b[38;5;132;01m}\u001b[39;00m\u001b[38;5;124m\"\u001b[39m\n\u001b[0;32m    687\u001b[0m         )\n\u001b[1;32m--> 688\u001b[0m         \u001b[38;5;28;01mraise\u001b[39;00m \u001b[38;5;167;01mValueError\u001b[39;00m(msg)\n\u001b[0;32m    689\u001b[0m \u001b[38;5;28;01melse\u001b[39;00m:\n\u001b[0;32m    690\u001b[0m     index \u001b[38;5;241m=\u001b[39m default_index(lengths[\u001b[38;5;241m0\u001b[39m])\n",
      "\u001b[1;31mValueError\u001b[0m: array length 5253 does not match index length 21011"
     ]
    }
   ],
   "source": [
    "mlp_history=model_mlp.fit(X_train.values,y_train,epochs=epochs,verbose=2)\n",
    "\n",
    "mlp_train_pred=model_mlp.predict(X_train.values)\n",
    "mlp_test_pred=model_mlp.predict(X_test.values)\n",
    "\n",
    "Y_train=pd.DataFrame({'y_true':y_train,'y_pred':\n",
    "                     mlp_train_pred.reshape(mlp_train_pred.shape[0],)}).set_index(X_train.index).sort_index()\n",
    "Y_train=pd.merge(Y_train,X_train,left_index=True,right_index=True,how='left')\n",
    "\n",
    "Y_test=pd.DataFrame({'y_true':y_train,'y_pred':\n",
    "                     mlp_test_pred.reshape(mlp_test_pred.shape[0],)}).set_index(X_test.index).sort_index()\n",
    "Y_test=pd.merge(Y_test,X_test,left_index=True,right_index=True,how='left')"
   ]
  },
  {
   "cell_type": "code",
   "execution_count": 49,
   "id": "2e535a4e",
   "metadata": {},
   "outputs": [],
   "source": [
    "import pandas as pd\n",
    "import seaborn as sns\n",
    "import matplotlib.pyplot as plt\n",
    "%matplotlib inline\n",
    "import numpy as np\n",
    "import pymysql\n",
    "import matplotlib as mpl\n",
    "from sklearn import metrics\n",
    "\n",
    "def scoring(y_true,y_pred):\n",
    "    r2=round(metrics.r2_score(y_true,y_pred)*100,3)\n",
    "    \n",
    "    corr=round(np.corrcoef(y_true,y_pred)[0,1],3)\n",
    "    mape=round(metrics.mean_absolute_percentage_error(y_true,y_pred)*100,3)\n",
    "    rmse=round(metrics.mean_squared_error(y_true,y_pred,squared=False),3)\n",
    "    \n",
    "    df=pd.DataFrame({\n",
    "        'R2':r2,\n",
    "        \"Corr\":corr,\n",
    "        \"RMSE\":rmse,\n",
    "        \"MAPE\":mape\n",
    "    },\n",
    "    index=[0])\n",
    "    return df"
   ]
  },
  {
   "cell_type": "code",
   "execution_count": 50,
   "id": "2f767bac",
   "metadata": {},
   "outputs": [
    {
     "data": {
      "text/html": [
       "<div>\n",
       "<style scoped>\n",
       "    .dataframe tbody tr th:only-of-type {\n",
       "        vertical-align: middle;\n",
       "    }\n",
       "\n",
       "    .dataframe tbody tr th {\n",
       "        vertical-align: top;\n",
       "    }\n",
       "\n",
       "    .dataframe thead th {\n",
       "        text-align: right;\n",
       "    }\n",
       "</style>\n",
       "<table border=\"1\" class=\"dataframe\">\n",
       "  <thead>\n",
       "    <tr style=\"text-align: right;\">\n",
       "      <th></th>\n",
       "      <th>R2</th>\n",
       "      <th>Corr</th>\n",
       "      <th>RMSE</th>\n",
       "      <th>MAPE</th>\n",
       "    </tr>\n",
       "  </thead>\n",
       "  <tbody>\n",
       "    <tr>\n",
       "      <th>0</th>\n",
       "      <td>42.299</td>\n",
       "      <td>0.651</td>\n",
       "      <td>0.759</td>\n",
       "      <td>59.863</td>\n",
       "    </tr>\n",
       "  </tbody>\n",
       "</table>\n",
       "</div>"
      ],
      "text/plain": [
       "       R2   Corr   RMSE    MAPE\n",
       "0  42.299  0.651  0.759  59.863"
      ]
     },
     "execution_count": 50,
     "metadata": {},
     "output_type": "execute_result"
    }
   ],
   "source": [
    "scoring(Y_train.y_true,Y_train.y_pred)"
   ]
  },
  {
   "cell_type": "code",
   "execution_count": 51,
   "id": "a599e064",
   "metadata": {},
   "outputs": [
    {
     "ename": "NameError",
     "evalue": "name 'Y_test' is not defined",
     "output_type": "error",
     "traceback": [
      "\u001b[1;31m---------------------------------------------------------------------------\u001b[0m",
      "\u001b[1;31mNameError\u001b[0m                                 Traceback (most recent call last)",
      "Input \u001b[1;32mIn [51]\u001b[0m, in \u001b[0;36m<cell line: 1>\u001b[1;34m()\u001b[0m\n\u001b[1;32m----> 1\u001b[0m scoring(\u001b[43mY_test\u001b[49m\u001b[38;5;241m.\u001b[39my_true,Y_test\u001b[38;5;241m.\u001b[39my_pred)\n",
      "\u001b[1;31mNameError\u001b[0m: name 'Y_test' is not defined"
     ]
    }
   ],
   "source": [
    "scoring(Y_test.y_true,Y_test.y_pred)"
   ]
  },
  {
   "cell_type": "code",
   "execution_count": null,
   "id": "f397485b",
   "metadata": {},
   "outputs": [],
   "source": []
  }
 ],
 "metadata": {
  "jupytext": {
   "formats": "ipynb,py:light"
  },
  "kernelspec": {
   "display_name": "Python 3 (ipykernel)",
   "language": "python",
   "name": "python3"
  },
  "language_info": {
   "codemirror_mode": {
    "name": "ipython",
    "version": 3
   },
   "file_extension": ".py",
   "mimetype": "text/x-python",
   "name": "python",
   "nbconvert_exporter": "python",
   "pygments_lexer": "ipython3",
   "version": "3.9.12"
  }
 },
 "nbformat": 4,
 "nbformat_minor": 5
}
