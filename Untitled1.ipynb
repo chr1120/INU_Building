{
 "cells": [
  {
   "cell_type": "code",
   "execution_count": 1,
   "id": "4888517e",
   "metadata": {},
   "outputs": [
    {
     "data": {
      "text/html": [
       "        <script type=\"text/javascript\">\n",
       "        window.PlotlyConfig = {MathJaxConfig: 'local'};\n",
       "        if (window.MathJax) {MathJax.Hub.Config({SVG: {font: \"STIX-Web\"}});}\n",
       "        if (typeof require !== 'undefined') {\n",
       "        require.undef(\"plotly\");\n",
       "        requirejs.config({\n",
       "            paths: {\n",
       "                'plotly': ['https://cdn.plot.ly/plotly-2.9.0.min']\n",
       "            }\n",
       "        });\n",
       "        require(['plotly'], function(Plotly) {\n",
       "            window._Plotly = Plotly;\n",
       "        });\n",
       "        }\n",
       "        </script>\n",
       "        "
      ]
     },
     "metadata": {},
     "output_type": "display_data"
    }
   ],
   "source": [
    "#https://leedakyeong.tistory.com/entry/Deep-Learning-for-Time-Series-Forecasting-kaggle\n",
    "import warnings\n",
    "import numpy as np\n",
    "import pandas as pd\n",
    "import matplotlib.pyplot as plt\n",
    "import tensorflow\n",
    "from tensorflow.keras import optimizers\n",
    "from tensorflow.keras.utils import plot_model\n",
    "from tensorflow.keras.models import Sequential,Model\n",
    "from tensorflow.keras.layers import Conv1D, MaxPooling1D\n",
    "from tensorflow.keras.layers import Dense, LSTM, RepeatVector, TimeDistributed, Flatten\n",
    "from sklearn.metrics import mean_squared_error\n",
    "from sklearn.model_selection import train_test_split\n",
    "import plotly.graph_objs as go\n",
    "from plotly.offline import init_notebook_mode, iplot\n",
    "\n",
    "%matplotlib inline\n",
    "warnings.filterwarnings(\"ignore\")\n",
    "init_notebook_mode(connected=True)\n",
    "\n",
    "#Set seeds to make the experiment more reproducible\n",
    "from numpy.random import seed\n",
    "tensorflow.random.set_seed(1)\n",
    "seed(1)"
   ]
  },
  {
   "cell_type": "code",
   "execution_count": null,
   "id": "b116b7da",
   "metadata": {},
   "outputs": [],
   "source": [
    "# https://blog.naver.com/chromatic_365/222657670527\n",
    "import pandas as pd\n",
    "import seaborn as sns\n",
    "import matplotlib.pyplot as plt\n",
    "%matplotlib inline\n",
    "import numpy as np\n",
    "import pymysql\n",
    "import matplotlib as mpl\n",
    "\n",
    "# mysql db 연동\n",
    "db = pymysql.connect(host='127.0.0.1',password='gkftndlTek!!',user='root',db='tp',charset='utf8', \n",
    "    cursorclass=pymysql.cursors.DictCursor)\n",
    "\n",
    "cursor = db.cursor()\n",
    "\n",
    "query = \"select DATETIME, PU1, TE1, P1 from wholeData where DATETIME between '2014-01-01 00:00:00' and '2016-12-31 23:00:00'\"\n",
    "cursor.execute(query)\n",
    "db_export = cursor.fetchall()\n",
    "\n",
    "tp=pd.DataFrame(db_export)\n",
    "#db_result_df = db_result_df.drop([db_result_df.columns[0]], axis=1) # 중복 index열 삭제\n",
    "\n",
    "# scaling\n",
    "def standard_scaling(df, scale_columns):\n",
    "    for col in scale_columns:\n",
    "        series_mean = df[col].mean()\n",
    "        series_std = df[col].std()\n",
    "        df[col] = df[col].apply(lambda x: (x-series_mean)/series_std)\n",
    "    return df\n",
    "scale_columns = ['PU1', 'TE1', 'P1']\n",
    "\n",
    "tp_df=standard_scaling(tp, scale_columns)\n",
    "tp_df\n",
    "\n",
    "tp_df.index=tp_df['DATETIME']\n",
    "tp_df.set_index('DATETIME', inplace=True)\n",
    "tp_df.plot()\n",
    "plt.show()\n",
    "\n",
    "# 5. Train/Valudation Split\n",
    "from sklearn import linear_model\n",
    "from sklearn.model_selection import train_test_split\n",
    "from sklearn.metrics import mean_squared_error\n",
    "from math import sqrt\n",
    "\n",
    "# 학습 데이터와 테스트 데이터로 분리한다.\n",
    "# 'PU1'를 제외한 칼럼들은 x\n",
    "x=tp_df[tp_df.columns.difference(['TE1'])]\n",
    "\n",
    "y=tp_df['TE1']\n",
    "\n",
    "# 검증(test)는 20%로 한다. = test_size=0.4\n",
    "X_train, X_test, y_train, y_test=train_test_split(x,y,test_size=0.4,random_state=19)"
   ]
  }
 ],
 "metadata": {
  "jupytext": {
   "formats": "ipynb,py:light"
  },
  "kernelspec": {
   "display_name": "Python 3 (ipykernel)",
   "language": "python",
   "name": "python3"
  },
  "language_info": {
   "codemirror_mode": {
    "name": "ipython",
    "version": 3
   },
   "file_extension": ".py",
   "mimetype": "text/x-python",
   "name": "python",
   "nbconvert_exporter": "python",
   "pygments_lexer": "ipython3",
   "version": "3.9.12"
  }
 },
 "nbformat": 4,
 "nbformat_minor": 5
}
