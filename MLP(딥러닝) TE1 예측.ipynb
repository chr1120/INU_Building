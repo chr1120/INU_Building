{
 "cells": [
  {
   "cell_type": "code",
   "execution_count": 2,
   "id": "4b8f042c",
   "metadata": {},
   "outputs": [
    {
     "data": {
      "text/html": [
       "        <script type=\"text/javascript\">\n",
       "        window.PlotlyConfig = {MathJaxConfig: 'local'};\n",
       "        if (window.MathJax) {MathJax.Hub.Config({SVG: {font: \"STIX-Web\"}});}\n",
       "        if (typeof require !== 'undefined') {\n",
       "        require.undef(\"plotly\");\n",
       "        requirejs.config({\n",
       "            paths: {\n",
       "                'plotly': ['https://cdn.plot.ly/plotly-2.9.0.min']\n",
       "            }\n",
       "        });\n",
       "        require(['plotly'], function(Plotly) {\n",
       "            window._Plotly = Plotly;\n",
       "        });\n",
       "        }\n",
       "        </script>\n",
       "        "
      ]
     },
     "metadata": {},
     "output_type": "display_data"
    }
   ],
   "source": [
    "#https://leedakyeong.tistory.com/entry/Deep-Learning-for-Time-Series-Forecasting-kaggle\n",
    "import warnings\n",
    "import numpy as np\n",
    "import pandas as pd\n",
    "import matplotlib.pyplot as plt\n",
    "import tensorflow\n",
    "from tensorflow.keras import optimizers\n",
    "from tensorflow.keras.utils import plot_model\n",
    "from tensorflow.keras.models import Sequential,Model\n",
    "from tensorflow.keras.layers import Conv1D, MaxPooling1D\n",
    "from tensorflow.keras.layers import Dense, LSTM, RepeatVector, TimeDistributed, Flatten\n",
    "from sklearn.metrics import mean_squared_error\n",
    "from sklearn.model_selection import train_test_split\n",
    "import plotly.graph_objs as go\n",
    "from plotly.offline import init_notebook_mode, iplot\n",
    "\n",
    "%matplotlib inline\n",
    "warnings.filterwarnings(\"ignore\")\n",
    "init_notebook_mode(connected=True)\n",
    "\n",
    "#Set seeds to make the experiment more reproducible\n",
    "from numpy.random import seed\n",
    "tensorflow.random.set_seed(1)\n",
    "seed(1)"
   ]
  },
  {
   "cell_type": "code",
   "execution_count": 3,
   "id": "b38d3e11",
   "metadata": {},
   "outputs": [
    {
     "data": {
      "image/png": "[encoded data removed]",
      "text/plain": [
       "<Figure size 432x288 with 1 Axes>"
      ]
     },
     "metadata": {
      "needs_background": "light"
     },
     "output_type": "display_data"
    }
   ],
   "source": [
    "# https://blog.naver.com/chromatic_365/222657670527\n",
    "import pandas as pd\n",
    "import seaborn as sns\n",
    "import matplotlib.pyplot as plt\n",
    "%matplotlib inline\n",
    "import numpy as np\n",
    "import pymysql\n",
    "import matplotlib as mpl\n",
    "\n",
    "# mysql db 연동\n",
    "db = pymysql.connect(host='127.0.0.1',password='gkftndlTek!!',user='root',db='tp',charset='utf8', \n",
    "    cursorclass=pymysql.cursors.DictCursor)\n",
    "\n",
    "cursor = db.cursor()\n",
    "\n",
    "query = \"select DATETIME, PU1, TE1, P1 from wholeData where DATETIME between '2014-01-01 00:00:00' and '2016-12-31 23:00:00'\"\n",
    "cursor.execute(query)\n",
    "db_export = cursor.fetchall()\n",
    "\n",
    "tp=pd.DataFrame(db_export)\n",
    "#db_result_df = db_result_df.drop([db_result_df.columns[0]], axis=1) # 중복 index열 삭제\n",
    "\n",
    "# scaling\n",
    "def standard_scaling(df, scale_columns):\n",
    "    for col in scale_columns:\n",
    "        series_mean = df[col].mean()\n",
    "        series_std = df[col].std()\n",
    "        df[col] = df[col].apply(lambda x: (x-series_mean)/series_std)\n",
    "    return df\n",
    "scale_columns = ['PU1', 'TE1', 'P1']\n",
    "\n",
    "tp_df=standard_scaling(tp, scale_columns)\n",
    "tp_df\n",
    "\n",
    "tp_df.index=tp_df['DATETIME']\n",
    "tp_df.set_index('DATETIME', inplace=True)\n",
    "tp_df.plot()\n",
    "plt.show()\n",
    "\n",
    "# 5. Train/Valudation Split\n",
    "from sklearn import linear_model\n",
    "from sklearn.model_selection import train_test_split\n",
    "from sklearn.metrics import mean_squared_error\n",
    "from math import sqrt\n",
    "\n",
    "# 학습 데이터와 테스트 데이터로 분리한다.\n",
    "# 'PU1'를 제외한 칼럼들은 x\n",
    "x=tp_df[tp_df.columns.difference(['TE1'])]\n",
    "\n",
    "y=tp_df['TE1']\n",
    "\n",
    "# 검증(test)는 20%로 한다. = test_size=0.4\n",
    "X_train, X_test, y_train, y_test=train_test_split(x,y,test_size=0.4,random_state=19)"
   ]
  },
  {
   "cell_type": "code",
   "execution_count": 4,
   "id": "f82380ec",
   "metadata": {},
   "outputs": [
    {
     "name": "stdout",
     "output_type": "stream",
     "text": [
      "Train set shape (15758, 2)\n",
      "Test set shape (10506, 2)\n"
     ]
    }
   ],
   "source": [
    "print('Train set shape', X_train.shape)\n",
    "print('Test set shape',X_test.shape)"
   ]
  },
  {
   "cell_type": "code",
   "execution_count": 5,
   "id": "51cb96cb",
   "metadata": {},
   "outputs": [],
   "source": [
    "# 40번 반복학습하고, 한번에 256개씩 학습하며, learning rate는 0.0003으로 설정\n",
    "# optimizer는 adam을 사용\n",
    "epochs=40\n",
    "batch=256\n",
    "lr=0.0003\n",
    "adam=optimizers.Adam(lr)\n",
    "\n",
    "# Model Architecture\n",
    "model_mlp=Sequential()\n",
    "model_mlp.add(Dense(100, activation='relu', input_dim=X_train.shape[1]))\n",
    "model_mlp.add(Dense(1))\n",
    "model_mlp.compile(loss='mse',optimizer=adam)"
   ]
  },
  {
   "cell_type": "code",
   "execution_count": 6,
   "id": "9a3ffce5",
   "metadata": {},
   "outputs": [
    {
     "name": "stdout",
     "output_type": "stream",
     "text": [
      "Model: \"sequential\"\n",
      "_________________________________________________________________\n",
      " Layer (type)                Output Shape              Param #   \n",
      "=================================================================\n",
      " dense (Dense)               (None, 100)               300       \n",
      "                                                                 \n",
      " dense_1 (Dense)             (None, 1)                 101       \n",
      "                                                                 \n",
      "=================================================================\n",
      "Total params: 401\n",
      "Trainable params: 401\n",
      "Non-trainable params: 0\n",
      "_________________________________________________________________\n"
     ]
    }
   ],
   "source": [
    "model_mlp.summary()"
   ]
  },
  {
   "cell_type": "code",
   "execution_count": 7,
   "id": "a83aceaf",
   "metadata": {},
   "outputs": [
    {
     "name": "stdout",
     "output_type": "stream",
     "text": [
      "Epoch 1/40\n",
      "493/493 - 1s - loss: 0.8436 - 700ms/epoch - 1ms/step\n",
      "Epoch 2/40\n",
      "493/493 - 0s - loss: 0.7713 - 344ms/epoch - 698us/step\n",
      "Epoch 3/40\n",
      "493/493 - 0s - loss: 0.7358 - 338ms/epoch - 686us/step\n",
      "Epoch 4/40\n",
      "493/493 - 0s - loss: 0.7139 - 340ms/epoch - 690us/step\n",
      "Epoch 5/40\n",
      "493/493 - 0s - loss: 0.7000 - 345ms/epoch - 700us/step\n",
      "Epoch 6/40\n",
      "493/493 - 0s - loss: 0.6895 - 350ms/epoch - 710us/step\n",
      "Epoch 7/40\n",
      "493/493 - 0s - loss: 0.6816 - 350ms/epoch - 710us/step\n",
      "Epoch 8/40\n",
      "493/493 - 0s - loss: 0.6753 - 347ms/epoch - 704us/step\n",
      "Epoch 9/40\n",
      "493/493 - 0s - loss: 0.6715 - 343ms/epoch - 696us/step\n",
      "Epoch 10/40\n",
      "493/493 - 0s - loss: 0.6680 - 341ms/epoch - 692us/step\n",
      "Epoch 11/40\n",
      "493/493 - 0s - loss: 0.6659 - 340ms/epoch - 690us/step\n",
      "Epoch 12/40\n",
      "493/493 - 0s - loss: 0.6637 - 342ms/epoch - 693us/step\n",
      "Epoch 13/40\n",
      "493/493 - 0s - loss: 0.6633 - 338ms/epoch - 686us/step\n",
      "Epoch 14/40\n",
      "493/493 - 0s - loss: 0.6620 - 341ms/epoch - 692us/step\n",
      "Epoch 15/40\n",
      "493/493 - 0s - loss: 0.6611 - 341ms/epoch - 692us/step\n",
      "Epoch 16/40\n",
      "493/493 - 0s - loss: 0.6604 - 341ms/epoch - 692us/step\n",
      "Epoch 17/40\n",
      "493/493 - 0s - loss: 0.6601 - 339ms/epoch - 688us/step\n",
      "Epoch 18/40\n",
      "493/493 - 0s - loss: 0.6598 - 339ms/epoch - 688us/step\n",
      "Epoch 19/40\n",
      "493/493 - 0s - loss: 0.6589 - 351ms/epoch - 712us/step\n",
      "Epoch 20/40\n",
      "493/493 - 0s - loss: 0.6592 - 347ms/epoch - 704us/step\n",
      "Epoch 21/40\n",
      "493/493 - 0s - loss: 0.6586 - 350ms/epoch - 710us/step\n",
      "Epoch 22/40\n",
      "493/493 - 0s - loss: 0.6584 - 338ms/epoch - 686us/step\n",
      "Epoch 23/40\n",
      "493/493 - 0s - loss: 0.6581 - 339ms/epoch - 687us/step\n",
      "Epoch 24/40\n",
      "493/493 - 0s - loss: 0.6585 - 337ms/epoch - 684us/step\n",
      "Epoch 25/40\n",
      "493/493 - 0s - loss: 0.6580 - 338ms/epoch - 686us/step\n",
      "Epoch 26/40\n",
      "493/493 - 0s - loss: 0.6580 - 339ms/epoch - 688us/step\n",
      "Epoch 27/40\n",
      "493/493 - 0s - loss: 0.6579 - 338ms/epoch - 686us/step\n",
      "Epoch 28/40\n",
      "493/493 - 0s - loss: 0.6576 - 338ms/epoch - 686us/step\n",
      "Epoch 29/40\n",
      "493/493 - 0s - loss: 0.6574 - 352ms/epoch - 714us/step\n",
      "Epoch 30/40\n",
      "493/493 - 0s - loss: 0.6575 - 348ms/epoch - 706us/step\n",
      "Epoch 31/40\n",
      "493/493 - 0s - loss: 0.6570 - 335ms/epoch - 680us/step\n",
      "Epoch 32/40\n",
      "493/493 - 0s - loss: 0.6571 - 338ms/epoch - 686us/step\n",
      "Epoch 33/40\n",
      "493/493 - 0s - loss: 0.6577 - 345ms/epoch - 700us/step\n",
      "Epoch 34/40\n",
      "493/493 - 0s - loss: 0.6569 - 343ms/epoch - 696us/step\n",
      "Epoch 35/40\n",
      "493/493 - 0s - loss: 0.6570 - 343ms/epoch - 696us/step\n",
      "Epoch 36/40\n",
      "493/493 - 0s - loss: 0.6570 - 339ms/epoch - 688us/step\n",
      "Epoch 37/40\n",
      "493/493 - 0s - loss: 0.6560 - 339ms/epoch - 688us/step\n",
      "Epoch 38/40\n",
      "493/493 - 0s - loss: 0.6567 - 339ms/epoch - 688us/step\n",
      "Epoch 39/40\n",
      "493/493 - 0s - loss: 0.6568 - 337ms/epoch - 684us/step\n",
      "Epoch 40/40\n",
      "493/493 - 0s - loss: 0.6568 - 339ms/epoch - 688us/step\n"
     ]
    }
   ],
   "source": [
    "mlp_history=model_mlp.fit(X_train.values,y_train,epochs=epochs,verbose=2)\n",
    "\n",
    "mlp_train_pred=model_mlp.predict(X_train.values)\n",
    "mlp_test_pred=model_mlp.predict(X_test.values)\n",
    "\n",
    "Y_train=pd.DataFrame({'y_true':y_train,'y_pred':\n",
    "                     mlp_train_pred.reshape(mlp_train_pred.shape[0],)}).set_index(X_train.index).sort_index()\n",
    "Y_train=pd.merge(Y_train,tp_df,left_index=True,right_index=True,how='left')\n",
    "\n",
    "Y_test=pd.DataFrame({'y_true':y_test,'y_pred':\n",
    "                     mlp_test_pred.reshape(mlp_test_pred.shape[0],)}).set_index(X_test.index).sort_index()\n",
    "Y_test=pd.merge(Y_test,tp_df,left_index=True,right_index=True,how='left')"
   ]
  },
  {
   "cell_type": "code",
   "execution_count": 8,
   "id": "0732ee20",
   "metadata": {},
   "outputs": [],
   "source": [
    "import pandas as pd\n",
    "import seaborn as sns\n",
    "import matplotlib.pyplot as plt\n",
    "%matplotlib inline\n",
    "import numpy as np\n",
    "import pymysql\n",
    "import matplotlib as mpl\n",
    "from sklearn import metrics\n",
    "\n",
    "def scoring(y_true,y_pred):\n",
    "    r2=round(metrics.r2_score(y_true,y_pred)*100,3)\n",
    "    \n",
    "    corr=round(np.corrcoef(y_true,y_pred)[0,1],3)\n",
    "    mape=round(metrics.mean_absolute_percentage_error(y_true,y_pred)*100,3)\n",
    "    rmse=round(metrics.mean_squared_error(y_true,y_pred,squared=False),3)\n",
    "    \n",
    "    df=pd.DataFrame({\n",
    "        'R2':r2,\n",
    "        \"Corr\":corr,\n",
    "        \"RMSE\":rmse,\n",
    "        \"MAPE\":mape\n",
    "    },\n",
    "    index=[0])\n",
    "    return df"
   ]
  },
  {
   "cell_type": "code",
   "execution_count": 9,
   "id": "897dcf8a",
   "metadata": {},
   "outputs": [
    {
     "data": {
      "text/html": [
       "<div>\n",
       "<style scoped>\n",
       "    .dataframe tbody tr th:only-of-type {\n",
       "        vertical-align: middle;\n",
       "    }\n",
       "\n",
       "    .dataframe tbody tr th {\n",
       "        vertical-align: top;\n",
       "    }\n",
       "\n",
       "    .dataframe thead th {\n",
       "        text-align: right;\n",
       "    }\n",
       "</style>\n",
       "<table border=\"1\" class=\"dataframe\">\n",
       "  <thead>\n",
       "    <tr style=\"text-align: right;\">\n",
       "      <th></th>\n",
       "      <th>R2</th>\n",
       "      <th>Corr</th>\n",
       "      <th>RMSE</th>\n",
       "      <th>MAPE</th>\n",
       "    </tr>\n",
       "  </thead>\n",
       "  <tbody>\n",
       "    <tr>\n",
       "      <th>0</th>\n",
       "      <td>34.173</td>\n",
       "      <td>0.585</td>\n",
       "      <td>0.811</td>\n",
       "      <td>99.581</td>\n",
       "    </tr>\n",
       "  </tbody>\n",
       "</table>\n",
       "</div>"
      ],
      "text/plain": [
       "       R2   Corr   RMSE    MAPE\n",
       "0  34.173  0.585  0.811  99.581"
      ]
     },
     "execution_count": 9,
     "metadata": {},
     "output_type": "execute_result"
    }
   ],
   "source": [
    "scoring(Y_train.y_true,Y_train.y_pred)"
   ]
  },
  {
   "cell_type": "code",
   "execution_count": 10,
   "id": "6b406be6",
   "metadata": {},
   "outputs": [
    {
     "data": {
      "text/html": [
       "<div>\n",
       "<style scoped>\n",
       "    .dataframe tbody tr th:only-of-type {\n",
       "        vertical-align: middle;\n",
       "    }\n",
       "\n",
       "    .dataframe tbody tr th {\n",
       "        vertical-align: top;\n",
       "    }\n",
       "\n",
       "    .dataframe thead th {\n",
       "        text-align: right;\n",
       "    }\n",
       "</style>\n",
       "<table border=\"1\" class=\"dataframe\">\n",
       "  <thead>\n",
       "    <tr style=\"text-align: right;\">\n",
       "      <th></th>\n",
       "      <th>R2</th>\n",
       "      <th>Corr</th>\n",
       "      <th>RMSE</th>\n",
       "      <th>MAPE</th>\n",
       "    </tr>\n",
       "  </thead>\n",
       "  <tbody>\n",
       "    <tr>\n",
       "      <th>0</th>\n",
       "      <td>33.727</td>\n",
       "      <td>0.581</td>\n",
       "      <td>0.814</td>\n",
       "      <td>89.438</td>\n",
       "    </tr>\n",
       "  </tbody>\n",
       "</table>\n",
       "</div>"
      ],
      "text/plain": [
       "       R2   Corr   RMSE    MAPE\n",
       "0  33.727  0.581  0.814  89.438"
      ]
     },
     "execution_count": 10,
     "metadata": {},
     "output_type": "execute_result"
    }
   ],
   "source": [
    "scoring(Y_test.y_true,Y_test.y_pred)"
   ]
  },
  {
   "cell_type": "code",
   "execution_count": 35,
   "id": "9fa45626",
   "metadata": {},
   "outputs": [
    {
     "name": "stdout",
     "output_type": "stream",
     "text": [
      "Obs of Test Set : 3383\n"
     ]
    }
   ],
   "source": [
    "temp=Y_test.loc[(Y_test.PU1<=1)&(Y_test.TE1>=-1)&(Y_test.P1>=0),].sort_values('DATETIME')\n",
    "#temp=Y_test.sort_values('DATETIME')\n",
    "print(\"Obs of Test Set :\",temp.shape[0])"
   ]
  },
  {
   "cell_type": "code",
   "execution_count": 36,
   "id": "4aeb614b",
   "metadata": {},
   "outputs": [],
   "source": [
    "def abline(slope,intercept):\n",
    "    axes=plt.gca()\n",
    "    x_vals=np.array(axes.get_xlim())\n",
    "    y_vals=intercept+slope*x_vals\n",
    "    plt.plot(x_vals,y_vals,'--')\n",
    "    \n",
    "def MinMax(y_true,y_pred,m=\"min\"):\n",
    "    if(m==\"min\"):\n",
    "        return min(min(y_true),min(y_pred))-2\n",
    "    else:\n",
    "        return max(max(y_true),max(y_pred))+2\n",
    "    \n",
    "def myGraph(temp,title,index):\n",
    "    fig,axs=plt.subplots(1,2,figsize=(17,4))\n",
    "\n",
    "    axs[0].plot(temp.index,temp.y_true,label=\"Original\")\n",
    "    axs[0].plot(temp.index,temp.y_pred,label=\"Predicted\")\n",
    "    \n",
    "    axs[0].legend(loc='upper right')\n",
    "    axs[0].title.set_text('TE1_predicted')\n",
    "    axs[0].set_xlabel(\"DATETIME\")\n",
    "    axs[0].set_ylabel(\"TE1\")\n",
    "    \n",
    "    axs[1].plot(temp.y_true,temp.y_pred,'.')\n",
    "    \n",
    "    plt.xlim(MinMax(temp.y_true,temp.y_pred),MinMax(temp.y_true,temp.y_pred,\"max\"))\n",
    "\n",
    "    plt.ylim(MinMax(temp.y_true,temp.y_pred),MinMax(temp.y_true,temp.y_pred,\"max\"))\n",
    "    abline(1,0)\n",
    "    plt.title('TE1_predicted')\n",
    "    plt.xlabel(\"Original\")\n",
    "    plt.ylabel(\"Predicted\")\n",
    "\n",
    "    plt.show()"
   ]
  },
  {
   "cell_type": "code",
   "execution_count": 37,
   "id": "930b6883",
   "metadata": {},
   "outputs": [
    {
     "data": {
      "image/png": "[encoded data removed]",
      "text/plain": [
       "<Figure size 1224x288 with 2 Axes>"
      ]
     },
     "metadata": {
      "needs_background": "light"
     },
     "output_type": "display_data"
    }
   ],
   "source": [
    "myGraph(temp,'hi','DATETIME')"
   ]
  },
  {
   "cell_type": "code",
   "execution_count": 38,
   "id": "d52f80c0",
   "metadata": {},
   "outputs": [
    {
     "data": {
      "text/html": [
       "<div>\n",
       "<style scoped>\n",
       "    .dataframe tbody tr th:only-of-type {\n",
       "        vertical-align: middle;\n",
       "    }\n",
       "\n",
       "    .dataframe tbody tr th {\n",
       "        vertical-align: top;\n",
       "    }\n",
       "\n",
       "    .dataframe thead th {\n",
       "        text-align: right;\n",
       "    }\n",
       "</style>\n",
       "<table border=\"1\" class=\"dataframe\">\n",
       "  <thead>\n",
       "    <tr style=\"text-align: right;\">\n",
       "      <th></th>\n",
       "      <th>y_true</th>\n",
       "      <th>y_pred</th>\n",
       "      <th>PU1</th>\n",
       "      <th>TE1</th>\n",
       "      <th>P1</th>\n",
       "    </tr>\n",
       "    <tr>\n",
       "      <th>DATETIME</th>\n",
       "      <th></th>\n",
       "      <th></th>\n",
       "      <th></th>\n",
       "      <th></th>\n",
       "      <th></th>\n",
       "    </tr>\n",
       "  </thead>\n",
       "  <tbody>\n",
       "    <tr>\n",
       "      <th>2014-01-01 01:00:00</th>\n",
       "      <td>1.606523</td>\n",
       "      <td>-0.055727</td>\n",
       "      <td>-0.522399</td>\n",
       "      <td>1.606523</td>\n",
       "      <td>0.427554</td>\n",
       "    </tr>\n",
       "    <tr>\n",
       "      <th>2014-01-01 02:00:00</th>\n",
       "      <td>1.592964</td>\n",
       "      <td>-0.055727</td>\n",
       "      <td>-0.522399</td>\n",
       "      <td>1.592964</td>\n",
       "      <td>0.427554</td>\n",
       "    </tr>\n",
       "    <tr>\n",
       "      <th>2014-01-01 03:00:00</th>\n",
       "      <td>1.606523</td>\n",
       "      <td>0.031605</td>\n",
       "      <td>-0.522399</td>\n",
       "      <td>1.606523</td>\n",
       "      <td>0.590019</td>\n",
       "    </tr>\n",
       "    <tr>\n",
       "      <th>2014-01-01 07:00:00</th>\n",
       "      <td>1.606523</td>\n",
       "      <td>0.031605</td>\n",
       "      <td>-0.522399</td>\n",
       "      <td>1.606523</td>\n",
       "      <td>0.590019</td>\n",
       "    </tr>\n",
       "    <tr>\n",
       "      <th>2014-01-01 11:00:00</th>\n",
       "      <td>1.606523</td>\n",
       "      <td>-0.023542</td>\n",
       "      <td>-0.522399</td>\n",
       "      <td>1.606523</td>\n",
       "      <td>0.752483</td>\n",
       "    </tr>\n",
       "    <tr>\n",
       "      <th>...</th>\n",
       "      <td>...</td>\n",
       "      <td>...</td>\n",
       "      <td>...</td>\n",
       "      <td>...</td>\n",
       "      <td>...</td>\n",
       "    </tr>\n",
       "    <tr>\n",
       "      <th>2016-12-22 06:00:00</th>\n",
       "      <td>2.094654</td>\n",
       "      <td>0.001173</td>\n",
       "      <td>-0.522399</td>\n",
       "      <td>2.094654</td>\n",
       "      <td>0.508787</td>\n",
       "    </tr>\n",
       "    <tr>\n",
       "      <th>2016-12-23 21:00:00</th>\n",
       "      <td>1.443813</td>\n",
       "      <td>0.001173</td>\n",
       "      <td>-0.522399</td>\n",
       "      <td>1.443813</td>\n",
       "      <td>0.508787</td>\n",
       "    </tr>\n",
       "    <tr>\n",
       "      <th>2016-12-25 07:00:00</th>\n",
       "      <td>1.565846</td>\n",
       "      <td>0.004031</td>\n",
       "      <td>-0.522399</td>\n",
       "      <td>1.565846</td>\n",
       "      <td>0.671251</td>\n",
       "    </tr>\n",
       "    <tr>\n",
       "      <th>2016-12-27 08:00:00</th>\n",
       "      <td>1.376017</td>\n",
       "      <td>-0.023542</td>\n",
       "      <td>-0.522399</td>\n",
       "      <td>1.376017</td>\n",
       "      <td>0.752483</td>\n",
       "    </tr>\n",
       "    <tr>\n",
       "      <th>2016-12-31 07:00:00</th>\n",
       "      <td>1.640421</td>\n",
       "      <td>-0.265502</td>\n",
       "      <td>-0.522399</td>\n",
       "      <td>1.640421</td>\n",
       "      <td>0.102626</td>\n",
       "    </tr>\n",
       "  </tbody>\n",
       "</table>\n",
       "<p>3383 rows × 5 columns</p>\n",
       "</div>"
      ],
      "text/plain": [
       "                       y_true    y_pred       PU1       TE1        P1\n",
       "DATETIME                                                             \n",
       "2014-01-01 01:00:00  1.606523 -0.055727 -0.522399  1.606523  0.427554\n",
       "2014-01-01 02:00:00  1.592964 -0.055727 -0.522399  1.592964  0.427554\n",
       "2014-01-01 03:00:00  1.606523  0.031605 -0.522399  1.606523  0.590019\n",
       "2014-01-01 07:00:00  1.606523  0.031605 -0.522399  1.606523  0.590019\n",
       "2014-01-01 11:00:00  1.606523 -0.023542 -0.522399  1.606523  0.752483\n",
       "...                       ...       ...       ...       ...       ...\n",
       "2016-12-22 06:00:00  2.094654  0.001173 -0.522399  2.094654  0.508787\n",
       "2016-12-23 21:00:00  1.443813  0.001173 -0.522399  1.443813  0.508787\n",
       "2016-12-25 07:00:00  1.565846  0.004031 -0.522399  1.565846  0.671251\n",
       "2016-12-27 08:00:00  1.376017 -0.023542 -0.522399  1.376017  0.752483\n",
       "2016-12-31 07:00:00  1.640421 -0.265502 -0.522399  1.640421  0.102626\n",
       "\n",
       "[3383 rows x 5 columns]"
      ]
     },
     "execution_count": 38,
     "metadata": {},
     "output_type": "execute_result"
    }
   ],
   "source": [
    "temp"
   ]
  },
  {
   "cell_type": "code",
   "execution_count": null,
   "id": "02354ac1",
   "metadata": {},
   "outputs": [],
   "source": []
  }
 ],
 "metadata": {
  "jupytext": {
   "formats": "ipynb,py:light"
  },
  "kernelspec": {
   "display_name": "Python 3 (ipykernel)",
   "language": "python",
   "name": "python3"
  },
  "language_info": {
   "codemirror_mode": {
    "name": "ipython",
    "version": 3
   },
   "file_extension": ".py",
   "mimetype": "text/x-python",
   "name": "python",
   "nbconvert_exporter": "python",
   "pygments_lexer": "ipython3",
   "version": "3.9.12"
  }
 },
 "nbformat": 4,
 "nbformat_minor": 5
}
